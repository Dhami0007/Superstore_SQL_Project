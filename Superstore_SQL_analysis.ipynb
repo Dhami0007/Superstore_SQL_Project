{
 "cells": [
  {
   "cell_type": "markdown",
   "metadata": {},
   "source": [
    "# ETL Project Using Python and SQL for Superstore Data\n",
    "\n",
    "In this project, I will extract the superstore data in CSV form, Transform the data to be Parsed into Database, and Load the data in SQL database. <br>\n",
    "This project will also include:\n",
    "1. Data Infrastructure development in SQL \n",
    "2. Data Modelling in SQL\n",
    "3. Data Population into SQL Database"
   ]
  },
  {
   "cell_type": "code",
   "execution_count": 1,
   "metadata": {},
   "outputs": [],
   "source": [
    "import pandas as pd"
   ]
  },
  {
   "cell_type": "code",
   "execution_count": 2,
   "metadata": {},
   "outputs": [],
   "source": [
    "data = pd.read_csv('Superstore_data.csv')\n",
    "df = pd.DataFrame(data)"
   ]
  },
  {
   "cell_type": "code",
   "execution_count": 3,
   "metadata": {},
   "outputs": [
    {
     "data": {
      "text/html": [
       "<div>\n",
       "<style scoped>\n",
       "    .dataframe tbody tr th:only-of-type {\n",
       "        vertical-align: middle;\n",
       "    }\n",
       "\n",
       "    .dataframe tbody tr th {\n",
       "        vertical-align: top;\n",
       "    }\n",
       "\n",
       "    .dataframe thead th {\n",
       "        text-align: right;\n",
       "    }\n",
       "</style>\n",
       "<table border=\"1\" class=\"dataframe\">\n",
       "  <thead>\n",
       "    <tr style=\"text-align: right;\">\n",
       "      <th></th>\n",
       "      <th>Row ID</th>\n",
       "      <th>Order ID</th>\n",
       "      <th>Order Date</th>\n",
       "      <th>Ship Date</th>\n",
       "      <th>Ship Mode</th>\n",
       "      <th>Customer ID</th>\n",
       "      <th>Customer Name</th>\n",
       "      <th>Segment</th>\n",
       "      <th>Country</th>\n",
       "      <th>City</th>\n",
       "      <th>State</th>\n",
       "      <th>Postal Code</th>\n",
       "      <th>Region</th>\n",
       "      <th>Product ID</th>\n",
       "      <th>Category</th>\n",
       "      <th>Sub-Category</th>\n",
       "      <th>Product Name</th>\n",
       "      <th>Sales</th>\n",
       "    </tr>\n",
       "  </thead>\n",
       "  <tbody>\n",
       "    <tr>\n",
       "      <th>0</th>\n",
       "      <td>1</td>\n",
       "      <td>CA-2017-152156</td>\n",
       "      <td>08/11/2017</td>\n",
       "      <td>11/11/2017</td>\n",
       "      <td>Second Class</td>\n",
       "      <td>CG-12520</td>\n",
       "      <td>Claire Gute</td>\n",
       "      <td>Consumer</td>\n",
       "      <td>United States</td>\n",
       "      <td>Henderson</td>\n",
       "      <td>Kentucky</td>\n",
       "      <td>42420.0</td>\n",
       "      <td>South</td>\n",
       "      <td>FUR-BO-10001798</td>\n",
       "      <td>Furniture</td>\n",
       "      <td>Bookcases</td>\n",
       "      <td>Bush Somerset Collection Bookcase</td>\n",
       "      <td>261.9600</td>\n",
       "    </tr>\n",
       "    <tr>\n",
       "      <th>1</th>\n",
       "      <td>2</td>\n",
       "      <td>CA-2017-152156</td>\n",
       "      <td>08/11/2017</td>\n",
       "      <td>11/11/2017</td>\n",
       "      <td>Second Class</td>\n",
       "      <td>CG-12520</td>\n",
       "      <td>Claire Gute</td>\n",
       "      <td>Consumer</td>\n",
       "      <td>United States</td>\n",
       "      <td>Henderson</td>\n",
       "      <td>Kentucky</td>\n",
       "      <td>42420.0</td>\n",
       "      <td>South</td>\n",
       "      <td>FUR-CH-10000454</td>\n",
       "      <td>Furniture</td>\n",
       "      <td>Chairs</td>\n",
       "      <td>Hon Deluxe Fabric Upholstered Stacking Chairs,...</td>\n",
       "      <td>731.9400</td>\n",
       "    </tr>\n",
       "    <tr>\n",
       "      <th>2</th>\n",
       "      <td>3</td>\n",
       "      <td>CA-2017-138688</td>\n",
       "      <td>12/06/2017</td>\n",
       "      <td>16/06/2017</td>\n",
       "      <td>Second Class</td>\n",
       "      <td>DV-13045</td>\n",
       "      <td>Darrin Van Huff</td>\n",
       "      <td>Corporate</td>\n",
       "      <td>United States</td>\n",
       "      <td>Los Angeles</td>\n",
       "      <td>California</td>\n",
       "      <td>90036.0</td>\n",
       "      <td>West</td>\n",
       "      <td>OFF-LA-10000240</td>\n",
       "      <td>Office Supplies</td>\n",
       "      <td>Labels</td>\n",
       "      <td>Self-Adhesive Address Labels for Typewriters b...</td>\n",
       "      <td>14.6200</td>\n",
       "    </tr>\n",
       "    <tr>\n",
       "      <th>3</th>\n",
       "      <td>4</td>\n",
       "      <td>US-2016-108966</td>\n",
       "      <td>11/10/2016</td>\n",
       "      <td>18/10/2016</td>\n",
       "      <td>Standard Class</td>\n",
       "      <td>SO-20335</td>\n",
       "      <td>Sean O'Donnell</td>\n",
       "      <td>Consumer</td>\n",
       "      <td>United States</td>\n",
       "      <td>Fort Lauderdale</td>\n",
       "      <td>Florida</td>\n",
       "      <td>33311.0</td>\n",
       "      <td>South</td>\n",
       "      <td>FUR-TA-10000577</td>\n",
       "      <td>Furniture</td>\n",
       "      <td>Tables</td>\n",
       "      <td>Bretford CR4500 Series Slim Rectangular Table</td>\n",
       "      <td>957.5775</td>\n",
       "    </tr>\n",
       "    <tr>\n",
       "      <th>4</th>\n",
       "      <td>5</td>\n",
       "      <td>US-2016-108966</td>\n",
       "      <td>11/10/2016</td>\n",
       "      <td>18/10/2016</td>\n",
       "      <td>Standard Class</td>\n",
       "      <td>SO-20335</td>\n",
       "      <td>Sean O'Donnell</td>\n",
       "      <td>Consumer</td>\n",
       "      <td>United States</td>\n",
       "      <td>Fort Lauderdale</td>\n",
       "      <td>Florida</td>\n",
       "      <td>33311.0</td>\n",
       "      <td>South</td>\n",
       "      <td>OFF-ST-10000760</td>\n",
       "      <td>Office Supplies</td>\n",
       "      <td>Storage</td>\n",
       "      <td>Eldon Fold 'N Roll Cart System</td>\n",
       "      <td>22.3680</td>\n",
       "    </tr>\n",
       "  </tbody>\n",
       "</table>\n",
       "</div>"
      ],
      "text/plain": [
       "   Row ID        Order ID  Order Date   Ship Date       Ship Mode Customer ID  \\\n",
       "0       1  CA-2017-152156  08/11/2017  11/11/2017    Second Class    CG-12520   \n",
       "1       2  CA-2017-152156  08/11/2017  11/11/2017    Second Class    CG-12520   \n",
       "2       3  CA-2017-138688  12/06/2017  16/06/2017    Second Class    DV-13045   \n",
       "3       4  US-2016-108966  11/10/2016  18/10/2016  Standard Class    SO-20335   \n",
       "4       5  US-2016-108966  11/10/2016  18/10/2016  Standard Class    SO-20335   \n",
       "\n",
       "     Customer Name    Segment        Country             City       State  \\\n",
       "0      Claire Gute   Consumer  United States        Henderson    Kentucky   \n",
       "1      Claire Gute   Consumer  United States        Henderson    Kentucky   \n",
       "2  Darrin Van Huff  Corporate  United States      Los Angeles  California   \n",
       "3   Sean O'Donnell   Consumer  United States  Fort Lauderdale     Florida   \n",
       "4   Sean O'Donnell   Consumer  United States  Fort Lauderdale     Florida   \n",
       "\n",
       "   Postal Code Region       Product ID         Category Sub-Category  \\\n",
       "0      42420.0  South  FUR-BO-10001798        Furniture    Bookcases   \n",
       "1      42420.0  South  FUR-CH-10000454        Furniture       Chairs   \n",
       "2      90036.0   West  OFF-LA-10000240  Office Supplies       Labels   \n",
       "3      33311.0  South  FUR-TA-10000577        Furniture       Tables   \n",
       "4      33311.0  South  OFF-ST-10000760  Office Supplies      Storage   \n",
       "\n",
       "                                        Product Name     Sales  \n",
       "0                  Bush Somerset Collection Bookcase  261.9600  \n",
       "1  Hon Deluxe Fabric Upholstered Stacking Chairs,...  731.9400  \n",
       "2  Self-Adhesive Address Labels for Typewriters b...   14.6200  \n",
       "3      Bretford CR4500 Series Slim Rectangular Table  957.5775  \n",
       "4                     Eldon Fold 'N Roll Cart System   22.3680  "
      ]
     },
     "execution_count": 3,
     "metadata": {},
     "output_type": "execute_result"
    }
   ],
   "source": [
    "df.head()"
   ]
  },
  {
   "cell_type": "code",
   "execution_count": 4,
   "metadata": {},
   "outputs": [
    {
     "data": {
      "text/plain": [
       "['Row ID',\n",
       " 'Order ID',\n",
       " 'Order Date',\n",
       " 'Ship Date',\n",
       " 'Ship Mode',\n",
       " 'Customer ID',\n",
       " 'Customer Name',\n",
       " 'Segment',\n",
       " 'Country',\n",
       " 'City',\n",
       " 'State',\n",
       " 'Postal Code',\n",
       " 'Region',\n",
       " 'Product ID',\n",
       " 'Category',\n",
       " 'Sub-Category',\n",
       " 'Product Name',\n",
       " 'Sales']"
      ]
     },
     "execution_count": 4,
     "metadata": {},
     "output_type": "execute_result"
    }
   ],
   "source": [
    "list(df.columns)"
   ]
  },
  {
   "cell_type": "markdown",
   "metadata": {},
   "source": [
    "From this list of columns, we can see that this sales data can be normalized. <br>\n",
    "This means:\n",
    "1. Customer ID, Customer Name, Segment, Country, City, State, Postal Code can become a separate table named \"Customers\"\n",
    "2. Product ID, Category, and Sub-Category can become a separate table named \"Products\"\n",
    "\n",
    "Also, we can also notice that we do not really need Row ID. The column Invoice ID is good enough column to become primary key for \"Sales\" table."
   ]
  },
  {
   "cell_type": "markdown",
   "metadata": {},
   "source": [
    "# Data Infrastructure\n",
    "\n",
    "As the name of the project suggests, I will be transferring the data to SQL. For that, I will have to use appropriate libraries in python to create a connection with SQL database. "
   ]
  },
  {
   "cell_type": "code",
   "execution_count": 5,
   "metadata": {},
   "outputs": [],
   "source": [
    "# importing connector\n",
    "import mysql.connector\n",
    "import os\n",
    "from dotenv import load_dotenv"
   ]
  },
  {
   "cell_type": "code",
   "execution_count": 6,
   "metadata": {},
   "outputs": [],
   "source": [
    "load_dotenv()\n",
    "db_user = os.getenv('DB_USER')\n",
    "db_password = os.getenv('DB_PASSWORD')\n",
    "\n",
    "# Establishing the connection\n",
    "try:\n",
    "    conn = mysql.connector.connect(\n",
    "        host= \"127.0.0.1\",\n",
    "        port= \"3306\",\n",
    "        user= db_user,\n",
    "        password= db_password,\n",
    "    )\n",
    "except mysql.connector.Error as e:\n",
    "    print(f\"Error: {e}\")"
   ]
  },
  {
   "cell_type": "code",
   "execution_count": 7,
   "metadata": {},
   "outputs": [],
   "source": [
    "# creating cursor\n",
    "cursor = conn.cursor()"
   ]
  },
  {
   "cell_type": "code",
   "execution_count": 8,
   "metadata": {},
   "outputs": [
    {
     "name": "stdout",
     "output_type": "stream",
     "text": [
      "('information_schema',)\n",
      "('mysql',)\n",
      "('parks_and_recreation',)\n",
      "('performance_schema',)\n",
      "('sakila',)\n",
      "('superstore_db',)\n",
      "('sys',)\n",
      "('world',)\n"
     ]
    }
   ],
   "source": [
    "# Testing the connection\n",
    "# Let us list all the Schemas/Databases in MySQL\n",
    "cursor.execute(\"SHOW DATABASES\")\n",
    "dbs = cursor.fetchall()\n",
    "for db in dbs:\n",
    "    print(db)"
   ]
  },
  {
   "cell_type": "markdown",
   "metadata": {},
   "source": [
    "Our connection is set up. Now, Let us create separate Database for our Superstore Data."
   ]
  },
  {
   "cell_type": "code",
   "execution_count": 9,
   "metadata": {},
   "outputs": [],
   "source": [
    "# creating Database\n",
    "cursor.execute(\"CREATE SCHEMA IF NOT EXISTS superstore_db\")"
   ]
  },
  {
   "cell_type": "markdown",
   "metadata": {},
   "source": [
    "Now our Data Infrastructure is set up. Let us move to Data modelling now."
   ]
  },
  {
   "cell_type": "markdown",
   "metadata": {},
   "source": [
    "# Data Modelling\n",
    "Now we will be creating the tables we discussed above:\n",
    "1. Products\n",
    "2. Customers\n",
    "3. Sales\n",
    "\n",
    "For making Data modelling easier, I will be using [Quick DBD](https://www.quickdatabasediagrams.com/) platform which is efficient for data modelling in SQL.<br>The schema generated is present in the \"quickDB_schema.txt\" file"
   ]
  },
  {
   "cell_type": "code",
   "execution_count": 10,
   "metadata": {},
   "outputs": [
    {
     "data": {
      "text/plain": [
       "Row ID           9800\n",
       "Order ID         4922\n",
       "Order Date       1230\n",
       "Ship Date        1326\n",
       "Ship Mode           4\n",
       "Customer ID       793\n",
       "Customer Name     793\n",
       "Segment             3\n",
       "Country             1\n",
       "City              529\n",
       "State              49\n",
       "Postal Code       626\n",
       "Region              4\n",
       "Product ID       1861\n",
       "Category            3\n",
       "Sub-Category       17\n",
       "Product Name     1849\n",
       "Sales            5757\n",
       "dtype: int64"
      ]
     },
     "execution_count": 10,
     "metadata": {},
     "output_type": "execute_result"
    }
   ],
   "source": [
    "# Number of unique values in each column\n",
    "df.nunique()"
   ]
  },
  {
   "cell_type": "markdown",
   "metadata": {},
   "source": [
    "we do not require the Row ID, it is just an indentifier for rows."
   ]
  },
  {
   "cell_type": "code",
   "execution_count": 11,
   "metadata": {},
   "outputs": [],
   "source": [
    "df.drop(['Row ID'], axis=1, inplace=True)"
   ]
  },
  {
   "cell_type": "code",
   "execution_count": 12,
   "metadata": {},
   "outputs": [
    {
     "data": {
      "text/plain": [
       "Index(['Order ID', 'Order Date', 'Ship Date', 'Ship Mode', 'Customer ID',\n",
       "       'Customer Name', 'Segment', 'Country', 'City', 'State', 'Postal Code',\n",
       "       'Region', 'Product ID', 'Category', 'Sub-Category', 'Product Name',\n",
       "       'Sales'],\n",
       "      dtype='object')"
      ]
     },
     "execution_count": 12,
     "metadata": {},
     "output_type": "execute_result"
    }
   ],
   "source": [
    "df.columns"
   ]
  },
  {
   "cell_type": "code",
   "execution_count": 13,
   "metadata": {},
   "outputs": [],
   "source": [
    "# Selecting the database\n",
    "cursor.execute(\"USE superstore_db\")"
   ]
  },
  {
   "cell_type": "code",
   "execution_count": 14,
   "metadata": {},
   "outputs": [],
   "source": [
    "# Creating table \"Sales\"\n",
    "cursor.execute(\"DROP TABLE IF EXISTS Sales\")\n",
    "cursor.execute(\"\"\"\n",
    "                CREATE TABLE `Sales` (\n",
    "                `order_id` VARCHAR(255)  NOT NULL ,\n",
    "                `order_date` DATE  NOT NULL ,\n",
    "                `ship_date` DATE  NOT NULL ,\n",
    "                `ship_method` VARCHAR(255)  NOT NULL ,\n",
    "                `customer_id` VARCHAR(255)  NOT NULL ,\n",
    "                `product_id` VARCHAR(255)  NOT NULL ,\n",
    "                `sales` FLOAT  NOT NULL ,\n",
    "                PRIMARY KEY (\n",
    "                    `order_id`,`product_id`\n",
    "                )\n",
    "            );\n",
    "            \"\"\")"
   ]
  },
  {
   "cell_type": "code",
   "execution_count": 15,
   "metadata": {},
   "outputs": [],
   "source": [
    "# Creating table \"Products\"\n",
    "cursor.execute(\"DROP TABLE IF EXISTS Products\")\n",
    "cursor.execute(\"\"\"\n",
    "               CREATE TABLE `Products` (\n",
    "                `product_id` VARCHAR(255)  NOT NULL ,\n",
    "                `category` VARCHAR(255)  NOT NULL ,\n",
    "                `sub_category` VARCHAR(255)  NOT NULL ,\n",
    "                `product_name` VARCHAR(255)  NOT NULL ,\n",
    "                PRIMARY KEY (\n",
    "                    `product_id`\n",
    "                )\n",
    "            );\n",
    "            \"\"\")"
   ]
  },
  {
   "cell_type": "code",
   "execution_count": 16,
   "metadata": {},
   "outputs": [],
   "source": [
    "# Creating table \"Customers\"\n",
    "cursor.execute(\"DROP TABLE IF EXISTS Customers\")\n",
    "cursor.execute(\"\"\"\n",
    "                CREATE TABLE `Customers` (\n",
    "                    `customer_id` VARCHAR(255)  NOT NULL ,\n",
    "                    `customer_name` VARCHAR(255)  NOT NULL ,\n",
    "                    `segment` VARCHAR(255)  NOT NULL ,\n",
    "                    `city` VARCHAR(255)  NOT NULL ,\n",
    "                    `state` VARCHAR(255)  NOT NULL ,\n",
    "                    `country` VARCHAR(255)  NOT NULL ,\n",
    "                    `postal` INT  NOT NULL ,\n",
    "                    `region` VARCHAR(255)  NOT NULL ,\n",
    "                    PRIMARY KEY (\n",
    "                        `customer_id`\n",
    "                    )\n",
    "                );\n",
    "                \"\"\")"
   ]
  },
  {
   "cell_type": "code",
   "execution_count": 17,
   "metadata": {},
   "outputs": [],
   "source": [
    "# Altering tables to add foreign keys\n",
    "cursor.execute(\"\"\"\n",
    "                ALTER TABLE `Sales` ADD FOREIGN KEY (`customer_id`) REFERENCES `Customers`(`customer_id`);\n",
    "                \"\"\")\n",
    "\n",
    "cursor.execute(\"\"\"\n",
    "                ALTER TABLE `Sales` ADD FOREIGN KEY (`product_id`) REFERENCES `Products`(`product_id`);\n",
    "                \"\"\")\n",
    "\n",
    "# Adding constraints for unique ids in products and customers\n",
    "cursor.execute(\"\"\"\n",
    "                ALTER TABLE `Products` ADD UNIQUE (`product_id`);\n",
    "                \"\"\")\n",
    "cursor.execute(\"\"\"\n",
    "                ALTER TABLE `Customers` ADD UNIQUE (`customer_id`);\n",
    "                \"\"\")"
   ]
  },
  {
   "cell_type": "code",
   "execution_count": 18,
   "metadata": {},
   "outputs": [],
   "source": [
    "cursor.execute(\"SHOW TABLES\")"
   ]
  },
  {
   "cell_type": "code",
   "execution_count": 19,
   "metadata": {},
   "outputs": [
    {
     "name": "stdout",
     "output_type": "stream",
     "text": [
      "customers\n",
      "('customer_id', 'varchar(255)', 'NO', 'PRI', None, '')\n",
      "('customer_name', 'varchar(255)', 'NO', '', None, '')\n",
      "('segment', 'varchar(255)', 'NO', '', None, '')\n",
      "('city', 'varchar(255)', 'NO', '', None, '')\n",
      "('state', 'varchar(255)', 'NO', '', None, '')\n",
      "('country', 'varchar(255)', 'NO', '', None, '')\n",
      "('postal', 'int', 'NO', '', None, '')\n",
      "('region', 'varchar(255)', 'NO', '', None, '')\n",
      "-----------------\n",
      "monthly_growth\n",
      "('order_year', 'int', 'YES', '', None, '')\n",
      "('order_month', 'int', 'YES', '', None, '')\n",
      "('monthly_growth_percentage', 'double', 'YES', '', None, '')\n",
      "-----------------\n",
      "products\n",
      "('product_id', 'varchar(255)', 'NO', 'PRI', None, '')\n",
      "('category', 'varchar(255)', 'NO', '', None, '')\n",
      "('sub_category', 'varchar(255)', 'NO', '', None, '')\n",
      "('product_name', 'varchar(255)', 'NO', '', None, '')\n",
      "-----------------\n",
      "sales\n",
      "('order_id', 'varchar(255)', 'NO', 'PRI', None, '')\n",
      "('order_date', 'date', 'NO', '', None, '')\n",
      "('ship_date', 'date', 'NO', '', None, '')\n",
      "('ship_method', 'varchar(255)', 'NO', '', None, '')\n",
      "('customer_id', 'varchar(255)', 'NO', 'MUL', None, '')\n",
      "('product_id', 'varchar(255)', 'NO', 'PRI', None, '')\n",
      "('sales', 'float', 'NO', '', None, '')\n",
      "-----------------\n"
     ]
    }
   ],
   "source": [
    "# Displaying Tables\n",
    "tables = cursor.fetchall()\n",
    "for table in tables:\n",
    "    print(table[0])\n",
    "    cursor.execute(f\"DESCRIBE {table[0]}\")\n",
    "    for row in cursor.fetchall():\n",
    "        print(row)\n",
    "    print(\"-----------------\")\n"
   ]
  },
  {
   "cell_type": "markdown",
   "metadata": {},
   "source": [
    "The tables have been generated. Now, it is time to populate the tables as per the Data we have in our excel sheet. Let us clean the data before populatating the database. This is because it has become evident upon inspection that we may have some duplicate data rows and null values. "
   ]
  },
  {
   "cell_type": "markdown",
   "metadata": {},
   "source": [
    "# Data Cleaning\n",
    "What we are going to do right off the bat is that we are going to replace the double quotes with single quotes. Because this is going to be a problem while parsing values for data population."
   ]
  },
  {
   "cell_type": "code",
   "execution_count": 20,
   "metadata": {},
   "outputs": [],
   "source": [
    "df['Product Name'] = df.apply(lambda x: x['Product Name'].replace('\"', \"'\"), axis=1)"
   ]
  },
  {
   "cell_type": "markdown",
   "metadata": {},
   "source": [
    "Now lets remove the null values."
   ]
  },
  {
   "cell_type": "code",
   "execution_count": 21,
   "metadata": {},
   "outputs": [
    {
     "name": "stdout",
     "output_type": "stream",
     "text": [
      "9800\n"
     ]
    },
    {
     "data": {
      "text/plain": [
       "Order ID          0\n",
       "Order Date        0\n",
       "Ship Date         0\n",
       "Ship Mode         0\n",
       "Customer ID       0\n",
       "Customer Name     0\n",
       "Segment           0\n",
       "Country           0\n",
       "City              0\n",
       "State             0\n",
       "Postal Code      11\n",
       "Region            0\n",
       "Product ID        0\n",
       "Category          0\n",
       "Sub-Category      0\n",
       "Product Name      0\n",
       "Sales             0\n",
       "dtype: int64"
      ]
     },
     "execution_count": 21,
     "metadata": {},
     "output_type": "execute_result"
    }
   ],
   "source": [
    "print(len(df))\n",
    "df.isnull().sum()"
   ]
  },
  {
   "cell_type": "markdown",
   "metadata": {},
   "source": [
    "We have 9800 rows out of which only 11 rows have null values. We can remove these rows. It will not make much difference."
   ]
  },
  {
   "cell_type": "code",
   "execution_count": 22,
   "metadata": {},
   "outputs": [
    {
     "name": "stdout",
     "output_type": "stream",
     "text": [
      "9789\n"
     ]
    }
   ],
   "source": [
    "df.dropna(inplace=True)\n",
    "print(len(df))"
   ]
  },
  {
   "cell_type": "markdown",
   "metadata": {},
   "source": [
    "Now we have a lot of columns with important data. We want to make sure everything is clean before we parse and populate the tables with it."
   ]
  },
  {
   "cell_type": "code",
   "execution_count": 23,
   "metadata": {},
   "outputs": [
    {
     "data": {
      "text/plain": [
       "Order ID         4916\n",
       "Order Date       1229\n",
       "Ship Date        1326\n",
       "Ship Mode           4\n",
       "Customer ID       793\n",
       "Customer Name     793\n",
       "Segment             3\n",
       "Country             1\n",
       "City              529\n",
       "State              48\n",
       "Postal Code       626\n",
       "Region              4\n",
       "Product ID       1860\n",
       "Category            3\n",
       "Sub-Category       17\n",
       "Product Name     1848\n",
       "Sales            5750\n",
       "dtype: int64"
      ]
     },
     "execution_count": 23,
     "metadata": {},
     "output_type": "execute_result"
    }
   ],
   "source": [
    "df.nunique()"
   ]
  },
  {
   "cell_type": "markdown",
   "metadata": {},
   "source": [
    "We see that there are 1860 product ids. However, we only have 1848 product names. This means that some product names have been assigned more than one product id. This can be for a few reasons:\n",
    "1. Maybe the product is categorized under more than one category.\n",
    "2. Maybe the product is categorized under more than one sub-category.\n",
    "3. Maybe the product is outright categorized under more than one product id. \n",
    "\n",
    "Let us find out."
   ]
  },
  {
   "cell_type": "code",
   "execution_count": 24,
   "metadata": {},
   "outputs": [],
   "source": [
    "# list of unique product ids\n",
    "unique_pid = list()\n",
    "product = df[['Product ID','Category','Sub-Category','Product Name']]\n",
    "\n",
    "# Deleting all the rows from Products table\n",
    "cursor.execute(\"DELETE FROM Products\")\n",
    "\n",
    "# Inserting data into Products table\n",
    "for index, row in product.iterrows():\n",
    "    if row['Product ID'] not in unique_pid:\n",
    "        unique_pid.append(row['Product ID'])\n",
    "        cursor.execute(f\"\"\"\n",
    "                        INSERT INTO Products (product_id, category, sub_category, product_name)\n",
    "                        VALUES ('{row['Product ID']}', '{row['Category']}', '{row['Sub-Category']}', \"{row['Product Name']}\");\n",
    "                        \"\"\")"
   ]
  },
  {
   "cell_type": "markdown",
   "metadata": {},
   "source": [
    "Now since we have more product ids than product names, there must be duplicate product names or some ids. Let's find those out."
   ]
  },
  {
   "cell_type": "code",
   "execution_count": 25,
   "metadata": {},
   "outputs": [],
   "source": [
    "# Finding out rows with duplicate names\n",
    "cursor.execute(\"\"\"\n",
    "               SELECT t1.product_id, t1.category, t1.sub_category, t1.product_name \n",
    "               FROM Products t1 \n",
    "               JOIN (SELECT product_name as name, COUNT(product_name) as occurences\n",
    "                FROM Products\n",
    "                GROUP BY product_name\n",
    "               HAVING occurences > 1) t2\n",
    "               ON t1.product_name = t2.name\n",
    "               \"\"\")\n",
    "data = cursor.fetchall()"
   ]
  },
  {
   "cell_type": "code",
   "execution_count": 26,
   "metadata": {},
   "outputs": [
    {
     "name": "stdout",
     "output_type": "stream",
     "text": [
      "('FUR-FU-10003981', 'Furniture', 'Furnishings', 'Eldon Wave Desk Accessories')\n",
      "('FUR-FU-10000023', 'Furniture', 'Furnishings', 'Eldon Wave Desk Accessories')\n",
      "('FUR-FU-10004351', 'Furniture', 'Furnishings', 'Staple-based wall hangings')\n",
      "('FUR-FU-10001940', 'Furniture', 'Furnishings', 'Staple-based wall hangings')\n",
      "('FUR-TA-10004086', 'Furniture', 'Tables', 'KI Adjustable-Height Table')\n",
      "('FUR-TA-10001039', 'Furniture', 'Tables', 'KI Adjustable-Height Table')\n",
      "('OFF-AP-10004249', 'Office Supplies', 'Appliances', 'Staple holder')\n",
      "('OFF-AP-10002222', 'Office Supplies', 'Appliances', 'Staple holder')\n",
      "('OFF-AP-10001366', 'Office Supplies', 'Appliances', 'Staple holder')\n",
      "('OFF-AR-10004790', 'Office Supplies', 'Art', 'Staples in misc. colors')\n",
      "('OFF-AR-10004707', 'Office Supplies', 'Art', 'Staples in misc. colors')\n",
      "('OFF-AR-10004062', 'Office Supplies', 'Art', 'Staples in misc. colors')\n",
      "('OFF-AR-10003631', 'Office Supplies', 'Art', 'Staples in misc. colors')\n",
      "('OFF-AR-10003087', 'Office Supplies', 'Art', 'Staples in misc. colors')\n",
      "('OFF-AR-10002280', 'Office Supplies', 'Art', 'Staples in misc. colors')\n",
      "('OFF-AR-10001166', 'Office Supplies', 'Art', 'Staples in misc. colors')\n",
      "('OFF-AR-10003251', 'Office Supplies', 'Art', 'Prang Drawing Pencil Set')\n",
      "('OFF-AR-10002766', 'Office Supplies', 'Art', 'Prang Drawing Pencil Set')\n",
      "('OFF-BI-10004140', 'Office Supplies', 'Binders', 'Avery Non-Stick Binders')\n",
      "('OFF-BI-10000829', 'Office Supplies', 'Binders', 'Avery Non-Stick Binders')\n",
      "('OFF-BI-10004364', 'Office Supplies', 'Binders', 'Storex Dura Pro Binders')\n",
      "('OFF-BI-10001922', 'Office Supplies', 'Binders', 'Storex Dura Pro Binders')\n",
      "('OFF-EN-10000781', 'Office Supplies', 'Envelopes', \"#10- 4 1/8' x 9 1/2' Recycled Envelopes\")\n",
      "('OFF-EN-10000461', 'Office Supplies', 'Envelopes', \"#10- 4 1/8' x 9 1/2' Recycled Envelopes\")\n",
      "('OFF-EN-10004773', 'Office Supplies', 'Envelopes', 'Staple envelope')\n",
      "('OFF-EN-10003286', 'Office Supplies', 'Envelopes', 'Staple envelope')\n",
      "('OFF-EN-10003134', 'Office Supplies', 'Envelopes', 'Staple envelope')\n",
      "('OFF-EN-10002621', 'Office Supplies', 'Envelopes', 'Staple envelope')\n",
      "('OFF-EN-10001990', 'Office Supplies', 'Envelopes', 'Staple envelope')\n",
      "('OFF-EN-10001539', 'Office Supplies', 'Envelopes', 'Staple envelope')\n",
      "('OFF-EN-10001415', 'Office Supplies', 'Envelopes', 'Staple envelope')\n",
      "('OFF-EN-10001099', 'Office Supplies', 'Envelopes', 'Staple envelope')\n",
      "('OFF-EN-10001028', 'Office Supplies', 'Envelopes', 'Staple envelope')\n",
      "('OFF-EN-10003448', 'Office Supplies', 'Envelopes', 'Peel & Seel Recycled Catalog Envelopes, Brown')\n",
      "('OFF-EN-10002592', 'Office Supplies', 'Envelopes', 'Peel & Seel Recycled Catalog Envelopes, Brown')\n",
      "('OFF-FA-10003495', 'Office Supplies', 'Fasteners', 'Staples')\n",
      "('OFF-FA-10003485', 'Office Supplies', 'Fasteners', 'Staples')\n",
      "('OFF-FA-10003112', 'Office Supplies', 'Fasteners', 'Staples')\n",
      "('OFF-FA-10003021', 'Office Supplies', 'Fasteners', 'Staples')\n",
      "('OFF-FA-10002975', 'Office Supplies', 'Fasteners', 'Staples')\n",
      "('OFF-FA-10002815', 'Office Supplies', 'Fasteners', 'Staples')\n",
      "('OFF-FA-10002780', 'Office Supplies', 'Fasteners', 'Staples')\n",
      "('OFF-FA-10001843', 'Office Supplies', 'Fasteners', 'Staples')\n",
      "('OFF-FA-10001229', 'Office Supplies', 'Fasteners', 'Staples')\n",
      "('OFF-FA-10000735', 'Office Supplies', 'Fasteners', 'Staples')\n",
      "('OFF-PA-10004947', 'Office Supplies', 'Paper', 'Easy-staple paper')\n",
      "('OFF-PA-10003127', 'Office Supplies', 'Paper', 'Easy-staple paper')\n",
      "('OFF-PA-10002764', 'Office Supplies', 'Paper', 'Easy-staple paper')\n",
      "('OFF-PA-10001685', 'Office Supplies', 'Paper', 'Easy-staple paper')\n",
      "('OFF-PA-10000565', 'Office Supplies', 'Paper', 'Easy-staple paper')\n",
      "('OFF-PA-10000474', 'Office Supplies', 'Paper', 'Easy-staple paper')\n",
      "('OFF-PA-10000349', 'Office Supplies', 'Paper', 'Easy-staple paper')\n",
      "('OFF-PA-10000249', 'Office Supplies', 'Paper', 'Easy-staple paper')\n",
      "('OFF-ST-10003221', 'Office Supplies', 'Storage', 'Staple magnet')\n",
      "('OFF-ST-10002562', 'Office Supplies', 'Storage', 'Staple magnet')\n",
      "('OFF-SU-10001935', 'Office Supplies', 'Supplies', 'Staple remover')\n",
      "('OFF-SU-10001225', 'Office Supplies', 'Supplies', 'Staple remover')\n",
      "('OFF-SU-10000946', 'Office Supplies', 'Supplies', 'Staple remover')\n",
      "('TEC-MA-10003230', 'Technology', 'Machines', 'Okidata C610n Printer')\n",
      "('TEC-MA-10001856', 'Technology', 'Machines', 'Okidata C610n Printer')\n"
     ]
    }
   ],
   "source": [
    "for row in data:\n",
    "    print(row)"
   ]
  },
  {
   "cell_type": "markdown",
   "metadata": {},
   "source": [
    "There we go ! We see that there are duplicate products. The products have same categories, sub categories, and names but are assigned different product ids. \n",
    "We need to make their ids same. I do not have access to conversation with business owners, so I will be assigning them the product id based off on the first occurence of the product."
   ]
  },
  {
   "cell_type": "code",
   "execution_count": 27,
   "metadata": {},
   "outputs": [
    {
     "name": "stdout",
     "output_type": "stream",
     "text": [
      "Eldon Wave Desk Accessories\n",
      "Staple-based wall hangings\n",
      "KI Adjustable-Height Table\n",
      "Staple holder\n",
      "Staples in misc. colors\n",
      "Prang Drawing Pencil Set\n",
      "Avery Non-Stick Binders\n",
      "Storex Dura Pro Binders\n",
      "#10- 4 1/8' x 9 1/2' Recycled Envelopes\n",
      "Staple envelope\n",
      "Peel & Seel Recycled Catalog Envelopes, Brown\n",
      "Staples\n",
      "Easy-staple paper\n",
      "Staple magnet\n",
      "Staple remover\n",
      "Okidata C610n Printer\n"
     ]
    }
   ],
   "source": [
    "# making a lilst of all names I have to change the ids for\n",
    "name_id = dict()\n",
    "for row in data:\n",
    "    if row[3] not in name_id:\n",
    "        name_id[row[3]] = row[0]\n",
    "\n",
    "for keys in name_id.keys():\n",
    "    print(keys)"
   ]
  },
  {
   "cell_type": "code",
   "execution_count": 28,
   "metadata": {},
   "outputs": [],
   "source": [
    "df[\"Product ID\"] = df.apply(lambda row: name_id[row['Product Name']] if row['Product Name'] in name_id.keys() else row['Product ID'], axis=1)"
   ]
  },
  {
   "cell_type": "code",
   "execution_count": 29,
   "metadata": {},
   "outputs": [
    {
     "data": {
      "text/plain": [
       "Order ID         4916\n",
       "Order Date       1229\n",
       "Ship Date        1326\n",
       "Ship Mode           4\n",
       "Customer ID       793\n",
       "Customer Name     793\n",
       "Segment             3\n",
       "Country             1\n",
       "City              529\n",
       "State              48\n",
       "Postal Code       626\n",
       "Region              4\n",
       "Product ID       1816\n",
       "Category            3\n",
       "Sub-Category       17\n",
       "Product Name     1848\n",
       "Sales            5750\n",
       "dtype: int64"
      ]
     },
     "execution_count": 29,
     "metadata": {},
     "output_type": "execute_result"
    }
   ],
   "source": [
    "df.nunique()"
   ]
  },
  {
   "cell_type": "markdown",
   "metadata": {},
   "source": [
    "Now, we notice that we now have more number of unique product names than unique product ids. This means that some ids are also representing more than one name. We need to fix that too."
   ]
  },
  {
   "cell_type": "code",
   "execution_count": 30,
   "metadata": {},
   "outputs": [],
   "source": [
    "# list of unique product names\n",
    "unique_names = list()\n",
    "\n",
    "# We can not assess this using SQL because product id is our primary key and we can not have duplicate values\n",
    "# therefore we will be using pandas for this\n",
    "temp_df = pd.DataFrame(columns = product.columns)\n",
    "for index, row in product.iterrows():\n",
    "    if row['Product Name'] not in unique_names:\n",
    "        unique_names.append(row['Product Name'])\n",
    "        new_row = pd.DataFrame([row], columns = product.columns)\n",
    "        temp_df = pd.concat([temp_df, new_row], ignore_index=True)"
   ]
  },
  {
   "cell_type": "code",
   "execution_count": 31,
   "metadata": {},
   "outputs": [
    {
     "data": {
      "text/html": [
       "<div>\n",
       "<style scoped>\n",
       "    .dataframe tbody tr th:only-of-type {\n",
       "        vertical-align: middle;\n",
       "    }\n",
       "\n",
       "    .dataframe tbody tr th {\n",
       "        vertical-align: top;\n",
       "    }\n",
       "\n",
       "    .dataframe thead th {\n",
       "        text-align: right;\n",
       "    }\n",
       "</style>\n",
       "<table border=\"1\" class=\"dataframe\">\n",
       "  <thead>\n",
       "    <tr style=\"text-align: right;\">\n",
       "      <th></th>\n",
       "      <th>Product ID</th>\n",
       "      <th>Category</th>\n",
       "      <th>Sub-Category</th>\n",
       "      <th>Product Name</th>\n",
       "    </tr>\n",
       "  </thead>\n",
       "  <tbody>\n",
       "    <tr>\n",
       "      <th>0</th>\n",
       "      <td>FUR-BO-10001798</td>\n",
       "      <td>Furniture</td>\n",
       "      <td>Bookcases</td>\n",
       "      <td>Bush Somerset Collection Bookcase</td>\n",
       "    </tr>\n",
       "    <tr>\n",
       "      <th>1</th>\n",
       "      <td>FUR-CH-10000454</td>\n",
       "      <td>Furniture</td>\n",
       "      <td>Chairs</td>\n",
       "      <td>Hon Deluxe Fabric Upholstered Stacking Chairs,...</td>\n",
       "    </tr>\n",
       "    <tr>\n",
       "      <th>2</th>\n",
       "      <td>OFF-LA-10000240</td>\n",
       "      <td>Office Supplies</td>\n",
       "      <td>Labels</td>\n",
       "      <td>Self-Adhesive Address Labels for Typewriters b...</td>\n",
       "    </tr>\n",
       "    <tr>\n",
       "      <th>3</th>\n",
       "      <td>FUR-TA-10000577</td>\n",
       "      <td>Furniture</td>\n",
       "      <td>Tables</td>\n",
       "      <td>Bretford CR4500 Series Slim Rectangular Table</td>\n",
       "    </tr>\n",
       "    <tr>\n",
       "      <th>4</th>\n",
       "      <td>OFF-ST-10000760</td>\n",
       "      <td>Office Supplies</td>\n",
       "      <td>Storage</td>\n",
       "      <td>Eldon Fold 'N Roll Cart System</td>\n",
       "    </tr>\n",
       "  </tbody>\n",
       "</table>\n",
       "</div>"
      ],
      "text/plain": [
       "        Product ID         Category Sub-Category  \\\n",
       "0  FUR-BO-10001798        Furniture    Bookcases   \n",
       "1  FUR-CH-10000454        Furniture       Chairs   \n",
       "2  OFF-LA-10000240  Office Supplies       Labels   \n",
       "3  FUR-TA-10000577        Furniture       Tables   \n",
       "4  OFF-ST-10000760  Office Supplies      Storage   \n",
       "\n",
       "                                        Product Name  \n",
       "0                  Bush Somerset Collection Bookcase  \n",
       "1  Hon Deluxe Fabric Upholstered Stacking Chairs,...  \n",
       "2  Self-Adhesive Address Labels for Typewriters b...  \n",
       "3      Bretford CR4500 Series Slim Rectangular Table  \n",
       "4                     Eldon Fold 'N Roll Cart System  "
      ]
     },
     "execution_count": 31,
     "metadata": {},
     "output_type": "execute_result"
    }
   ],
   "source": [
    "temp_df.head()"
   ]
  },
  {
   "cell_type": "code",
   "execution_count": 32,
   "metadata": {},
   "outputs": [],
   "source": [
    "id_occ = dict()\n",
    "for index, row in temp_df.iterrows():\n",
    "    if row['Product ID'] not in id_occ:\n",
    "        id_occ[row['Product ID']] = 1\n",
    "    else:\n",
    "        id_occ[row['Product ID']] += 1\n",
    "\n",
    "target_ids = list()\n",
    "for key in id_occ.keys():\n",
    "    if id_occ[key] > 1:\n",
    "        target_ids.append(key)"
   ]
  },
  {
   "cell_type": "code",
   "execution_count": 33,
   "metadata": {},
   "outputs": [
    {
     "data": {
      "text/plain": [
       "32"
      ]
     },
     "execution_count": 33,
     "metadata": {},
     "output_type": "execute_result"
    }
   ],
   "source": [
    "len(target_ids)"
   ]
  },
  {
   "cell_type": "markdown",
   "metadata": {},
   "source": [
    "We have the list of ids which have more than 1 name assigned to them"
   ]
  },
  {
   "cell_type": "code",
   "execution_count": 34,
   "metadata": {},
   "outputs": [],
   "source": [
    "count = 0\n",
    "for index, row in product.iterrows():\n",
    "    if row['Product ID'] in target_ids:\n",
    "        count += 1"
   ]
  },
  {
   "cell_type": "code",
   "execution_count": 35,
   "metadata": {},
   "outputs": [
    {
     "data": {
      "text/plain": [
       "330"
      ]
     },
     "execution_count": 35,
     "metadata": {},
     "output_type": "execute_result"
    }
   ],
   "source": [
    "count"
   ]
  },
  {
   "cell_type": "markdown",
   "metadata": {},
   "source": [
    "We have 330 rows of data which have been assigned the ids which have more than one products associated with it. We can substitute these IDS with madeup IDS of our own. "
   ]
  },
  {
   "cell_type": "code",
   "execution_count": 36,
   "metadata": {},
   "outputs": [],
   "source": [
    "pairs = temp_df[['Product ID','Product Name']]\n",
    "pairs = pairs[pairs['Product ID'].isin(target_ids)]"
   ]
  },
  {
   "cell_type": "code",
   "execution_count": 37,
   "metadata": {},
   "outputs": [
    {
     "data": {
      "text/html": [
       "<div>\n",
       "<style scoped>\n",
       "    .dataframe tbody tr th:only-of-type {\n",
       "        vertical-align: middle;\n",
       "    }\n",
       "\n",
       "    .dataframe tbody tr th {\n",
       "        vertical-align: top;\n",
       "    }\n",
       "\n",
       "    .dataframe thead th {\n",
       "        text-align: right;\n",
       "    }\n",
       "</style>\n",
       "<table border=\"1\" class=\"dataframe\">\n",
       "  <thead>\n",
       "    <tr style=\"text-align: right;\">\n",
       "      <th></th>\n",
       "      <th>Product ID</th>\n",
       "      <th>Product Name</th>\n",
       "    </tr>\n",
       "  </thead>\n",
       "  <tbody>\n",
       "    <tr>\n",
       "      <th>28</th>\n",
       "      <td>FUR-FU-10004848</td>\n",
       "      <td>Howard Miller 13-3/4' Diameter Brushed Chrome ...</td>\n",
       "    </tr>\n",
       "    <tr>\n",
       "      <th>64</th>\n",
       "      <td>FUR-CH-10001146</td>\n",
       "      <td>Global Value Mid-Back Manager's Chair, Gray</td>\n",
       "    </tr>\n",
       "    <tr>\n",
       "      <th>68</th>\n",
       "      <td>OFF-BI-10004654</td>\n",
       "      <td>Avery Binding System Hidden Tab Executive Styl...</td>\n",
       "    </tr>\n",
       "    <tr>\n",
       "      <th>124</th>\n",
       "      <td>FUR-CH-10001146</td>\n",
       "      <td>Global Task Chair, Black</td>\n",
       "    </tr>\n",
       "    <tr>\n",
       "      <th>127</th>\n",
       "      <td>OFF-PA-10002377</td>\n",
       "      <td>Xerox 1916</td>\n",
       "    </tr>\n",
       "    <tr>\n",
       "      <th>...</th>\n",
       "      <td>...</td>\n",
       "      <td>...</td>\n",
       "    </tr>\n",
       "    <tr>\n",
       "      <th>1689</th>\n",
       "      <td>OFF-PA-10001166</td>\n",
       "      <td>Xerox 1932</td>\n",
       "    </tr>\n",
       "    <tr>\n",
       "      <th>1719</th>\n",
       "      <td>FUR-FU-10004864</td>\n",
       "      <td>Eldon 500 Class Desk Accessories</td>\n",
       "    </tr>\n",
       "    <tr>\n",
       "      <th>1723</th>\n",
       "      <td>OFF-PA-10003022</td>\n",
       "      <td>Standard Line “While You Were Out” Hardbound T...</td>\n",
       "    </tr>\n",
       "    <tr>\n",
       "      <th>1735</th>\n",
       "      <td>TEC-PH-10001795</td>\n",
       "      <td>RCA H5401RE1 DECT 6.0 4-Line Cordless Handset ...</td>\n",
       "    </tr>\n",
       "    <tr>\n",
       "      <th>1758</th>\n",
       "      <td>OFF-BI-10002026</td>\n",
       "      <td>Ibico Recycled Linen-Style Covers</td>\n",
       "    </tr>\n",
       "  </tbody>\n",
       "</table>\n",
       "<p>64 rows × 2 columns</p>\n",
       "</div>"
      ],
      "text/plain": [
       "           Product ID                                       Product Name\n",
       "28    FUR-FU-10004848  Howard Miller 13-3/4' Diameter Brushed Chrome ...\n",
       "64    FUR-CH-10001146        Global Value Mid-Back Manager's Chair, Gray\n",
       "68    OFF-BI-10004654  Avery Binding System Hidden Tab Executive Styl...\n",
       "124   FUR-CH-10001146                           Global Task Chair, Black\n",
       "127   OFF-PA-10002377                                         Xerox 1916\n",
       "...               ...                                                ...\n",
       "1689  OFF-PA-10001166                                         Xerox 1932\n",
       "1719  FUR-FU-10004864                   Eldon 500 Class Desk Accessories\n",
       "1723  OFF-PA-10003022  Standard Line “While You Were Out” Hardbound T...\n",
       "1735  TEC-PH-10001795  RCA H5401RE1 DECT 6.0 4-Line Cordless Handset ...\n",
       "1758  OFF-BI-10002026                  Ibico Recycled Linen-Style Covers\n",
       "\n",
       "[64 rows x 2 columns]"
      ]
     },
     "execution_count": 37,
     "metadata": {},
     "output_type": "execute_result"
    }
   ],
   "source": [
    "pairs"
   ]
  },
  {
   "cell_type": "code",
   "execution_count": 38,
   "metadata": {},
   "outputs": [
    {
     "data": {
      "text/plain": [
       "64"
      ]
     },
     "execution_count": 38,
     "metadata": {},
     "output_type": "execute_result"
    }
   ],
   "source": [
    "id_name_map = dict()\n",
    "\n",
    "count = 1\n",
    "for index, row in pairs.iterrows():\n",
    "    if row['Product Name'] not in id_name_map.keys():\n",
    "        id_name_map[row['Product Name']] = str(count)+row['Product ID']\n",
    "        count += 1\n",
    "\n",
    "len(id_name_map.keys())"
   ]
  },
  {
   "cell_type": "markdown",
   "metadata": {},
   "source": [
    "Now we have the map, let us change the dataframe"
   ]
  },
  {
   "cell_type": "code",
   "execution_count": 39,
   "metadata": {},
   "outputs": [],
   "source": [
    "df[\"Product ID\"] = df.apply(lambda row: id_name_map[row['Product Name']] if row['Product Name'] in id_name_map.keys() else row['Product ID'], axis=1)"
   ]
  },
  {
   "cell_type": "code",
   "execution_count": 40,
   "metadata": {},
   "outputs": [
    {
     "data": {
      "text/plain": [
       "Order ID         4916\n",
       "Order Date       1229\n",
       "Ship Date        1326\n",
       "Ship Mode           4\n",
       "Customer ID       793\n",
       "Customer Name     793\n",
       "Segment             3\n",
       "Country             1\n",
       "City              529\n",
       "State              48\n",
       "Postal Code       626\n",
       "Region              4\n",
       "Product ID       1848\n",
       "Category            3\n",
       "Sub-Category       17\n",
       "Product Name     1848\n",
       "Sales            5750\n",
       "dtype: int64"
      ]
     },
     "execution_count": 40,
     "metadata": {},
     "output_type": "execute_result"
    }
   ],
   "source": [
    "df.nunique()"
   ]
  },
  {
   "cell_type": "markdown",
   "metadata": {},
   "source": [
    "There we go! We have same number of Product IDs and Product Names! Everything else seems fine. This means, we can populate our Database now"
   ]
  },
  {
   "cell_type": "code",
   "execution_count": 41,
   "metadata": {},
   "outputs": [],
   "source": [
    "# We can delete our temporary variables and dataframes now\n",
    "del temp_df\n",
    "del pairs\n",
    "del unique_names\n",
    "del unique_pid\n",
    "del product\n",
    "del id_name_map\n",
    "del target_ids\n",
    "del id_occ\n",
    "del name_id\n",
    "del data\n",
    "del count"
   ]
  },
  {
   "cell_type": "markdown",
   "metadata": {},
   "source": [
    "Is our Sales data consistent though?"
   ]
  },
  {
   "cell_type": "code",
   "execution_count": 42,
   "metadata": {},
   "outputs": [
    {
     "data": {
      "text/html": [
       "<div>\n",
       "<style scoped>\n",
       "    .dataframe tbody tr th:only-of-type {\n",
       "        vertical-align: middle;\n",
       "    }\n",
       "\n",
       "    .dataframe tbody tr th {\n",
       "        vertical-align: top;\n",
       "    }\n",
       "\n",
       "    .dataframe thead th {\n",
       "        text-align: right;\n",
       "    }\n",
       "</style>\n",
       "<table border=\"1\" class=\"dataframe\">\n",
       "  <thead>\n",
       "    <tr style=\"text-align: right;\">\n",
       "      <th></th>\n",
       "      <th>Order ID</th>\n",
       "      <th>Order Date</th>\n",
       "      <th>Ship Date</th>\n",
       "      <th>Ship Mode</th>\n",
       "      <th>Customer ID</th>\n",
       "      <th>Customer Name</th>\n",
       "      <th>Segment</th>\n",
       "      <th>Country</th>\n",
       "      <th>City</th>\n",
       "      <th>State</th>\n",
       "      <th>Postal Code</th>\n",
       "      <th>Region</th>\n",
       "      <th>Product ID</th>\n",
       "      <th>Category</th>\n",
       "      <th>Sub-Category</th>\n",
       "      <th>Product Name</th>\n",
       "      <th>Sales</th>\n",
       "    </tr>\n",
       "  </thead>\n",
       "  <tbody>\n",
       "    <tr>\n",
       "      <th>0</th>\n",
       "      <td>CA-2017-152156</td>\n",
       "      <td>08/11/2017</td>\n",
       "      <td>11/11/2017</td>\n",
       "      <td>Second Class</td>\n",
       "      <td>CG-12520</td>\n",
       "      <td>Claire Gute</td>\n",
       "      <td>Consumer</td>\n",
       "      <td>United States</td>\n",
       "      <td>Henderson</td>\n",
       "      <td>Kentucky</td>\n",
       "      <td>42420.0</td>\n",
       "      <td>South</td>\n",
       "      <td>FUR-BO-10001798</td>\n",
       "      <td>Furniture</td>\n",
       "      <td>Bookcases</td>\n",
       "      <td>Bush Somerset Collection Bookcase</td>\n",
       "      <td>261.9600</td>\n",
       "    </tr>\n",
       "    <tr>\n",
       "      <th>1</th>\n",
       "      <td>CA-2017-152156</td>\n",
       "      <td>08/11/2017</td>\n",
       "      <td>11/11/2017</td>\n",
       "      <td>Second Class</td>\n",
       "      <td>CG-12520</td>\n",
       "      <td>Claire Gute</td>\n",
       "      <td>Consumer</td>\n",
       "      <td>United States</td>\n",
       "      <td>Henderson</td>\n",
       "      <td>Kentucky</td>\n",
       "      <td>42420.0</td>\n",
       "      <td>South</td>\n",
       "      <td>FUR-CH-10000454</td>\n",
       "      <td>Furniture</td>\n",
       "      <td>Chairs</td>\n",
       "      <td>Hon Deluxe Fabric Upholstered Stacking Chairs,...</td>\n",
       "      <td>731.9400</td>\n",
       "    </tr>\n",
       "    <tr>\n",
       "      <th>2</th>\n",
       "      <td>CA-2017-138688</td>\n",
       "      <td>12/06/2017</td>\n",
       "      <td>16/06/2017</td>\n",
       "      <td>Second Class</td>\n",
       "      <td>DV-13045</td>\n",
       "      <td>Darrin Van Huff</td>\n",
       "      <td>Corporate</td>\n",
       "      <td>United States</td>\n",
       "      <td>Los Angeles</td>\n",
       "      <td>California</td>\n",
       "      <td>90036.0</td>\n",
       "      <td>West</td>\n",
       "      <td>OFF-LA-10000240</td>\n",
       "      <td>Office Supplies</td>\n",
       "      <td>Labels</td>\n",
       "      <td>Self-Adhesive Address Labels for Typewriters b...</td>\n",
       "      <td>14.6200</td>\n",
       "    </tr>\n",
       "    <tr>\n",
       "      <th>3</th>\n",
       "      <td>US-2016-108966</td>\n",
       "      <td>11/10/2016</td>\n",
       "      <td>18/10/2016</td>\n",
       "      <td>Standard Class</td>\n",
       "      <td>SO-20335</td>\n",
       "      <td>Sean O'Donnell</td>\n",
       "      <td>Consumer</td>\n",
       "      <td>United States</td>\n",
       "      <td>Fort Lauderdale</td>\n",
       "      <td>Florida</td>\n",
       "      <td>33311.0</td>\n",
       "      <td>South</td>\n",
       "      <td>FUR-TA-10000577</td>\n",
       "      <td>Furniture</td>\n",
       "      <td>Tables</td>\n",
       "      <td>Bretford CR4500 Series Slim Rectangular Table</td>\n",
       "      <td>957.5775</td>\n",
       "    </tr>\n",
       "    <tr>\n",
       "      <th>4</th>\n",
       "      <td>US-2016-108966</td>\n",
       "      <td>11/10/2016</td>\n",
       "      <td>18/10/2016</td>\n",
       "      <td>Standard Class</td>\n",
       "      <td>SO-20335</td>\n",
       "      <td>Sean O'Donnell</td>\n",
       "      <td>Consumer</td>\n",
       "      <td>United States</td>\n",
       "      <td>Fort Lauderdale</td>\n",
       "      <td>Florida</td>\n",
       "      <td>33311.0</td>\n",
       "      <td>South</td>\n",
       "      <td>OFF-ST-10000760</td>\n",
       "      <td>Office Supplies</td>\n",
       "      <td>Storage</td>\n",
       "      <td>Eldon Fold 'N Roll Cart System</td>\n",
       "      <td>22.3680</td>\n",
       "    </tr>\n",
       "  </tbody>\n",
       "</table>\n",
       "</div>"
      ],
      "text/plain": [
       "         Order ID  Order Date   Ship Date       Ship Mode Customer ID  \\\n",
       "0  CA-2017-152156  08/11/2017  11/11/2017    Second Class    CG-12520   \n",
       "1  CA-2017-152156  08/11/2017  11/11/2017    Second Class    CG-12520   \n",
       "2  CA-2017-138688  12/06/2017  16/06/2017    Second Class    DV-13045   \n",
       "3  US-2016-108966  11/10/2016  18/10/2016  Standard Class    SO-20335   \n",
       "4  US-2016-108966  11/10/2016  18/10/2016  Standard Class    SO-20335   \n",
       "\n",
       "     Customer Name    Segment        Country             City       State  \\\n",
       "0      Claire Gute   Consumer  United States        Henderson    Kentucky   \n",
       "1      Claire Gute   Consumer  United States        Henderson    Kentucky   \n",
       "2  Darrin Van Huff  Corporate  United States      Los Angeles  California   \n",
       "3   Sean O'Donnell   Consumer  United States  Fort Lauderdale     Florida   \n",
       "4   Sean O'Donnell   Consumer  United States  Fort Lauderdale     Florida   \n",
       "\n",
       "   Postal Code Region       Product ID         Category Sub-Category  \\\n",
       "0      42420.0  South  FUR-BO-10001798        Furniture    Bookcases   \n",
       "1      42420.0  South  FUR-CH-10000454        Furniture       Chairs   \n",
       "2      90036.0   West  OFF-LA-10000240  Office Supplies       Labels   \n",
       "3      33311.0  South  FUR-TA-10000577        Furniture       Tables   \n",
       "4      33311.0  South  OFF-ST-10000760  Office Supplies      Storage   \n",
       "\n",
       "                                        Product Name     Sales  \n",
       "0                  Bush Somerset Collection Bookcase  261.9600  \n",
       "1  Hon Deluxe Fabric Upholstered Stacking Chairs,...  731.9400  \n",
       "2  Self-Adhesive Address Labels for Typewriters b...   14.6200  \n",
       "3      Bretford CR4500 Series Slim Rectangular Table  957.5775  \n",
       "4                     Eldon Fold 'N Roll Cart System   22.3680  "
      ]
     },
     "execution_count": 42,
     "metadata": {},
     "output_type": "execute_result"
    }
   ],
   "source": [
    "df.head()"
   ]
  },
  {
   "cell_type": "markdown",
   "metadata": {},
   "source": [
    "Since our Customer data and Product data is consistent, we can remove it temporarily from the base table and assess it."
   ]
  },
  {
   "cell_type": "code",
   "execution_count": 43,
   "metadata": {},
   "outputs": [
    {
     "data": {
      "text/html": [
       "<div>\n",
       "<style scoped>\n",
       "    .dataframe tbody tr th:only-of-type {\n",
       "        vertical-align: middle;\n",
       "    }\n",
       "\n",
       "    .dataframe tbody tr th {\n",
       "        vertical-align: top;\n",
       "    }\n",
       "\n",
       "    .dataframe thead th {\n",
       "        text-align: right;\n",
       "    }\n",
       "</style>\n",
       "<table border=\"1\" class=\"dataframe\">\n",
       "  <thead>\n",
       "    <tr style=\"text-align: right;\">\n",
       "      <th></th>\n",
       "      <th>Order ID</th>\n",
       "      <th>Order Date</th>\n",
       "      <th>Ship Date</th>\n",
       "      <th>Ship Mode</th>\n",
       "      <th>Customer ID</th>\n",
       "      <th>Product ID</th>\n",
       "      <th>Sales</th>\n",
       "    </tr>\n",
       "  </thead>\n",
       "  <tbody>\n",
       "    <tr>\n",
       "      <th>0</th>\n",
       "      <td>CA-2017-152156</td>\n",
       "      <td>08/11/2017</td>\n",
       "      <td>11/11/2017</td>\n",
       "      <td>Second Class</td>\n",
       "      <td>CG-12520</td>\n",
       "      <td>FUR-BO-10001798</td>\n",
       "      <td>261.9600</td>\n",
       "    </tr>\n",
       "    <tr>\n",
       "      <th>1</th>\n",
       "      <td>CA-2017-152156</td>\n",
       "      <td>08/11/2017</td>\n",
       "      <td>11/11/2017</td>\n",
       "      <td>Second Class</td>\n",
       "      <td>CG-12520</td>\n",
       "      <td>FUR-CH-10000454</td>\n",
       "      <td>731.9400</td>\n",
       "    </tr>\n",
       "    <tr>\n",
       "      <th>2</th>\n",
       "      <td>CA-2017-138688</td>\n",
       "      <td>12/06/2017</td>\n",
       "      <td>16/06/2017</td>\n",
       "      <td>Second Class</td>\n",
       "      <td>DV-13045</td>\n",
       "      <td>OFF-LA-10000240</td>\n",
       "      <td>14.6200</td>\n",
       "    </tr>\n",
       "    <tr>\n",
       "      <th>3</th>\n",
       "      <td>US-2016-108966</td>\n",
       "      <td>11/10/2016</td>\n",
       "      <td>18/10/2016</td>\n",
       "      <td>Standard Class</td>\n",
       "      <td>SO-20335</td>\n",
       "      <td>FUR-TA-10000577</td>\n",
       "      <td>957.5775</td>\n",
       "    </tr>\n",
       "    <tr>\n",
       "      <th>4</th>\n",
       "      <td>US-2016-108966</td>\n",
       "      <td>11/10/2016</td>\n",
       "      <td>18/10/2016</td>\n",
       "      <td>Standard Class</td>\n",
       "      <td>SO-20335</td>\n",
       "      <td>OFF-ST-10000760</td>\n",
       "      <td>22.3680</td>\n",
       "    </tr>\n",
       "  </tbody>\n",
       "</table>\n",
       "</div>"
      ],
      "text/plain": [
       "         Order ID  Order Date   Ship Date       Ship Mode Customer ID  \\\n",
       "0  CA-2017-152156  08/11/2017  11/11/2017    Second Class    CG-12520   \n",
       "1  CA-2017-152156  08/11/2017  11/11/2017    Second Class    CG-12520   \n",
       "2  CA-2017-138688  12/06/2017  16/06/2017    Second Class    DV-13045   \n",
       "3  US-2016-108966  11/10/2016  18/10/2016  Standard Class    SO-20335   \n",
       "4  US-2016-108966  11/10/2016  18/10/2016  Standard Class    SO-20335   \n",
       "\n",
       "        Product ID     Sales  \n",
       "0  FUR-BO-10001798  261.9600  \n",
       "1  FUR-CH-10000454  731.9400  \n",
       "2  OFF-LA-10000240   14.6200  \n",
       "3  FUR-TA-10000577  957.5775  \n",
       "4  OFF-ST-10000760   22.3680  "
      ]
     },
     "execution_count": 43,
     "metadata": {},
     "output_type": "execute_result"
    }
   ],
   "source": [
    "# creating a temporary dataframe for Sales\n",
    "\n",
    "temp_sales = df[['Order ID', 'Order Date', 'Ship Date', 'Ship Mode', 'Customer ID', 'Product ID', 'Sales']]\n",
    "temp_sales.head()"
   ]
  },
  {
   "cell_type": "code",
   "execution_count": 44,
   "metadata": {},
   "outputs": [
    {
     "data": {
      "text/html": [
       "<div>\n",
       "<style scoped>\n",
       "    .dataframe tbody tr th:only-of-type {\n",
       "        vertical-align: middle;\n",
       "    }\n",
       "\n",
       "    .dataframe tbody tr th {\n",
       "        vertical-align: top;\n",
       "    }\n",
       "\n",
       "    .dataframe thead th {\n",
       "        text-align: right;\n",
       "    }\n",
       "</style>\n",
       "<table border=\"1\" class=\"dataframe\">\n",
       "  <thead>\n",
       "    <tr style=\"text-align: right;\">\n",
       "      <th></th>\n",
       "      <th>Order ID</th>\n",
       "      <th>Order Date</th>\n",
       "      <th>Ship Date</th>\n",
       "      <th>Ship Mode</th>\n",
       "      <th>Customer ID</th>\n",
       "      <th>Product ID</th>\n",
       "      <th>Sales</th>\n",
       "    </tr>\n",
       "  </thead>\n",
       "  <tbody>\n",
       "    <tr>\n",
       "      <th>3406</th>\n",
       "      <td>US-2015-150119</td>\n",
       "      <td>23/04/2015</td>\n",
       "      <td>27/04/2015</td>\n",
       "      <td>Standard Class</td>\n",
       "      <td>LB-16795</td>\n",
       "      <td>FUR-CH-10002965</td>\n",
       "      <td>281.372</td>\n",
       "    </tr>\n",
       "  </tbody>\n",
       "</table>\n",
       "</div>"
      ],
      "text/plain": [
       "            Order ID  Order Date   Ship Date       Ship Mode Customer ID  \\\n",
       "3406  US-2015-150119  23/04/2015  27/04/2015  Standard Class    LB-16795   \n",
       "\n",
       "           Product ID    Sales  \n",
       "3406  FUR-CH-10002965  281.372  "
      ]
     },
     "execution_count": 44,
     "metadata": {},
     "output_type": "execute_result"
    }
   ],
   "source": [
    "temp_sales[temp_sales.duplicated()]"
   ]
  },
  {
   "cell_type": "markdown",
   "metadata": {},
   "source": [
    "There is a duplicated Sale data. It is most likely that it was recorded twice by accident. We can remove it."
   ]
  },
  {
   "cell_type": "code",
   "execution_count": 45,
   "metadata": {},
   "outputs": [
    {
     "data": {
      "text/html": [
       "<div>\n",
       "<style scoped>\n",
       "    .dataframe tbody tr th:only-of-type {\n",
       "        vertical-align: middle;\n",
       "    }\n",
       "\n",
       "    .dataframe tbody tr th {\n",
       "        vertical-align: top;\n",
       "    }\n",
       "\n",
       "    .dataframe thead th {\n",
       "        text-align: right;\n",
       "    }\n",
       "</style>\n",
       "<table border=\"1\" class=\"dataframe\">\n",
       "  <thead>\n",
       "    <tr style=\"text-align: right;\">\n",
       "      <th></th>\n",
       "      <th>Order ID</th>\n",
       "      <th>Order Date</th>\n",
       "      <th>Ship Date</th>\n",
       "      <th>Ship Mode</th>\n",
       "      <th>Customer ID</th>\n",
       "      <th>Product ID</th>\n",
       "      <th>Sales</th>\n",
       "    </tr>\n",
       "  </thead>\n",
       "  <tbody>\n",
       "    <tr>\n",
       "      <th>0</th>\n",
       "      <td>CA-2017-152156</td>\n",
       "      <td>08/11/2017</td>\n",
       "      <td>11/11/2017</td>\n",
       "      <td>Second Class</td>\n",
       "      <td>CG-12520</td>\n",
       "      <td>FUR-BO-10001798</td>\n",
       "      <td>261.9600</td>\n",
       "    </tr>\n",
       "    <tr>\n",
       "      <th>1</th>\n",
       "      <td>CA-2017-152156</td>\n",
       "      <td>08/11/2017</td>\n",
       "      <td>11/11/2017</td>\n",
       "      <td>Second Class</td>\n",
       "      <td>CG-12520</td>\n",
       "      <td>FUR-CH-10000454</td>\n",
       "      <td>731.9400</td>\n",
       "    </tr>\n",
       "    <tr>\n",
       "      <th>2</th>\n",
       "      <td>CA-2017-138688</td>\n",
       "      <td>12/06/2017</td>\n",
       "      <td>16/06/2017</td>\n",
       "      <td>Second Class</td>\n",
       "      <td>DV-13045</td>\n",
       "      <td>OFF-LA-10000240</td>\n",
       "      <td>14.6200</td>\n",
       "    </tr>\n",
       "    <tr>\n",
       "      <th>3</th>\n",
       "      <td>US-2016-108966</td>\n",
       "      <td>11/10/2016</td>\n",
       "      <td>18/10/2016</td>\n",
       "      <td>Standard Class</td>\n",
       "      <td>SO-20335</td>\n",
       "      <td>FUR-TA-10000577</td>\n",
       "      <td>957.5775</td>\n",
       "    </tr>\n",
       "    <tr>\n",
       "      <th>4</th>\n",
       "      <td>US-2016-108966</td>\n",
       "      <td>11/10/2016</td>\n",
       "      <td>18/10/2016</td>\n",
       "      <td>Standard Class</td>\n",
       "      <td>SO-20335</td>\n",
       "      <td>OFF-ST-10000760</td>\n",
       "      <td>22.3680</td>\n",
       "    </tr>\n",
       "    <tr>\n",
       "      <th>...</th>\n",
       "      <td>...</td>\n",
       "      <td>...</td>\n",
       "      <td>...</td>\n",
       "      <td>...</td>\n",
       "      <td>...</td>\n",
       "      <td>...</td>\n",
       "      <td>...</td>\n",
       "    </tr>\n",
       "    <tr>\n",
       "      <th>9795</th>\n",
       "      <td>CA-2017-125920</td>\n",
       "      <td>21/05/2017</td>\n",
       "      <td>28/05/2017</td>\n",
       "      <td>Standard Class</td>\n",
       "      <td>SH-19975</td>\n",
       "      <td>OFF-BI-10003429</td>\n",
       "      <td>3.7980</td>\n",
       "    </tr>\n",
       "    <tr>\n",
       "      <th>9796</th>\n",
       "      <td>CA-2016-128608</td>\n",
       "      <td>12/01/2016</td>\n",
       "      <td>17/01/2016</td>\n",
       "      <td>Standard Class</td>\n",
       "      <td>CS-12490</td>\n",
       "      <td>OFF-AR-10001374</td>\n",
       "      <td>10.3680</td>\n",
       "    </tr>\n",
       "    <tr>\n",
       "      <th>9797</th>\n",
       "      <td>CA-2016-128608</td>\n",
       "      <td>12/01/2016</td>\n",
       "      <td>17/01/2016</td>\n",
       "      <td>Standard Class</td>\n",
       "      <td>CS-12490</td>\n",
       "      <td>TEC-PH-10004977</td>\n",
       "      <td>235.1880</td>\n",
       "    </tr>\n",
       "    <tr>\n",
       "      <th>9798</th>\n",
       "      <td>CA-2016-128608</td>\n",
       "      <td>12/01/2016</td>\n",
       "      <td>17/01/2016</td>\n",
       "      <td>Standard Class</td>\n",
       "      <td>CS-12490</td>\n",
       "      <td>TEC-PH-10000912</td>\n",
       "      <td>26.3760</td>\n",
       "    </tr>\n",
       "    <tr>\n",
       "      <th>9799</th>\n",
       "      <td>CA-2016-128608</td>\n",
       "      <td>12/01/2016</td>\n",
       "      <td>17/01/2016</td>\n",
       "      <td>Standard Class</td>\n",
       "      <td>CS-12490</td>\n",
       "      <td>TEC-AC-10000487</td>\n",
       "      <td>10.3840</td>\n",
       "    </tr>\n",
       "  </tbody>\n",
       "</table>\n",
       "<p>9788 rows × 7 columns</p>\n",
       "</div>"
      ],
      "text/plain": [
       "            Order ID  Order Date   Ship Date       Ship Mode Customer ID  \\\n",
       "0     CA-2017-152156  08/11/2017  11/11/2017    Second Class    CG-12520   \n",
       "1     CA-2017-152156  08/11/2017  11/11/2017    Second Class    CG-12520   \n",
       "2     CA-2017-138688  12/06/2017  16/06/2017    Second Class    DV-13045   \n",
       "3     US-2016-108966  11/10/2016  18/10/2016  Standard Class    SO-20335   \n",
       "4     US-2016-108966  11/10/2016  18/10/2016  Standard Class    SO-20335   \n",
       "...              ...         ...         ...             ...         ...   \n",
       "9795  CA-2017-125920  21/05/2017  28/05/2017  Standard Class    SH-19975   \n",
       "9796  CA-2016-128608  12/01/2016  17/01/2016  Standard Class    CS-12490   \n",
       "9797  CA-2016-128608  12/01/2016  17/01/2016  Standard Class    CS-12490   \n",
       "9798  CA-2016-128608  12/01/2016  17/01/2016  Standard Class    CS-12490   \n",
       "9799  CA-2016-128608  12/01/2016  17/01/2016  Standard Class    CS-12490   \n",
       "\n",
       "           Product ID     Sales  \n",
       "0     FUR-BO-10001798  261.9600  \n",
       "1     FUR-CH-10000454  731.9400  \n",
       "2     OFF-LA-10000240   14.6200  \n",
       "3     FUR-TA-10000577  957.5775  \n",
       "4     OFF-ST-10000760   22.3680  \n",
       "...               ...       ...  \n",
       "9795  OFF-BI-10003429    3.7980  \n",
       "9796  OFF-AR-10001374   10.3680  \n",
       "9797  TEC-PH-10004977  235.1880  \n",
       "9798  TEC-PH-10000912   26.3760  \n",
       "9799  TEC-AC-10000487   10.3840  \n",
       "\n",
       "[9788 rows x 7 columns]"
      ]
     },
     "execution_count": 45,
     "metadata": {},
     "output_type": "execute_result"
    }
   ],
   "source": [
    "temp_sales.drop_duplicates()"
   ]
  },
  {
   "cell_type": "code",
   "execution_count": 46,
   "metadata": {},
   "outputs": [
    {
     "data": {
      "text/plain": [
       "1"
      ]
     },
     "execution_count": 46,
     "metadata": {},
     "output_type": "execute_result"
    }
   ],
   "source": [
    "# Duplicate removed\n",
    "temp_sales.duplicated().sum()"
   ]
  },
  {
   "cell_type": "code",
   "execution_count": 47,
   "metadata": {},
   "outputs": [
    {
     "data": {
      "text/plain": [
       "Order ID       4916\n",
       "Order Date     1229\n",
       "Ship Date      1326\n",
       "Ship Mode         4\n",
       "Customer ID     793\n",
       "Product ID     1848\n",
       "Sales          5750\n",
       "dtype: int64"
      ]
     },
     "execution_count": 47,
     "metadata": {},
     "output_type": "execute_result"
    }
   ],
   "source": [
    "temp_sales.nunique()"
   ]
  },
  {
   "cell_type": "code",
   "execution_count": 48,
   "metadata": {},
   "outputs": [
    {
     "data": {
      "text/plain": [
       "9789"
      ]
     },
     "execution_count": 48,
     "metadata": {},
     "output_type": "execute_result"
    }
   ],
   "source": [
    "len(temp_sales)"
   ]
  },
  {
   "cell_type": "markdown",
   "metadata": {},
   "source": [
    "We have 9788 Sales data, but only 4916 order IDs. This means that multiple products have been purchased under single Order ID as well. But we should still check it out."
   ]
  },
  {
   "cell_type": "code",
   "execution_count": 49,
   "metadata": {},
   "outputs": [],
   "source": [
    "sales_pk_map = dict()\n",
    "for index, row in temp_sales.iterrows():\n",
    "    pk = (row['Order ID'], row['Product ID'])\n",
    "    if pk not in sales_pk_map.keys():\n",
    "        sales_pk_map[pk] = 1\n",
    "    else:\n",
    "        sales_pk_map[pk] += 1"
   ]
  },
  {
   "cell_type": "code",
   "execution_count": 50,
   "metadata": {},
   "outputs": [
    {
     "name": "stdout",
     "output_type": "stream",
     "text": [
      "('CA-2017-129714', '13OFF-PA-10001970') 2\n",
      "('US-2017-123750', 'TEC-AC-10004659') 2\n",
      "('CA-2017-137043', 'FUR-FU-10003664') 2\n",
      "('CA-2018-152912', 'OFF-ST-10003208') 2\n",
      "('US-2015-150119', 'FUR-CH-10002965') 2\n",
      "('CA-2016-103135', 'OFF-BI-10000069') 2\n",
      "('CA-2018-118017', 'TEC-AC-10002006') 2\n",
      "('CA-2017-140571', 'OFF-PA-10001954') 2\n"
     ]
    }
   ],
   "source": [
    "for key, value in sales_pk_map.items():\n",
    "    if value > 1:\n",
    "        print(key, value)"
   ]
  },
  {
   "cell_type": "markdown",
   "metadata": {},
   "source": [
    "This means that Order ID and Product IDs are not unique together for 7 instances. Now, is customer ID also involved? Sales? Order date? Lets find out."
   ]
  },
  {
   "cell_type": "code",
   "execution_count": 51,
   "metadata": {},
   "outputs": [
    {
     "name": "stdout",
     "output_type": "stream",
     "text": [
      "For Customer ID with Order ID and Product ID\n",
      "('CA-2017-129714', 'AB-10060', '13OFF-PA-10001970') 2\n",
      "('US-2017-123750', 'RB-19795', 'TEC-AC-10004659') 2\n",
      "('CA-2017-137043', 'LC-17140', 'FUR-FU-10003664') 2\n",
      "('CA-2018-152912', 'BM-11650', 'OFF-ST-10003208') 2\n",
      "('US-2015-150119', 'LB-16795', 'FUR-CH-10002965') 2\n",
      "('CA-2016-103135', 'SS-20515', 'OFF-BI-10000069') 2\n",
      "('CA-2018-118017', 'LC-16870', 'TEC-AC-10002006') 2\n",
      "('CA-2017-140571', 'SJ-20125', 'OFF-PA-10001954') 2\n",
      "--------------------------------------------------\n",
      "For Sales with Order ID and Product ID\n",
      "('US-2015-150119', 281.372, 'FUR-CH-10002965') 2\n",
      "--------------------------------------------------\n",
      "For Order Date with Order ID and Product ID\n",
      "('CA-2017-129714', '01/09/2017', '13OFF-PA-10001970') 2\n",
      "('US-2017-123750', '15/04/2017', 'TEC-AC-10004659') 2\n",
      "('CA-2017-137043', '23/12/2017', 'FUR-FU-10003664') 2\n",
      "('CA-2018-152912', '09/11/2018', 'OFF-ST-10003208') 2\n",
      "('US-2015-150119', '23/04/2015', 'FUR-CH-10002965') 2\n",
      "('CA-2016-103135', '24/07/2016', 'OFF-BI-10000069') 2\n",
      "('CA-2018-118017', '03/12/2018', 'TEC-AC-10002006') 2\n",
      "('CA-2017-140571', '15/03/2017', 'OFF-PA-10001954') 2\n",
      "--------------------------------------------------\n",
      "For Ship Date with Order ID and Product ID\n",
      "('CA-2017-129714', '03/09/2017', '13OFF-PA-10001970') 2\n",
      "('US-2017-123750', '21/04/2017', 'TEC-AC-10004659') 2\n",
      "('CA-2017-137043', '25/12/2017', 'FUR-FU-10003664') 2\n",
      "('CA-2018-152912', '12/11/2018', 'OFF-ST-10003208') 2\n",
      "('US-2015-150119', '27/04/2015', 'FUR-CH-10002965') 2\n",
      "('CA-2016-103135', '28/07/2016', 'OFF-BI-10000069') 2\n",
      "('CA-2018-118017', '06/12/2018', 'TEC-AC-10002006') 2\n",
      "('CA-2017-140571', '19/03/2017', 'OFF-PA-10001954') 2\n",
      "--------------------------------------------------\n",
      "For Ship Mode with Order ID and Product ID\n",
      "('CA-2017-129714', 'First Class', '13OFF-PA-10001970') 2\n",
      "('US-2017-123750', 'Standard Class', 'TEC-AC-10004659') 2\n",
      "('CA-2017-137043', 'Second Class', 'FUR-FU-10003664') 2\n",
      "('CA-2018-152912', 'Second Class', 'OFF-ST-10003208') 2\n",
      "('US-2015-150119', 'Standard Class', 'FUR-CH-10002965') 2\n",
      "('CA-2016-103135', 'Standard Class', 'OFF-BI-10000069') 2\n",
      "('CA-2018-118017', 'Second Class', 'TEC-AC-10002006') 2\n",
      "('CA-2017-140571', 'Standard Class', 'OFF-PA-10001954') 2\n",
      "--------------------------------------------------\n"
     ]
    }
   ],
   "source": [
    "\n",
    "pk_combs = ['Customer ID', 'Sales', 'Order Date', 'Ship Date', 'Ship Mode']\n",
    "for ele in pk_combs:\n",
    "    print(f\"For {ele} with Order ID and Product ID\")\n",
    "    sales_pk_map = dict()\n",
    "    for index, row in temp_sales.iterrows():\n",
    "        pk = (row['Order ID'], row[ele], row['Product ID'])\n",
    "        if pk not in sales_pk_map.keys():\n",
    "            sales_pk_map[pk] = 1\n",
    "        else:\n",
    "            sales_pk_map[pk] += 1\n",
    "\n",
    "    for key, value in sales_pk_map.items():\n",
    "        if value > 1:\n",
    "            print(key, value)\n",
    "    print(\"--------------------------------------------------\")\n",
    "    "
   ]
  },
  {
   "cell_type": "markdown",
   "metadata": {},
   "source": [
    "Aha ! Order ID and Product ID paired up with Sales gives us unique entries for every data except 1. We can change the Order ID for the second occurence to accommodate for it."
   ]
  },
  {
   "cell_type": "code",
   "execution_count": 52,
   "metadata": {},
   "outputs": [],
   "source": [
    "# updating primary key\n",
    "cursor.execute(\"ALTER TABLE Sales DROP PRIMARY KEY\")\n",
    "cursor.execute(\"ALTER TABLE Sales ADD PRIMARY KEY (order_id, product_id, sales)\")"
   ]
  },
  {
   "cell_type": "code",
   "execution_count": 53,
   "metadata": {},
   "outputs": [],
   "source": [
    "def change_name(count, name):\n",
    "    if count[0] == 0:\n",
    "        count[0] += 1\n",
    "        return name\n",
    "    else:\n",
    "        return \"second-\" + name"
   ]
  },
  {
   "cell_type": "code",
   "execution_count": 54,
   "metadata": {},
   "outputs": [],
   "source": [
    "# changing the duplicate row's Order ID to a unique value\n",
    "o_id = \"US-2015-150119\"\n",
    "p_id = \"FUR-CH-10002965\"\n",
    "count = [0]\n",
    "\n",
    "df[\"Order ID\"] = df.apply(lambda row: change_name(count, row['Order ID']) if row['Order ID'] == o_id and row['Product ID'] == p_id else row['Order ID'], axis=1)"
   ]
  },
  {
   "cell_type": "markdown",
   "metadata": {},
   "source": [
    "It should be good now. We are ready to go ahead and populate the table."
   ]
  },
  {
   "cell_type": "code",
   "execution_count": 55,
   "metadata": {},
   "outputs": [],
   "source": [
    "# delete the temporary vars\n",
    "del temp_sales\n",
    "del o_id\n",
    "del p_id\n",
    "del count"
   ]
  },
  {
   "cell_type": "markdown",
   "metadata": {},
   "source": [
    "# Database Population\n",
    "Let us one by one populate our data tables"
   ]
  },
  {
   "cell_type": "code",
   "execution_count": 56,
   "metadata": {},
   "outputs": [
    {
     "data": {
      "text/plain": [
       "Index(['Order ID', 'Order Date', 'Ship Date', 'Ship Mode', 'Customer ID',\n",
       "       'Customer Name', 'Segment', 'Country', 'City', 'State', 'Postal Code',\n",
       "       'Region', 'Product ID', 'Category', 'Sub-Category', 'Product Name',\n",
       "       'Sales'],\n",
       "      dtype='object')"
      ]
     },
     "execution_count": 56,
     "metadata": {},
     "output_type": "execute_result"
    }
   ],
   "source": [
    "df.columns"
   ]
  },
  {
   "cell_type": "code",
   "execution_count": 57,
   "metadata": {},
   "outputs": [],
   "source": [
    "# we will create a function to parse the date to YYYY-MM-DD format for better consistency, compatibility, and assessibility in SQL\n",
    "\n",
    "def parse_date(date):\n",
    "    date = date.split(\"/\")\n",
    "    if len(date[0]) == 1:\n",
    "        date[0] = \"0\"+date[0]\n",
    "    if len(date[1]) == 1:\n",
    "        date[1] = \"0\"+date[1]\n",
    "    \n",
    "    return f\"{date[2]}-{date[1]}-{date[0]}\""
   ]
  },
  {
   "cell_type": "code",
   "execution_count": 58,
   "metadata": {},
   "outputs": [],
   "source": [
    "# Since our Base data is now consistent, we can start inserting data into all the tables\n",
    "customer_unique_id = set()\n",
    "product_unique_id = set()\n",
    "\n",
    "# Deleting all the rows from tables\n",
    "cursor.execute(\"DELETE FROM Sales\")\n",
    "cursor.execute(\"DELETE FROM Customers\")\n",
    "cursor.execute(\"DELETE FROM Products\")\n",
    "\n",
    "for index,row in df.iterrows():\n",
    "    # Inserting data into Customers table\n",
    "    if row['Customer ID'] not in customer_unique_id:\n",
    "        customer_unique_id.add(row['Customer ID'])\n",
    "        cursor.execute(f\"\"\"\n",
    "                        INSERT INTO Customers (customer_id, customer_name, segment, city, state, country, postal, region)\n",
    "                        VALUES ('{row['Customer ID']}', \"{row['Customer Name']}\", '{row['Segment']}', '{row['City']}', '{row['State']}', '{row['Country']}', {row['Postal Code']}, '{row['Region']}');\n",
    "                    \"\"\")\n",
    "    \n",
    "    # Inserting data into Products table\n",
    "    if row['Product ID'] not in product_unique_id:\n",
    "        product_unique_id.add(row['Product ID'])\n",
    "        cursor.execute(f\"\"\"\n",
    "                        INSERT INTO Products (product_id, category, sub_category, product_name)\n",
    "                        VALUES ('{row['Product ID']}', '{row['Category']}', '{row['Sub-Category']}', \"{row['Product Name']}\");\n",
    "                    \"\"\")\n",
    "        \n",
    "    # Inserting data into Sales table\n",
    "    o_date = parse_date(row['Order Date'])\n",
    "    s_date = parse_date(row['Ship Date'])\n",
    "    cursor.execute(f\"\"\"\n",
    "                    INSERT INTO Sales (order_id, order_date, ship_date, ship_method, customer_id, product_id, sales)\n",
    "                    VALUES ('{row['Order ID']}', '{o_date}', '{s_date}', '{row['Ship Mode']}', '{row['Customer ID']}', '{row['Product ID']}', {round(row['Sales'],2)});\n",
    "                    \"\"\")"
   ]
  },
  {
   "cell_type": "code",
   "execution_count": 59,
   "metadata": {},
   "outputs": [],
   "source": [
    "# printing SQL tables\n",
    "def print_table(data):\n",
    "    for i in range(5):\n",
    "        print(data[i])"
   ]
  },
  {
   "cell_type": "code",
   "execution_count": 60,
   "metadata": {},
   "outputs": [
    {
     "name": "stdout",
     "output_type": "stream",
     "text": [
      "('CA-2015-100006', datetime.date(2015, 9, 7), datetime.date(2015, 9, 13), 'Standard Class', 'DK-13375', 'TEC-PH-10002075', 377.97)\n",
      "('CA-2015-100090', datetime.date(2015, 7, 8), datetime.date(2015, 7, 12), 'Standard Class', 'EB-13705', 'FUR-TA-10003715', 502.49)\n",
      "('CA-2015-100090', datetime.date(2015, 7, 8), datetime.date(2015, 7, 12), 'Standard Class', 'EB-13705', 'OFF-BI-10001597', 196.7)\n",
      "('CA-2015-100293', datetime.date(2015, 3, 14), datetime.date(2015, 3, 18), 'Standard Class', 'NF-18475', 'OFF-PA-10000176', 91.06)\n",
      "('CA-2015-100328', datetime.date(2015, 1, 28), datetime.date(2015, 2, 3), 'Standard Class', 'JC-15340', 'OFF-BI-10000343', 3.93)\n",
      "--------------------------------------------------\n",
      "('AA-10315', 'Alex Avila', 'Consumer', 'Minneapolis', 'Minnesota', 'United States', 55407, 'Central')\n",
      "('AA-10375', 'Allen Armold', 'Consumer', 'Mesa', 'Arizona', 'United States', 85204, 'West')\n",
      "('AA-10480', 'Andrew Allen', 'Consumer', 'Concord', 'North Carolina', 'United States', 28027, 'South')\n",
      "('AA-10645', 'Anna Andreadi', 'Consumer', 'Chester', 'Pennsylvania', 'United States', 19013, 'East')\n",
      "('AB-10015', 'Aaron Bergman', 'Consumer', 'Seattle', 'Washington', 'United States', 98103, 'West')\n",
      "--------------------------------------------------\n",
      "('10TEC-AC-10003832', 'Technology', 'Accessories', 'Logitech\\xa0P710e Mobile Speakerphone')\n",
      "('11OFF-ST-10001228', 'Office Supplies', 'Storage', 'Fellowes Personal Hanging Folder Files, Navy')\n",
      "('12FUR-FU-10004091', 'Furniture', 'Furnishings', \"Howard Miller 13' Diameter Goldtone Round Wall Clock\")\n",
      "('13OFF-PA-10001970', 'Office Supplies', 'Paper', 'Xerox 1881')\n",
      "('14OFF-PA-10001970', 'Office Supplies', 'Paper', 'Xerox 1908')\n"
     ]
    }
   ],
   "source": [
    "cursor.execute(\"SELECT * FROM Sales\")\n",
    "data = cursor.fetchall()\n",
    "print_table(data)\n",
    "print(\"--------------------------------------------------\")\n",
    "\n",
    "cursor.execute(\"SELECT * FROM Customers\")\n",
    "data = cursor.fetchall()\n",
    "print_table(data)\n",
    "print(\"--------------------------------------------------\")\n",
    "\n",
    "cursor.execute(\"SELECT * FROM Products\")\n",
    "data = cursor.fetchall()\n",
    "print_table(data)\n"
   ]
  },
  {
   "cell_type": "code",
   "execution_count": 61,
   "metadata": {},
   "outputs": [],
   "source": [
    "# closing the connection\n",
    "conn.commit()\n",
    "cursor.close()\n",
    "conn.close()"
   ]
  },
  {
   "cell_type": "markdown",
   "metadata": {},
   "source": [
    "We are Done ! Our ETL Process is complete. \n",
    "1. Extraction: Done \n",
    "2. Transformation: Done \n",
    "3. Load: Done"
   ]
  },
  {
   "cell_type": "markdown",
   "metadata": {},
   "source": [
    "# Data Analysis\n",
    " We will start the process of data analysis now. I have completed most of the process using SQL. I will be using Python to figure out RFM for each customer which will help us understand the customer pool of our business and help us make sound decisions."
   ]
  },
  {
   "cell_type": "markdown",
   "metadata": {},
   "source": [
    "What is RFM? RFM stands for:\n",
    "1. Recency: How long has it been since customer bought something\n",
    "2. Frequency: How frequent does the customer buy stuff\n",
    "3. Monetary Value: How much monetary value does the customer contribute"
   ]
  },
  {
   "cell_type": "code",
   "execution_count": 62,
   "metadata": {},
   "outputs": [
    {
     "name": "stderr",
     "output_type": "stream",
     "text": [
      "C:\\Users\\jdham\\AppData\\Local\\Temp\\ipykernel_5156\\1402600313.py:3: SettingWithCopyWarning: \n",
      "A value is trying to be set on a copy of a slice from a DataFrame.\n",
      "Try using .loc[row_indexer,col_indexer] = value instead\n",
      "\n",
      "See the caveats in the documentation: https://pandas.pydata.org/pandas-docs/stable/user_guide/indexing.html#returning-a-view-versus-a-copy\n",
      "  temp_df['Order Date'] = pd.to_datetime(temp_df['Order Date'], format='%d/%m/%Y')\n"
     ]
    }
   ],
   "source": [
    "# creating a temporary dataframe \n",
    "temp_df = df[['Customer ID', 'Customer Name', 'Order Date', 'Sales']]\n",
    "temp_df['Order Date'] = pd.to_datetime(temp_df['Order Date'], format='%d/%m/%Y')\n"
   ]
  },
  {
   "cell_type": "code",
   "execution_count": 63,
   "metadata": {},
   "outputs": [
    {
     "name": "stdout",
     "output_type": "stream",
     "text": [
      "     Customer ID  Customer Name Order Date    Sales\n",
      "7980    DP-13000  Darren Powers 2015-01-03   16.448\n",
      "741     PO-19195  Phillina Ober 2015-01-04    3.540\n",
      "740     PO-19195  Phillina Ober 2015-01-04  272.736\n",
      "739     PO-19195  Phillina Ober 2015-01-04   11.784\n",
      "1759    MB-18085     Mick Brown 2015-01-05   19.536\n"
     ]
    }
   ],
   "source": [
    "temp_df = temp_df.sort_values('Order Date', ascending=True)\n",
    "print(temp_df.head())"
   ]
  },
  {
   "cell_type": "code",
   "execution_count": 64,
   "metadata": {},
   "outputs": [],
   "source": [
    "customers_order_dates = dict()\n",
    "\n",
    "for index, row in temp_df.iterrows():\n",
    "    date = row['Order Date']\n",
    "    c_id = row['Customer ID']\n",
    "    if c_id not in customers_order_dates.keys():\n",
    "        customers_order_dates[c_id] = [date]\n",
    "    else:\n",
    "        if date not in customers_order_dates[c_id]:\n",
    "            customers_order_dates[c_id].append(row['Order Date'])"
   ]
  },
  {
   "cell_type": "code",
   "execution_count": 65,
   "metadata": {},
   "outputs": [],
   "source": [
    "def calculate_rate(dates):\n",
    "    freq = list()\n",
    "    for i in range(1,len(dates)):\n",
    "        freq.append((dates[i] - dates[i-1]).days)\n",
    "    return freq"
   ]
  },
  {
   "cell_type": "code",
   "execution_count": 66,
   "metadata": {},
   "outputs": [],
   "source": [
    "customers_rate = dict()\n",
    "\n",
    "for key in customers_order_dates.keys():\n",
    "    customers_rate[key] = calculate_rate(customers_order_dates[key])"
   ]
  },
  {
   "cell_type": "code",
   "execution_count": 67,
   "metadata": {},
   "outputs": [
    {
     "name": "stdout",
     "output_type": "stream",
     "text": [
      "DP-13000 [471, 220, 172, 183, 110, 71, 104]\n",
      "PO-19195 [630, 56, 9, 675]\n",
      "MB-18085 [796, 59, 118, 233, 11, 194]\n",
      "ME-17320 [530, 283, 6, 63, 297, 74, 151, 3, 5]\n",
      "JO-15145 [201, 98, 26, 408, 202, 171, 284, 7]\n",
      "LS-17230 [527, 151]\n",
      "VS-21820 [503, 229, 500]\n",
      "MS-17830 [561, 137, 301]\n",
      "AJ-10780 [294, 58, 142, 559, 167, 155]\n",
      "SV-20365 [99, 282, 501, 99, 53, 250, 19, 19, 26]\n",
      "MM-17920 [226, 136, 468, 136, 89, 58, 217, 106, 4]\n",
      "BD-11605 [515, 198, 107, 262, 268]\n",
      "ND-18370 [292, 255, 296, 198, 120, 28, 188, 43]\n",
      "CS-12250 [25, 294, 37, 304, 17, 220, 86, 123, 258, 46, 11]\n",
      "BS-11590 [223, 102, 276, 376, 434]\n",
      "EH-13990 [128, 185, 306, 187, 234]\n",
      "DL-13315 [21, 11, 930, 97, 24, 326, 13]\n",
      "DW-13195 [168, 45, 824, 306, 30]\n",
      "TS-21340 [232, 184, 259, 540]\n",
      "HL-15040 [112, 774, 101, 365, 45]\n",
      "MM-18280 [491, 120, 83, 90, 198, 255, 100, 18]\n",
      "MV-17485 [432, 90, 274, 163, 154, 46, 245, 9]\n",
      "XP-21865 [251, 8, 433, 257, 67, 2, 337, 3, 36, 3]\n",
      "IM-15055 [1028]\n",
      "SD-20485 [70, 159, 28, 201, 125, 384, 208, 59]\n",
      "CA-11965 [435, 230, 397, 34, 242]\n",
      "EJ-13720 [323, 241, 567]\n",
      "JC-15340 [951, 99, 268]\n",
      "MV-18190 [400, 127, 342, 157, 10, 375]\n",
      "LC-17050 [275, 459, 583, 58]\n",
      "BD-11500 [255, 338, 98, 399, 303]\n",
      "CD-12790 [328, 269, 389, 42]\n",
      "EB-13930 [756, 80, 157, 273]\n",
      "TB-21400 [216, 98, 487, 350, 73]\n",
      "DB-13270 [445, 220, 255, 112, 9, 190, 141]\n",
      "MH-17440 [41, 694, 314]\n",
      "ND-18460 [225, 298, 675, 22, 20]\n",
      "CK-12760 [305, 230, 42, 148, 18, 267, 135, 195]\n",
      "NM-18445 [59, 15, 195, 201, 2, 789]\n",
      "GA-14725 [47, 275, 80, 210, 17, 426, 70, 166, 78, 44]\n",
      "NF-18385 [673, 246, 39, 329, 52]\n",
      "SC-20095 [20, 182, 21, 61, 351, 189, 70, 174]\n",
      "ST-20530 [150, 71, 97, 63, 841, 68]\n",
      "ML-17395 [101, 70, 70, 348, 345, 63, 94, 255]\n",
      "BF-11020 [623, 250, 26, 242, 160, 10, 29]\n",
      "MN-17935 [145, 674, 271, 276, 13]\n",
      "AB-10015 [17, 979]\n",
      "TB-21595 [770, 275, 81]\n",
      "LC-16930 [821, 75, 22, 16, 272, 92, 70]\n",
      "SR-20740 [258, 11, 50, 179, 275, 203, 237]\n",
      "TM-21010 [68, 100, 297, 104, 495, 241]\n",
      "SA-20830 [249, 180, 61, 544, 87, 15, 6, 40, 162]\n",
      "MG-17875 [485, 92, 351, 362]\n",
      "JH-15430 [1364, 1, 35]\n",
      "JS-16030 [873, 93, 119, 245, 44]\n",
      "GW-14605 [148, 420, 150, 247, 281, 126]\n",
      "DB-13060 [112, 636, 80, 466, 90]\n",
      "SC-20380 [498, 44, 398, 130, 38, 67, 121, 74]\n",
      "HR-14770 [527, 606, 254]\n",
      "VF-21715 [146, 1032, 47, 162]\n",
      "KN-16705 [14, 582, 277, 324, 78, 26]\n",
      "JS-15595 [419, 548, 312]\n",
      "EJ-14155 [1004, 164, 113, 60]\n",
      "AJ-10945 [456, 180, 16, 339, 286]\n",
      "SC-20020 [30, 79, 143, 366]\n",
      "AP-10720 [630, 182, 108, 11, 426]\n",
      "CL-12565 [130, 52, 8, 477, 129, 20, 109, 50, 46, 88, 4]\n",
      "AB-10150 [555, 143, 581, 76]\n",
      "CM-12715 [203, 14, 143]\n",
      "NP-18685 [445, 130, 65, 348]\n",
      "KT-16480 [59, 4, 538, 314, 231, 31, 25, 57, 32]\n",
      "SW-20275 [976, 128, 243, 5, 9]\n",
      "FM-14215 [94, 667, 32, 52, 62, 17, 186, 35, 238]\n",
      "RB-19435 [213, 45, 1, 125, 95, 870]\n",
      "CK-12205 [97, 42, 244, 188, 246, 41, 7, 121, 172, 87, 11, 95]\n",
      "KA-16525 [346, 235, 443, 152, 174, 4]\n",
      "RB-19465 [177, 549, 57, 15, 45, 48, 8, 297, 120, 57, 5]\n",
      "NF-18475 [201, 272, 389]\n",
      "JF-15295 [760, 201, 197, 4]\n",
      "DK-13225 [612, 18, 99, 113, 60, 86, 215, 174]\n",
      "CK-12325 [80, 676, 315, 196]\n",
      "AS-10240 [210, 170, 453, 361]\n",
      "CP-12340 [601, 195, 27, 119, 192, 90]\n",
      "BN-11515 [184, 610, 470, 111]\n",
      "AZ-10750 [8, 394, 20, 269, 533]\n",
      "QJ-19255 [76, 519, 160, 188, 54, 143]\n",
      "SM-20320 [522, 126, 561, 95]\n",
      "SC-20050 [440, 245, 133, 164, 138, 145, 27, 51]\n",
      "EK-13795 [622, 20, 697]\n",
      "MC-17605 [257, 351, 369, 64, 95, 11, 123]\n",
      "KH-16690 [429, 156, 42, 217, 338, 196]\n",
      "TS-21205 [80, 110, 51, 22, 601, 318]\n",
      "GM-14440 [275, 713, 113, 27, 98, 71]\n",
      "CB-12025 [241, 281, 4, 526, 214, 4, 63]\n",
      "VM-21835 [726, 56, 33, 447]\n",
      "CC-12685 [293, 249, 39]\n",
      "BF-11275 [1206, 116]\n",
      "PO-18865 [211, 698, 253, 69, 142, 5]\n",
      "BG-11740 [453, 438, 7, 223, 200]\n",
      "CD-11920 [614, 397, 148, 178]\n",
      "MS-17710 [11, 347, 161, 275, 170]\n",
      "CA-12265 [276, 263, 146, 511, 81, 27, 16]\n",
      "DK-12835 [242, 76, 267, 145, 118, 141, 136, 72, 66, 42, 49]\n",
      "CS-12505 [413, 493, 57, 12, 342]\n",
      "JD-15895 [18, 98, 511, 44, 165, 7, 51, 53, 3, 31]\n",
      "CV-12295 [158, 733, 202, 26]\n",
      "DR-12940 [368, 155, 117, 281, 56, 255, 91]\n",
      "MG-18145 [524, 692, 72]\n",
      "KM-16720 [2, 17, 99, 426, 61, 146, 592]\n",
      "MP-17470 [66, 166, 330, 52, 39]\n",
      "Dl-13600 [93, 646, 427, 86]\n",
      "SG-20890 [855, 290]\n",
      "NC-18340 [35, 336, 599, 177]\n",
      "KB-16240 [587, 91, 520, 75, 93]\n",
      "TG-21640 [436, 101, 719]\n",
      "AA-10315 [168, 385, 150, 483]\n",
      "JO-15280 [259, 323, 59, 109, 528]\n",
      "DD-13570 [274, 601, 253, 84, 117]\n",
      "KH-16330 [34, 199, 585, 21, 336, 151, 3]\n",
      "RD-19585 [320, 255, 11, 35, 344, 68, 155]\n",
      "AH-10690 [398, 11, 82, 99, 49, 139, 11, 62, 6, 59, 42]\n",
      "KB-16585 [135, 121, 85, 51, 127, 71, 57, 241, 92, 93, 63]\n",
      "PK-18910 [883]\n",
      "MZ-17515 [221, 327, 28, 223, 285]\n",
      "GM-14695 [899, 349]\n",
      "TH-21550 [407, 68, 60, 643, 56, 59]\n",
      "RD-19900 [219, 9, 124, 65, 393, 93, 53, 295]\n",
      "JG-15805 [185, 42, 364, 222, 329]\n",
      "FH-14275 [198, 699, 54, 121, 61, 51, 69, 61, 13]\n",
      "GP-14740 [600]\n",
      "SC-20260 [161, 62, 63, 74, 153, 577, 87]\n",
      "AY-10555 [264, 723, 363]\n",
      "PJ-19015 [835, 50, 248, 37, 59]\n",
      "RS-19765 [243, 212, 605, 78, 112, 37, 40]\n",
      "VM-21685 [574, 311, 189, 122, 113]\n",
      "JM-15655 [935, 44, 319, 56]\n",
      "JS-15880 [623, 53, 30, 122]\n",
      "PC-19000 [481]\n",
      "RA-19885 [228, 261, 342, 436, 40]\n",
      "JK-15370 [364, 254, 341, 255, 6, 95]\n",
      "MM-18055 [45, 400, 144, 534, 68, 55, 52]\n",
      "GM-14455 [264, 461, 14, 474, 130]\n",
      "SE-20110 [164, 64, 138, 297, 129, 89, 186, 167, 78, 38]\n",
      "KN-16450 [248, 206, 171, 681]\n",
      "SV-20785 [51, 4, 15, 317, 170, 218, 263]\n",
      "BF-11170 [90, 165, 141, 13, 250, 76, 13, 194, 116, 283]\n",
      "PS-18970 [381, 11, 203, 160, 316, 197, 18]\n",
      "SP-20650 [111, 90, 210, 281, 6, 153, 90, 27]\n",
      "JL-15835 [80, 74, 455, 134, 278, 51, 111, 16, 132]\n",
      "NF-18595 [143, 186, 22, 29, 837, 20]\n",
      "AG-10390 [137, 809, 11, 280]\n",
      "BP-11230 [376, 512, 82, 341]\n",
      "DB-13555 [152, 21, 873, 65, 125, 6]\n",
      "AA-10375 [186, 102, 95, 189, 239, 127, 297, 95]\n",
      "AH-10030 [21, 165, 67, 362, 83, 638]\n",
      "LB-16795 [862, 35, 36, 2, 18, 159, 83]\n",
      "TS-21160 [359, 4, 317, 114, 49]\n",
      "DA-13450 [138, 16, 839]\n",
      "BT-11305 [500, 86, 21, 402]\n",
      "LC-16885 [32, 386, 157, 8, 13, 188, 118, 70, 172, 157, 28]\n",
      "AG-10300 [573, 381, 272]\n",
      "MH-17290 [512, 268, 198, 72]\n",
      "DS-13180 [469, 12, 14, 204, 246, 16, 107, 251]\n",
      "MY-18295 [210, 494, 14, 188, 1, 42, 153, 122, 47]\n",
      "GB-14530 [502, 7, 48, 30, 154, 55, 58, 102, 113, 211]\n",
      "AI-10855 [12, 233, 76, 281, 325, 176, 127, 93, 6]\n",
      "KH-16360 [22, 773, 28, 247, 270]\n",
      "LL-16840 [353, 49, 623, 67]\n",
      "HG-14845 [503, 553, 203, 28]\n",
      "LA-16780 [73, 298, 53, 197, 138, 113, 7, 61, 29, 218]\n",
      "JM-16195 [125, 166, 126, 138, 206, 168, 271, 26, 57]\n",
      "CS-11860 [59, 477, 591, 40, 9]\n",
      "AR-10510 [21, 466, 482, 355]\n",
      "JS-15940 [141, 118, 505, 110]\n",
      "NC-18415 [238, 113, 52, 492, 401]\n",
      "AA-10480 [805, 40, 232]\n",
      "PM-18940 [260, 690]\n",
      "BS-11365 [107, 31, 575, 65]\n",
      "PF-19120 [338, 69, 94]\n",
      "EB-13870 [187, 197, 47, 78, 373, 67, 52, 39, 195]\n",
      "GD-14590 [860, 265, 205]\n",
      "SN-20710 [571, 30, 139, 134, 53, 328]\n",
      "HP-14815 [202, 342, 22, 11, 416, 311]\n",
      "CT-11995 [227, 270, 332, 105, 190, 25, 88]\n",
      "PG-18820 [73, 273, 99, 203, 21, 31, 146, 57, 21, 315, 43, 13]\n",
      "SB-20290 [121, 12, 358, 433, 295, 65]\n",
      "GM-14680 [93, 668, 113, 1, 303]\n",
      "AF-10885 [125, 397, 393]\n",
      "HD-14785 [393, 168]\n",
      "RM-19375 [41, 528, 129, 90]\n",
      "BG-11695 [239, 511, 211, 270, 62]\n",
      "PG-18895 [490, 96, 36, 90, 417, 7, 128, 8]\n",
      "VW-21775 [65, 171, 35, 215, 408, 3, 110, 279, 15]\n",
      "NP-18325 [39, 31, 384, 119, 729]\n",
      "AG-10270 [71, 425, 358, 195]\n",
      "EH-14005 [208, 508, 402, 110, 70, 27]\n",
      "AJ-10795 [229, 373, 17, 233, 105, 203]\n",
      "CC-12475 [717, 158, 28, 3, 273, 35, 19, 52]\n",
      "PW-19030 [263, 566, 53, 49, 22, 87, 98, 39, 101]\n",
      "PA-19060 [290, 227, 377, 30, 296]\n",
      "BS-11755 [77, 427, 423, 131, 166, 97]\n",
      "TT-21070 [113, 159, 51, 401, 551, 16]\n",
      "TD-20995 [462, 151, 457, 53, 23, 1, 125, 12]\n",
      "JH-15820 [314, 159, 79, 432, 163]\n",
      "MC-17590 [189, 600, 57, 102, 321]\n",
      "RF-19345 [119, 75, 13, 193, 254, 269, 7]\n",
      "MW-18235 [1275]\n",
      "BT-11530 [215, 397, 400, 216]\n",
      "FG-14260 [180, 966, 71, 13, 13, 42]\n",
      "EH-14185 [156, 28, 499, 270, 260]\n",
      "GT-14710 [178, 162, 298, 114, 176, 159, 44, 55, 95]\n",
      "RP-19390 [112, 51, 28, 23, 3, 65, 37, 178, 321, 245, 220]\n",
      "JL-15235 [555, 187, 327, 127]\n",
      "BW-11065 [444, 659]\n",
      "HF-14995 [118, 566, 22, 125, 85, 377]\n",
      "Dp-13240 [138, 395, 34, 33, 516, 68, 16, 8, 17, 5]\n",
      "LE-16810 [203, 179, 341, 368, 201]\n",
      "MH-17785 [126, 49, 363, 35, 80, 562]\n",
      "PJ-18835 [536, 172, 182, 197, 168, 18]\n",
      "MM-17260 [844, 146, 154]\n",
      "MC-17425 [548, 229, 1, 133]\n",
      "EB-13840 [197, 722, 301]\n",
      "LW-16825 [32, 147, 761, 282]\n",
      "SS-20410 [100, 69, 372, 658, 1]\n",
      "JG-15160 [22, 326, 221, 217, 65, 69, 173, 80, 136]\n",
      "JK-15625 [29, 51, 111, 243, 140, 674]\n",
      "CR-12625 [83, 755]\n",
      "DW-13480 [586, 225, 84, 196]\n",
      "LT-17110 [509, 11, 40, 91, 251, 299, 73]\n",
      "SC-20725 [157, 235, 49, 25, 15, 126, 133, 203, 79, 97]\n",
      "RB-19795 [418, 264, 52, 201, 140, 145, 54]\n",
      "BT-11440 [172, 482, 91]\n",
      "GT-14635 [518, 729]\n",
      "SB-20170 [979, 123]\n",
      "BM-11785 [88, 103, 97, 189, 8, 195, 89, 169, 147]\n",
      "VT-21700 [304]\n",
      "NR-18550 [102, 593, 168, 229]\n",
      "BP-11095 [124, 29, 42, 95, 125, 458, 116, 54, 162, 67, 13]\n",
      "KE-16420 [26, 333, 45, 436, 414, 21]\n",
      "CS-11950 [163, 312, 187, 3, 153, 48, 198, 74, 96, 42]\n",
      "RD-19480 [381, 174, 80, 272, 170, 118, 34]\n",
      "BH-11710 [155, 89, 288, 101, 317, 124, 203]\n",
      "CM-12445 [840, 24]\n",
      "CW-11905 [228, 129, 522, 190, 209]\n",
      "FO-14305 [239, 34, 198, 404, 59, 161, 11, 148, 8]\n",
      "HK-14890 [503, 22, 158, 183, 154, 69, 59]\n",
      "SR-20425 [1038, 199, 6, 44]\n",
      "KL-16555 [194, 637, 44, 55, 202, 106, 40]\n",
      "PS-18760 [346, 287, 204, 200, 150]\n",
      "SC-20575 [481, 679, 41]\n",
      "GH-14425 [538, 5, 699]\n",
      "DB-13660 [510, 418, 59, 25, 182, 86]\n",
      "MC-18100 [180, 116, 138, 114, 9, 285, 330, 58, 20]\n",
      "Co-12640 [162, 28, 219, 331]\n",
      "TB-21280 [1, 162, 418, 62, 62]\n",
      "NW-18400 [158, 164, 130, 67, 347, 250]\n",
      "AA-10645 [162, 352, 229, 62, 427]\n",
      "DV-13465 [506, 305, 274, 173]\n",
      "JE-15745 [157, 152, 25, 147, 37, 321, 13, 41, 136, 61, 98, 48]\n",
      "DL-13330 [517, 341, 371]\n",
      "BS-11665 [513, 191]\n",
      "LP-17080 [871, 181, 193]\n",
      "NS-18640 [258, 151, 74, 19, 86, 312, 6, 119, 51, 34]\n",
      "GK-14620 [18, 338, 59, 99, 154, 239, 7, 258]\n",
      "LM-17065 [238, 302, 231, 120]\n",
      "CA-12775 [78, 316, 138, 365, 152, 112]\n",
      "RW-19630 [186, 430, 147, 120, 12, 4, 121, 172]\n",
      "DL-12865 [108, 402, 99, 64, 262, 245]\n",
      "HA-14905 [497, 5, 29, 282, 355, 42]\n",
      "MS-17980 [224, 36, 143, 120, 730]\n",
      "RA-19915 [92, 32, 179, 83, 116, 314, 329, 122]\n",
      "AR-10825 [252, 463, 83, 97, 221, 1, 104]\n",
      "BD-11620 [617, 207, 85, 6, 295]\n",
      "EH-13945 [374, 157, 33, 307, 7, 177, 5]\n",
      "MS-17770 [46, 76, 24, 183, 145, 307, 79, 294]\n",
      "MC-17845 [168, 688, 37, 331, 30, 19]\n",
      "DP-13390 [65, 104, 94, 47, 379, 150, 72, 5]\n",
      "DC-12850 [70, 188, 370, 437, 18, 52, 36, 66]\n",
      "DM-13525 [434, 359]\n",
      "EP-13915 [252, 99, 477, 7, 10, 8, 20, 36, 62, 184, 65, 4, 1, 16, 15, 5]\n",
      "BC-11125 [69, 281, 288, 112, 18, 35, 245, 23]\n",
      "EB-13705 [160, 107, 185, 156, 99, 328, 165, 23]\n",
      "MH-18025 [383, 580, 230, 29]\n",
      "BM-11650 [74, 2, 382, 42, 311, 178, 50, 180, 7, 11]\n",
      "DS-13030 [927, 73, 177]\n",
      "GH-14410 [25, 362, 375, 27, 165, 109, 24, 108]\n",
      "MH-17455 [162, 108, 598, 15, 65, 150]\n",
      "AC-10420 [592, 443]\n",
      "ME-17725 [302, 138, 325, 188, 130, 154, 2]\n",
      "PV-18985 [591, 112, 270, 205]\n",
      "AW-10930 [488, 211, 117, 42, 286, 75]\n",
      "SS-20515 [376, 398]\n",
      "BF-10975 [18, 317, 22, 1, 502, 314]\n",
      "PB-19150 [138, 1, 12, 32, 155, 302, 528]\n",
      "JL-15130 [45, 601, 352, 17, 238]\n",
      "AH-10120 [713, 171, 111, 85, 46, 75]\n",
      "CA-12310 [534, 705, 8]\n",
      "EM-14140 [232, 449, 32, 179, 320]\n",
      "SW-20245 [471, 33, 97, 191, 159, 227]\n",
      "CC-12145 [194, 221, 3, 332, 18, 385]\n",
      "RD-19720 [20, 85, 415, 140, 195, 12, 107, 9, 255]\n",
      "KM-16375 [164, 171, 170, 231, 99, 111, 257]\n",
      "HM-14860 [502, 20, 139, 138, 199, 112, 76, 70]\n",
      "ME-18010 [155, 150, 861]\n",
      "EM-14065 [753, 295, 162]\n",
      "JL-15850 [228, 27, 23, 34, 331]\n",
      "AB-10255 [291, 209, 205, 119, 58, 164, 14, 31]\n",
      "AG-10900 [410, 8, 97, 8, 141, 205, 144, 125, 22]\n",
      "NC-18535 [28, 832, 123, 223, 29, 15]\n",
      "KL-16645 [17, 316, 136, 8, 191, 12, 57, 151, 101, 44, 174]\n",
      "LF-17185 [133, 18, 72, 594, 119, 295]\n",
      "CL-11890 [859, 191, 97]\n",
      "SG-20470 [125, 116, 58, 40, 95, 324, 312]\n",
      "AS-10045 [610, 181, 99, 211, 34, 29]\n",
      "BB-10990 [464, 150, 426, 107]\n",
      "TS-21430 [104, 654, 79, 240]\n",
      "IL-15100 [189, 242, 62, 229, 43, 340]\n",
      "AS-10630 [128, 271, 384, 176, 44, 152]\n",
      "NZ-18565 [385, 314, 9, 63, 70, 161, 97, 62]\n",
      "BK-11260 [125, 104, 602, 315, 22]\n",
      "VD-21670 [208, 119, 128, 4, 204]\n",
      "RS-19420 [643, 244, 188, 92]\n",
      "SS-20590 [252, 391, 35, 81, 52]\n",
      "CS-12130 [413, 90, 251]\n",
      "GZ-14470 [34, 433, 36, 87, 259, 156, 134, 97]\n",
      "RF-19735 [256, 91, 345, 59, 337, 65]\n",
      "TB-21625 [296, 150, 67, 128, 126, 256, 176, 13]\n",
      "MA-17560 [44, 51, 382, 4, 9, 251, 5, 422, 1, 7]\n",
      "LR-16915 [480, 34, 242, 100, 358]\n",
      "MB-17305 [413, 11, 3, 78, 324, 222, 9, 98, 34]\n",
      "VG-21790 [108, 621, 176, 160, 21]\n",
      "MG-17650 [838, 18, 94, 165, 45, 50]\n",
      "AG-10525 [24, 370, 1]\n",
      "ED-13885 [106, 345, 48, 308, 59, 59, 179]\n",
      "GM-14500 [230, 184, 26, 196, 4, 47, 390, 30, 26]\n",
      "JH-15985 [172, 322, 264, 61, 391]\n",
      "DH-13675 [108, 298, 55]\n",
      "CS-12175 [614, 162, 192, 36]\n",
      "BW-11200 [49, 758, 224, 2]\n",
      "CS-12355 [313, 73, 194, 393, 63, 21, 128, 5, 37]\n",
      "KH-16510 [51, 76, 181, 862, 41]\n",
      "TS-21610 [755, 8, 268, 4, 119, 23]\n",
      "DJ-13510 [740, 169, 78, 8, 127, 52, 9]\n",
      "LH-16900 [13, 12, 55, 414, 177, 171, 227, 139]\n",
      "CR-12730 [662, 71, 417]\n",
      "DE-13255 [75, 165, 159, 109]\n",
      "JP-15520 [79, 82, 564, 19, 460, 14]\n",
      "JF-15415 [227, 203, 686, 108]\n",
      "RB-19645 [1, 90, 392, 94]\n",
      "AP-10915 [37, 25, 18, 522, 201, 37, 138, 129, 20]\n",
      "RH-19495 [343, 742, 40, 68]\n",
      "JP-15460 [405, 289, 36, 62, 112, 283]\n",
      "DW-13585 [309, 405, 50, 129, 71, 18]\n",
      "JM-15265 [280, 537, 22, 347]\n",
      "RC-19960 [103, 709, 301]\n",
      "JE-15715 [180, 245, 258, 56, 114, 172, 71, 81]\n",
      "MW-18220 [26, 60, 229, 166, 374, 351]\n",
      "PP-18955 [13, 21, 264, 17, 161, 53, 278, 189, 129]\n",
      "FM-14290 [225, 426, 159, 40, 192, 124, 2, 18]\n",
      "KB-16315 [123, 35, 14, 104, 1, 34, 431, 184]\n",
      "ZD-21925 [585, 32, 64, 338]\n",
      "CC-12610 [338, 39, 193, 124, 81, 412]\n",
      "RA-19945 [364, 105, 554, 135]\n",
      "HH-15010 [1147]\n",
      "AT-10735 [65, 386, 188, 48, 54, 252, 49, 25, 138]\n",
      "SJ-20500 [39, 773, 11, 141]\n",
      "LT-16765 [254, 936]\n",
      "KD-16345 [102, 342, 31, 544, 155]\n",
      "MR-17545 [34, 1005, 50]\n",
      "NP-18700 [98, 10, 599, 85, 233, 49]\n",
      "PR-18880 [219, 252, 610, 95]\n",
      "VP-21760 [30, 64, 172, 170, 223, 477]\n",
      "DK-13375 [456, 6, 217, 5, 370, 108, 29]\n",
      "LR-17035 [366, 384, 300, 28]\n",
      "SZ-20035 [58, 221, 192, 255, 20, 130, 154, 5, 119, 21]\n",
      "BM-11140 [725, 93, 84]\n",
      "KT-16465 [9, 9, 455, 87, 24, 234]\n",
      "LH-17020 [153, 635, 182]\n",
      "MC-17275 [187, 178, 17, 59, 61, 59, 572]\n",
      "KC-16255 [314, 166, 153, 17, 152]\n",
      "SP-20620 [113, 7, 252, 450, 262, 11, 2, 65]\n",
      "LC-17140 [449, 128, 78, 181, 260, 13, 86]\n",
      "DL-12925 [53, 189, 137, 20, 752]\n",
      "CC-12220 [25, 41, 175, 300, 25, 102, 85, 268, 143, 24]\n",
      "RR-19525 [453, 10, 75, 147, 353]\n",
      "MS-17365 [13, 46, 119, 274, 20, 42, 286, 9, 126]\n",
      "SF-20065 [338, 104, 10, 376, 212, 108]\n",
      "LW-17125 [786, 215]\n",
      "BN-11470 [217, 697, 267]\n",
      "PT-19090 [724, 410]\n",
      "TA-21385 [721, 214, 201]\n",
      "LW-17215 [613, 123, 51, 155, 144, 98]\n",
      "JM-15535 [217, 91, 274, 251, 262, 7]\n",
      "ON-18715 [52, 28, 167, 88, 42, 158, 10, 249]\n",
      "EA-14035 [83, 170, 187, 82, 5, 111, 8, 12, 8, 294, 92]\n",
      "JC-15775 [98, 302, 301, 222, 7, 48, 42, 25]\n",
      "DM-13015 [298, 301, 123, 353, 60, 11]\n",
      "AJ-10960 [107, 1022]\n",
      "JB-15400 [230, 125, 154, 169, 392, 63, 19, 44]\n",
      "MF-18250 [183, 146, 95, 771]\n",
      "JA-15970 [56, 659, 182, 74, 115, 15, 7]\n",
      "AG-10765 [266, 153, 704]\n",
      "FA-14230 [143, 144, 70, 50, 386, 308]\n",
      "MC-18130 [182, 233, 125, 289]\n",
      "JK-15640 [4, 175, 44, 226, 4, 3, 7, 555]\n",
      "DN-13690 [18, 4, 557, 66, 179, 156]\n",
      "SB-20185 [209, 36, 126, 625, 13]\n",
      "MA-17995 [23, 412, 342, 2, 232]\n",
      "PF-19165 [342, 30, 277, 132, 220]\n",
      "ES-14020 [213, 417, 461, 66]\n",
      "HG-14965 [6, 238, 92, 38, 71, 47, 4, 324, 103, 218, 33]\n",
      "SL-20155 [12, 178, 106, 805, 25]\n",
      "LH-16750 [947, 98]\n",
      "JG-15115 [17, 422]\n",
      "AS-10090 [93, 321, 174, 50, 82, 202, 168, 77]\n",
      "VG-21805 [549, 49, 106]\n",
      "TT-21220 [196, 124, 83, 197, 173, 134, 104]\n",
      "JP-16135 [285, 250, 237, 35, 22, 52, 81, 130]\n",
      "TH-21115 [573, 81, 482]\n",
      "JD-16060 [181, 712]\n",
      "BF-11005 [588, 84, 481]\n",
      "MT-18070 [395, 291, 303]\n",
      "KF-16285 [531, 368, 26, 84, 72, 13]\n",
      "NB-18580 [26]\n",
      "CS-12400 [372, 220, 179, 153, 151, 10, 59, 45]\n",
      "TH-21100 [58, 141, 391, 256]\n",
      "KD-16495 [407, 23, 9, 4, 276, 77, 14, 14, 25, 201, 27]\n",
      "GZ-14545 [903, 83, 46]\n",
      "LD-17005 [602, 168, 4]\n",
      "EB-14170 [18, 147, 261, 342, 338]\n",
      "SM-20950 [33, 49, 252, 113, 44, 233, 36, 214, 51, 138]\n",
      "KW-16570 [201, 111, 105]\n",
      "DB-13615 [337, 402, 61, 149, 138, 67]\n",
      "DM-12955 [70, 123, 164, 181, 192, 343]\n",
      "ES-14080 [148, 405, 98, 77, 81, 67, 207, 74]\n",
      "DO-13435 [178, 148, 95, 170, 319, 63, 24, 54]\n",
      "AR-10405 [302, 658, 30, 69]\n",
      "RD-19930 [296, 624, 222]\n",
      "BP-11290 [557, 49, 51, 172, 319, 24]\n",
      "JD-16015 [2, 69, 883, 57, 60]\n",
      "DF-13135 [449, 35]\n",
      "BD-11635 [427, 746]\n",
      "AM-10360 [169, 480, 316, 188]\n",
      "FC-14335 [150, 22, 46, 304, 327, 144]\n",
      "TN-21040 [333, 227, 36, 121, 81, 289]\n",
      "HA-14920 [289, 4, 39, 336, 65, 333, 90]\n",
      "JF-15565 [121, 137, 236, 173, 34, 40, 381]\n",
      "BP-11050 [775, 24, 89, 204]\n",
      "ZC-21910 [77, 106, 12, 141, 15, 161, 12, 19, 398, 31, 8, 140]\n",
      "SP-20545 [518, 12, 26, 171, 120]\n",
      "TC-21295 [67, 537, 331, 69, 122, 1, 19]\n",
      "JE-15610 [241, 345, 313, 175, 48, 3]\n",
      "HG-15025 [213, 456, 49, 254, 161, 34]\n",
      "AC-10660 [519, 102, 87, 182]\n",
      "LS-17245 [41, 391, 157, 19, 529]\n",
      "TB-21520 [4, 66, 266, 9, 23, 108, 534, 53]\n",
      "EH-13765 [328, 184, 76, 5, 114, 36, 54, 30, 207]\n",
      "AS-10225 [199, 577, 289, 82]\n",
      "IG-15085 [174, 434, 490]\n",
      "LS-17200 [39, 728, 206, 44, 56]\n",
      "RP-19270 [292, 129, 251]\n",
      "JF-15490 [69, 283, 27, 36, 54, 112, 243, 100, 123]\n",
      "EH-14125 [174, 231, 132, 42, 4, 118, 133, 142, 40]\n",
      "FH-14365 [151, 229, 393, 217, 16, 69, 87]\n",
      "LS-16975 [37, 296, 28, 288, 99, 371, 16, 12]\n",
      "SF-20965 [74, 258, 18, 55, 336, 284, 48, 45]\n",
      "MG-17680 [389, 571, 113]\n",
      "DB-12910 [525, 161, 24, 179, 164, 82, 7]\n",
      "AH-10585 [690, 294, 156]\n",
      "RD-19810 [475, 114, 87, 116, 38, 269, 47]\n",
      "TS-21370 [257, 48, 621, 147, 50]\n",
      "BT-11395 [122, 46, 230, 171, 288]\n",
      "NC-18625 [186, 529, 178, 61]\n",
      "AM-10705 [318, 7, 5, 358, 198, 82, 26]\n",
      "GG-14650 [157, 500, 101, 9, 138, 165, 28, 15]\n",
      "NL-18310 [299, 278, 521]\n",
      "AC-10450 [228, 146, 318, 63, 313, 77]\n",
      "KH-16630 [94, 228, 310, 141, 271, 1, 20, 32]\n",
      "PL-18925 [500, 397, 67, 176]\n",
      "DG-13300 [245, 114, 301, 463]\n",
      "SW-20755 [620]\n",
      "SH-20395 [1, 343, 430, 82, 39, 19, 94, 35, 88]\n",
      "PO-18850 [35, 146, 196, 290, 19, 291, 48, 41, 21, 63]\n",
      "JK-16120 [282, 55, 193, 141, 79, 27, 61, 83, 116]\n",
      "TC-21535 [214, 107, 303, 122, 384, 19]\n",
      "SG-20605 [46, 353, 505, 141]\n",
      "DM-13345 [9, 156, 427, 143, 14, 138, 244]\n",
      "TH-21235 [49, 508, 12, 179, 188, 11, 88]\n",
      "WB-21850 [38, 8, 234, 112, 46, 330, 200, 135, 29]\n",
      "MS-17530 [14, 349, 355]\n",
      "MD-17350 [418, 252, 186, 59, 119]\n",
      "BG-11035 [31, 289, 102, 321, 287, 63, 30]\n",
      "TC-20980 [50, 268, 377, 55]\n",
      "BF-11215 [578, 277, 227]\n",
      "PK-19075 [522, 122, 20, 19, 81, 2, 79, 169, 14, 64, 44]\n",
      "TZ-21580 [389, 80, 641]\n",
      "KD-16270 [397, 79, 95, 90]\n",
      "DB-12970 [620, 154, 129]\n",
      "RF-19840 [35, 488, 117, 121, 125, 252]\n",
      "RM-19675 [5, 317, 18, 796]\n",
      "ML-17410 [798, 129, 50, 111]\n",
      "JL-15505 [16, 495, 412, 74, 96]\n",
      "CM-11815 [47, 632, 168, 79, 85]\n",
      "JF-15190 [748, 36, 85, 98, 109]\n",
      "PB-19105 [491, 551, 42]\n",
      "AH-10075 [401, 187, 81, 93, 119, 34, 129, 28, 34]\n",
      "JD-16150 [127, 250, 28, 264, 94, 97, 239]\n",
      "RH-19510 [289, 27, 164, 127, 66]\n",
      "AB-10165 [133, 43, 46, 643, 15, 154, 81]\n",
      "YC-21895 [361, 146, 152, 476]\n",
      "RB-19330 [1071]\n",
      "JK-15730 [13, 110, 238, 188, 132, 266, 73, 34]\n",
      "AB-10600 [92, 286, 710]\n",
      "MK-17905 [396, 147, 133, 27, 238, 58, 111]\n",
      "PW-19240 [95, 65, 211, 10, 238, 55]\n",
      "JC-16105 [36, 254, 780, 11]\n",
      "DB-13360 [220, 260, 44, 349]\n",
      "AD-10180 [37, 171, 20, 567, 98, 197, 18]\n",
      "JM-15865 [271, 106, 20, 346, 166, 119]\n",
      "GR-14560 [2]\n",
      "DH-13075 [101, 104, 376, 277]\n",
      "JK-15325 [437, 411]\n",
      "SC-20680 [308, 307, 119, 23, 252]\n",
      "TC-21475 [157, 206, 276, 105, 10, 108, 28, 91]\n",
      "SP-20920 [508, 200, 13, 124, 219]\n",
      "SM-20005 [17, 561, 134]\n",
      "PB-19210 [446]\n",
      "SS-20140 [309, 454, 126, 34, 107, 29, 59]\n",
      "NG-18355 [296, 519, 183, 86]\n",
      "HR-14830 [114, 93, 187, 2, 455, 122]\n",
      "DK-12985 [252, 127, 514, 232]\n",
      "NG-18430 [9, 338, 17, 720]\n",
      "AR-10540 [138, 225, 311, 109, 342]\n",
      "MP-18175 [357, 20, 364, 10, 57, 237, 70]\n",
      "MO-17500 [648, 28, 380]\n",
      "BT-11680 [224, 91, 184, 11, 578, 20]\n",
      "BF-11080 [1019, 84]\n",
      "MC-17635 [5, 446, 488]\n",
      "AH-10210 [347, 27, 75, 381, 178, 41, 41, 31]\n",
      "BS-11380 [370, 464, 249, 16]\n",
      "TR-21325 [622, 22, 3, 285]\n",
      "EM-13825 [55, 126, 453, 9, 239, 79, 108]\n",
      "KN-16390 [94, 169, 608, 43, 38, 119, 34]\n",
      "DP-13165 [313]\n",
      "MD-17860 [908, 93, 53, 34]\n",
      "MC-17575 [220, 63, 94, 372, 45, 185, 118]\n",
      "CP-12085 [111, 163, 208, 57, 232, 228, 41]\n",
      "NB-18655 [67, 262, 181, 143, 28, 376, 22, 23]\n",
      "DK-13150 [1111]\n",
      "RL-19615 [220, 321, 96, 235, 27, 46, 55]\n",
      "RC-19825 [407, 142, 14, 137, 52]\n",
      "JB-15925 [373, 12]\n",
      "FP-14320 [2, 126, 284, 69, 269, 316, 30]\n",
      "TB-21175 [480, 11, 569]\n",
      "TB-21250 [306, 57, 56, 250, 38, 62]\n",
      "DJ-13420 [301, 6, 174]\n",
      "SH-19975 [290, 238, 124, 4, 45, 46, 70, 196, 4, 35, 35]\n",
      "LH-17155 [190, 329, 7, 50, 111, 7, 34, 1]\n",
      "CY-12745 [165, 34, 413, 19, 378, 45]\n",
      "KC-16675 [532, 363, 161]\n",
      "RA-19285 [244, 71, 63, 222, 330, 66, 88, 24]\n",
      "SS-20875 [73, 269, 280, 370]\n",
      "CS-11845 [110, 168, 512, 231]\n",
      "SP-20860 [13, 50, 182, 20, 113, 332, 100, 208, 14]\n",
      "CC-12100 [255, 2, 312, 84]\n",
      "SC-20695 [228, 102, 239, 65, 2, 13, 77, 242, 53]\n",
      "SH-20635 [346]\n",
      "EC-14050 [726, 101, 130, 99]\n",
      "IM-15070 [198, 141, 19, 194, 136, 29]\n",
      "MK-18160 [714, 152, 1]\n",
      "TS-21505 [645, 281, 77, 50, 42]\n",
      "PS-19045 [64, 112, 512, 75, 73, 34]\n",
      "AB-10105 [323, 87, 235, 83, 152, 18, 59, 47, 61]\n",
      "KM-16660 [354, 230, 4, 501]\n",
      "TW-21025 [258, 87, 102, 457, 38, 98]\n",
      "CC-12670 [264, 172, 269, 19, 184, 166]\n",
      "SF-20200 [73, 205, 193, 158, 52, 260, 37, 66]\n",
      "CK-12595 [198, 33, 211, 27, 59, 105, 132, 25, 264, 3]\n",
      "MG-17695 [165, 380]\n",
      "TB-21190 [336, 713, 1]\n",
      "AT-10435 [254, 444, 129, 251]\n",
      "MG-17890 [200, 231, 227, 141, 48, 36, 93, 22]\n",
      "DC-13285 [84, 598, 331, 61]\n",
      "RE-19405 []\n",
      "KB-16600 [345, 178, 16, 510, 26, 20]\n",
      "MF-17665 [376, 194, 14, 91]\n",
      "AR-10345 [255, 728, 2]\n",
      "PC-18745 [680, 17, 396]\n",
      "JL-15175 [5, 528, 506, 50]\n",
      "CB-12535 [127, 6, 56, 486, 118, 103]\n",
      "AH-10465 [14, 474, 332, 42]\n",
      "AG-10495 [293, 1, 2, 16, 343, 358]\n",
      "YS-21880 [195, 136, 491, 22, 59, 46, 125]\n",
      "CS-12490 [462, 116, 81]\n",
      "KS-16300 [62, 725]\n",
      "CR-12820 [755, 231]\n",
      "SC-20305 [697, 120, 48, 79, 95]\n",
      "RW-19540 [229, 7, 588, 102, 12, 3]\n",
      "TS-21655 [79, 609, 8, 124]\n",
      "LO-17170 [213, 629, 153, 61]\n",
      "SJ-20215 [148, 451, 202, 118, 107]\n",
      "RP-19855 [226, 231, 2, 108, 265, 189]\n",
      "GT-14755 [501, 330, 181]\n",
      "LC-16960 [282, 82, 241]\n",
      "NP-18670 [507, 125, 326, 21]\n",
      "TP-21565 [581, 32, 71]\n",
      "DK-13090 [221, 128, 372, 222, 33, 15]\n",
      "JJ-15445 [100, 107, 261, 79]\n",
      "AH-10195 [653, 249, 73]\n",
      "DK-12895 [201, 686, 15, 80]\n",
      "TG-21310 [127, 415, 74, 73]\n",
      "EB-13750 [85, 308, 51, 90, 27, 48, 156, 208, 15]\n",
      "JE-15475 [256, 334, 26, 26, 184]\n",
      "CM-12385 [182, 476, 324]\n",
      "JO-15550 [56, 179, 523, 43]\n",
      "BW-11110 [37, 530, 5, 58, 28, 140, 96]\n",
      "JW-16075 [264, 150, 139]\n",
      "DB-13210 [369, 55, 20, 88, 10, 76, 311, 63, 12]\n",
      "FW-14395 [532, 119]\n",
      "BP-11185 [157, 129, 251, 102, 247, 105, 19]\n",
      "BV-11245 [84, 248, 306, 37]\n",
      "CM-12115 [732, 185, 81]\n",
      "JD-15790 [191, 129, 471, 94]\n",
      "MO-17950 [822]\n",
      "HJ-14875 [525, 58, 8, 274]\n",
      "AW-10840 [230, 642, 99]\n",
      "EB-14110 [213, 16, 287, 64, 298]\n",
      "TP-21130 [159, 297, 48, 19, 77, 50, 314, 18]\n",
      "GA-14515 [586, 2, 210, 40]\n",
      "MP-17965 [90, 77, 14, 358, 67, 14, 190, 104]\n",
      "OT-18730 [416, 48, 333, 122]\n",
      "JK-16090 [894, 61]\n",
      "LS-16945 [449, 73, 105, 102, 72]\n",
      "JW-15220 [506, 379, 11, 17, 19]\n",
      "DB-13120 [125, 94, 18, 3, 381, 304]\n",
      "JB-16045 [307, 80, 197, 380]\n",
      "LC-16870 [194, 107, 6, 159, 227, 180, 71]\n",
      "SV-20815 [140, 339, 415]\n",
      "AG-10675 [252, 237, 274, 50, 40, 17]\n",
      "RO-19780 [206, 2, 102, 237, 318, 62]\n",
      "JH-16180 [160, 155, 230]\n",
      "NK-18490 [416, 91, 244, 98, 18, 9]\n",
      "EN-13780 [370, 108, 179]\n",
      "BD-11560 [666]\n",
      "ML-18265 [843]\n",
      "BD-11320 [71, 248, 62, 8, 52, 34, 43, 163, 59, 105, 65]\n",
      "CG-12040 [384, 82, 44, 146, 237]\n",
      "BP-11155 [389, 186, 89, 102, 84]\n",
      "BB-11545 [169, 355, 14, 31, 229, 34, 57, 21]\n",
      "EM-13810 [39, 39, 192, 534]\n",
      "MJ-17740 [318, 62, 13, 123, 124, 272]\n",
      "JH-15910 [93, 388, 22, 196, 16, 175]\n",
      "GB-14575 [101, 168, 326, 323]\n",
      "FC-14245 [98, 82, 311, 140, 186, 43]\n",
      "SN-20560 [85, 70, 218, 225, 216]\n",
      "SC-20770 [266, 91, 6, 150, 107, 262]\n",
      "SW-20455 [139, 33, 290, 293, 4]\n",
      "CH-12070 [127, 101]\n",
      "RH-19600 [129, 248]\n",
      "BD-11725 [237, 421, 38, 65, 56]\n",
      "VP-21730 [725, 153]\n",
      "KM-16225 [157, 335, 357, 37, 7]\n",
      "FM-14380 [89, 35, 93, 123, 175, 2, 196, 43]\n",
      "VB-21745 [129, 339, 30, 101, 243]\n",
      "TS-21085 [537]\n",
      "RK-19300 [84, 690]\n",
      "BE-11455 [43, 234, 122]\n",
      "EM-14095 [106, 351, 305]\n",
      "PN-18775 [399, 4, 95, 126, 2, 198, 21]\n",
      "DB-13405 [40, 546, 101]\n",
      "PO-19180 [91, 6, 208, 92, 62, 124, 40, 88]\n",
      "TT-21265 [413, 48]\n",
      "RE-19450 [134, 199, 232]\n",
      "JW-15955 [498, 115, 108, 68, 72]\n",
      "SC-20440 [18, 20, 7, 721, 34, 29]\n",
      "DP-13105 [302, 95, 74, 128, 159, 89, 7]\n",
      "RB-19705 [126, 627, 53]\n",
      "FH-14350 [127, 412, 108]\n",
      "KW-16435 [104, 327, 275, 56]\n",
      "CA-12055 [231, 106, 106, 2]\n",
      "CC-12430 [133, 243, 2, 52, 3, 188, 136, 34, 54]\n",
      "NM-18520 [19, 65, 37, 144, 78, 65, 43, 20, 128]\n",
      "BO-11425 [766]\n",
      "BM-11575 [109, 322, 148, 31, 126]\n",
      "AC-10615 [526, 29, 162, 113]\n",
      "MO-17800 [66, 280, 236, 42, 6, 98, 2]\n",
      "AB-10060 [176, 169, 3, 248, 132, 50, 1]\n",
      "JR-16210 [144, 60, 527, 69]\n",
      "CM-12190 [29, 23, 632, 105, 36]\n",
      "NH-18610 [30, 341, 147, 48, 77]\n",
      "SJ-20125 [167, 7, 186, 84, 103, 18, 10, 11, 102, 37, 9]\n",
      "CM-11935 [120]\n",
      "DR-12880 [64, 116, 112, 43, 304, 3, 59, 122]\n",
      "BS-11800 [560]\n",
      "HW-14935 [325, 74, 112, 28, 151, 17]\n",
      "JK-15205 [54, 315, 394]\n",
      "EM-13960 [72, 16, 581]\n",
      "HM-14980 [351, 205, 16]\n",
      "JJ-15760 [64]\n",
      "GH-14485 [426]\n",
      "SO-20335 [54, 406, 99, 139, 83]\n",
      "CG-12520 [389, 79]\n",
      "JF-15355 [251, 218, 78, 98, 48]\n",
      "RD-19660 [147, 186, 350]\n",
      "MY-17380 [216, 276, 143, 85, 39, 7]\n",
      "SG-20080 [46, 736]\n",
      "EG-13900 [396, 118, 231, 21]\n",
      "KC-16540 [313, 64, 314]\n",
      "CM-12655 [278, 97, 322, 63]\n",
      "CB-12415 [79, 100, 40, 43, 214, 265, 18]\n",
      "MT-17815 [34, 227, 155, 76, 243]\n",
      "DO-13645 [650, 16, 11, 8, 65, 7]\n",
      "MZ-17335 [335, 168, 249]\n",
      "GH-14665 [771]\n",
      "KB-16405 [652, 1]\n",
      "PB-18805 [329, 416]\n",
      "TP-21415 [273, 165, 189, 31]\n",
      "RH-19555 [237]\n",
      "SU-20665 [208, 51, 15, 189, 173, 99]\n",
      "MH-17620 [272, 23, 305]\n",
      "AF-10870 [138, 13, 16, 337, 208, 1]\n",
      "TT-21460 [135, 268, 48, 169, 98, 22]\n",
      "SC-20800 [374, 177, 168]\n",
      "DJ-13630 [340, 394]\n",
      "PM-19135 [293, 14, 383]\n",
      "EM-14200 [461, 121]\n",
      "ER-13855 [259, 59]\n",
      "JR-15670 [143]\n",
      "DL-13495 [23, 186, 77, 205, 107, 6, 55]\n",
      "BT-11485 [74]\n",
      "BO-11350 [115, 280, 90, 104]\n",
      "EB-13975 [34, 245, 446]\n",
      "JB-16000 [151, 276, 180, 5, 49, 15]\n",
      "BE-11335 [191, 241, 116, 47]\n",
      "TB-21355 [214, 87, 177, 80]\n",
      "HE-14800 [524, 163]\n",
      "BE-11410 [249, 35, 64, 245]\n",
      "DW-13540 [33, 339, 172, 29]\n",
      "JG-15310 [88, 52, 491, 28, 6]\n",
      "CJ-12010 [58, 76, 134, 54, 60, 35, 54]\n",
      "BD-11770 [53, 131, 62, 79, 8]\n",
      "HZ-14950 [441, 108, 68, 4]\n",
      "SV-20935 [121, 95, 185, 195, 27, 23, 3]\n",
      "JM-15250 [278, 110, 115, 75, 26]\n",
      "RB-19360 [58, 46, 252, 124, 62]\n",
      "SW-20350 [8, 460]\n",
      "JM-15580 [28, 94, 25, 478]\n",
      "CR-12580 [158, 62, 344]\n",
      "EL-13735 [540]\n",
      "CL-12700 [153, 126, 76]\n",
      "RB-19570 [128, 12, 121, 325]\n",
      "KD-16615 [118, 188, 14]\n",
      "CM-12235 [25, 78, 107, 13]\n",
      "SM-20905 []\n",
      "LW-16990 [308, 56, 31, 163, 13]\n",
      "CV-12805 [115, 141, 29, 61, 7, 35, 95, 112]\n",
      "AS-10285 [160, 7, 1, 6, 395]\n",
      "CC-12370 [45, 39, 448, 11]\n",
      "RW-19690 [230, 65, 173, 32]\n",
      "SC-20230 [32, 44, 347]\n",
      "RS-19870 [552]\n",
      "DV-13045 [103, 280, 157, 7]\n",
      "JS-15685 [95, 427]\n",
      "TB-21055 [71, 206, 165]\n",
      "LD-16855 []\n",
      "PF-19225 [130, 56, 247, 5]\n",
      "AR-10570 []\n",
      "LB-16735 [275, 200]\n",
      "AG-10330 [494, 8, 4]\n",
      "ML-17755 [245, 30, 50, 139, 19, 1]\n",
      "AO-10810 []\n",
      "MH-18115 [151, 48, 51, 13, 12, 122, 53, 39]\n",
      "LP-17095 [24, 120, 32, 186, 107]\n",
      "CM-12160 [57, 244, 41, 23, 44]\n",
      "SC-20845 []\n",
      "AS-10135 [371]\n",
      "RR-19315 [392]\n",
      "CD-11980 [114, 233]\n",
      "NS-18505 [56, 255, 84]\n",
      "SK-19990 [146, 243]\n",
      "JE-16165 [319, 51]\n",
      "CJ-11875 []\n",
      "RM-19750 []\n",
      "ML-18040 [70, 130]\n",
      "TM-21490 [119, 26]\n",
      "MG-18205 []\n",
      "CC-12550 [169, 2]\n",
      "CS-12460 [153]\n",
      "JC-15385 []\n",
      "TC-21145 []\n",
      "PH-18790 []\n",
      "JR-15700 []\n",
      "CD-12280 [13]\n"
     ]
    }
   ],
   "source": [
    "for key, value in customers_rate.items():\n",
    "    print(key, value)"
   ]
  },
  {
   "cell_type": "code",
   "execution_count": 68,
   "metadata": {},
   "outputs": [],
   "source": [
    "def calculate_avg(rate):\n",
    "    if len(rate) == 0:\n",
    "        return 0\n",
    "    return sum(rate)/len(rate)"
   ]
  },
  {
   "cell_type": "code",
   "execution_count": 69,
   "metadata": {},
   "outputs": [],
   "source": [
    "customers_purchase_rate = dict()\n",
    "\n",
    "for key in customers_rate.keys():\n",
    "    customers_purchase_rate[key] = calculate_avg(customers_rate[key])"
   ]
  },
  {
   "cell_type": "code",
   "execution_count": 70,
   "metadata": {},
   "outputs": [],
   "source": [
    "customer_df = pd.DataFrame(columns = ['Customer ID', 'Purchase Rate'])"
   ]
  },
  {
   "cell_type": "code",
   "execution_count": 71,
   "metadata": {},
   "outputs": [
    {
     "name": "stderr",
     "output_type": "stream",
     "text": [
      "C:\\Users\\jdham\\AppData\\Local\\Temp\\ipykernel_5156\\2508001067.py:3: FutureWarning: The behavior of DataFrame concatenation with empty or all-NA entries is deprecated. In a future version, this will no longer exclude empty or all-NA columns when determining the result dtypes. To retain the old behavior, exclude the relevant entries before the concat operation.\n",
      "  customer_df = pd.concat([customer_df, new_row], ignore_index=True)\n"
     ]
    }
   ],
   "source": [
    "for key, value in customers_purchase_rate.items():\n",
    "    new_row = pd.DataFrame([[key, value]], columns = ['Customer ID', 'Purchase Rate'])\n",
    "    customer_df = pd.concat([customer_df, new_row], ignore_index=True)"
   ]
  },
  {
   "cell_type": "code",
   "execution_count": 72,
   "metadata": {},
   "outputs": [
    {
     "data": {
      "text/html": [
       "<div>\n",
       "<style scoped>\n",
       "    .dataframe tbody tr th:only-of-type {\n",
       "        vertical-align: middle;\n",
       "    }\n",
       "\n",
       "    .dataframe tbody tr th {\n",
       "        vertical-align: top;\n",
       "    }\n",
       "\n",
       "    .dataframe thead th {\n",
       "        text-align: right;\n",
       "    }\n",
       "</style>\n",
       "<table border=\"1\" class=\"dataframe\">\n",
       "  <thead>\n",
       "    <tr style=\"text-align: right;\">\n",
       "      <th></th>\n",
       "      <th>Customer ID</th>\n",
       "      <th>Purchase Rate</th>\n",
       "    </tr>\n",
       "  </thead>\n",
       "  <tbody>\n",
       "    <tr>\n",
       "      <th>0</th>\n",
       "      <td>DP-13000</td>\n",
       "      <td>190.142857</td>\n",
       "    </tr>\n",
       "    <tr>\n",
       "      <th>1</th>\n",
       "      <td>PO-19195</td>\n",
       "      <td>342.500000</td>\n",
       "    </tr>\n",
       "    <tr>\n",
       "      <th>2</th>\n",
       "      <td>MB-18085</td>\n",
       "      <td>235.166667</td>\n",
       "    </tr>\n",
       "    <tr>\n",
       "      <th>3</th>\n",
       "      <td>ME-17320</td>\n",
       "      <td>156.888889</td>\n",
       "    </tr>\n",
       "    <tr>\n",
       "      <th>4</th>\n",
       "      <td>JO-15145</td>\n",
       "      <td>174.625000</td>\n",
       "    </tr>\n",
       "  </tbody>\n",
       "</table>\n",
       "</div>"
      ],
      "text/plain": [
       "  Customer ID  Purchase Rate\n",
       "0    DP-13000     190.142857\n",
       "1    PO-19195     342.500000\n",
       "2    MB-18085     235.166667\n",
       "3    ME-17320     156.888889\n",
       "4    JO-15145     174.625000"
      ]
     },
     "execution_count": 72,
     "metadata": {},
     "output_type": "execute_result"
    }
   ],
   "source": [
    "customer_df.head()"
   ]
  },
  {
   "cell_type": "markdown",
   "metadata": {},
   "source": [
    "we have the Purchase Rate. Let us calculate frequency."
   ]
  },
  {
   "cell_type": "code",
   "execution_count": 73,
   "metadata": {},
   "outputs": [],
   "source": [
    "customer_freq = dict()\n",
    "\n",
    "for index, row in df.iterrows():\n",
    "    if row['Customer ID'] not in customer_freq.keys():\n",
    "        customer_freq[row['Customer ID']] = [row['Order ID']]\n",
    "    else:\n",
    "        if row['Order ID'] not in customer_freq[row['Customer ID']]:\n",
    "            customer_freq[row['Customer ID']].append(row['Order ID'])"
   ]
  },
  {
   "cell_type": "code",
   "execution_count": 74,
   "metadata": {},
   "outputs": [],
   "source": [
    "for key, value in customer_freq.items():\n",
    "    customer_freq[key] = len(value)"
   ]
  },
  {
   "cell_type": "code",
   "execution_count": 75,
   "metadata": {},
   "outputs": [],
   "source": [
    "for key, value in customer_freq.items():\n",
    "    customer_df['Frequency'] = customer_df.apply(lambda row: customer_freq[row['Customer ID']], axis=1)    "
   ]
  },
  {
   "cell_type": "code",
   "execution_count": 76,
   "metadata": {},
   "outputs": [
    {
     "data": {
      "text/html": [
       "<div>\n",
       "<style scoped>\n",
       "    .dataframe tbody tr th:only-of-type {\n",
       "        vertical-align: middle;\n",
       "    }\n",
       "\n",
       "    .dataframe tbody tr th {\n",
       "        vertical-align: top;\n",
       "    }\n",
       "\n",
       "    .dataframe thead th {\n",
       "        text-align: right;\n",
       "    }\n",
       "</style>\n",
       "<table border=\"1\" class=\"dataframe\">\n",
       "  <thead>\n",
       "    <tr style=\"text-align: right;\">\n",
       "      <th></th>\n",
       "      <th>Customer ID</th>\n",
       "      <th>Purchase Rate</th>\n",
       "      <th>Frequency</th>\n",
       "    </tr>\n",
       "  </thead>\n",
       "  <tbody>\n",
       "    <tr>\n",
       "      <th>0</th>\n",
       "      <td>DP-13000</td>\n",
       "      <td>190.142857</td>\n",
       "      <td>8</td>\n",
       "    </tr>\n",
       "    <tr>\n",
       "      <th>1</th>\n",
       "      <td>PO-19195</td>\n",
       "      <td>342.500000</td>\n",
       "      <td>5</td>\n",
       "    </tr>\n",
       "    <tr>\n",
       "      <th>2</th>\n",
       "      <td>MB-18085</td>\n",
       "      <td>235.166667</td>\n",
       "      <td>7</td>\n",
       "    </tr>\n",
       "    <tr>\n",
       "      <th>3</th>\n",
       "      <td>ME-17320</td>\n",
       "      <td>156.888889</td>\n",
       "      <td>10</td>\n",
       "    </tr>\n",
       "    <tr>\n",
       "      <th>4</th>\n",
       "      <td>JO-15145</td>\n",
       "      <td>174.625000</td>\n",
       "      <td>9</td>\n",
       "    </tr>\n",
       "  </tbody>\n",
       "</table>\n",
       "</div>"
      ],
      "text/plain": [
       "  Customer ID  Purchase Rate  Frequency\n",
       "0    DP-13000     190.142857          8\n",
       "1    PO-19195     342.500000          5\n",
       "2    MB-18085     235.166667          7\n",
       "3    ME-17320     156.888889         10\n",
       "4    JO-15145     174.625000          9"
      ]
     },
     "execution_count": 76,
     "metadata": {},
     "output_type": "execute_result"
    }
   ],
   "source": [
    "customer_df.head()"
   ]
  },
  {
   "cell_type": "markdown",
   "metadata": {},
   "source": [
    "We have the frequency now. Let us find the recency with respect to the last order's date."
   ]
  },
  {
   "cell_type": "code",
   "execution_count": 77,
   "metadata": {},
   "outputs": [
    {
     "name": "stdout",
     "output_type": "stream",
     "text": [
      "2018-12-30 00:00:00\n"
     ]
    }
   ],
   "source": [
    "latest_order_date = temp_df['Order Date'].max()\n",
    "latest_order_date = pd.to_datetime(latest_order_date, format='%d/%m/%Y')\n",
    "print(latest_order_date)"
   ]
  },
  {
   "cell_type": "code",
   "execution_count": 78,
   "metadata": {},
   "outputs": [],
   "source": [
    "customer_recency = dict()\n",
    "\n",
    "for key in customers_order_dates.keys():\n",
    "    customer_recency[key] = (latest_order_date - customers_order_dates[key][-1]).days"
   ]
  },
  {
   "cell_type": "code",
   "execution_count": 79,
   "metadata": {},
   "outputs": [
    {
     "data": {
      "text/html": [
       "<div>\n",
       "<style scoped>\n",
       "    .dataframe tbody tr th:only-of-type {\n",
       "        vertical-align: middle;\n",
       "    }\n",
       "\n",
       "    .dataframe tbody tr th {\n",
       "        vertical-align: top;\n",
       "    }\n",
       "\n",
       "    .dataframe thead th {\n",
       "        text-align: right;\n",
       "    }\n",
       "</style>\n",
       "<table border=\"1\" class=\"dataframe\">\n",
       "  <thead>\n",
       "    <tr style=\"text-align: right;\">\n",
       "      <th></th>\n",
       "      <th>Customer ID</th>\n",
       "      <th>Purchase Rate</th>\n",
       "      <th>Frequency</th>\n",
       "      <th>Recency</th>\n",
       "    </tr>\n",
       "  </thead>\n",
       "  <tbody>\n",
       "    <tr>\n",
       "      <th>0</th>\n",
       "      <td>DP-13000</td>\n",
       "      <td>190.142857</td>\n",
       "      <td>8</td>\n",
       "      <td>126</td>\n",
       "    </tr>\n",
       "    <tr>\n",
       "      <th>1</th>\n",
       "      <td>PO-19195</td>\n",
       "      <td>342.500000</td>\n",
       "      <td>5</td>\n",
       "      <td>86</td>\n",
       "    </tr>\n",
       "    <tr>\n",
       "      <th>2</th>\n",
       "      <td>MB-18085</td>\n",
       "      <td>235.166667</td>\n",
       "      <td>7</td>\n",
       "      <td>44</td>\n",
       "    </tr>\n",
       "    <tr>\n",
       "      <th>3</th>\n",
       "      <td>ME-17320</td>\n",
       "      <td>156.888889</td>\n",
       "      <td>10</td>\n",
       "      <td>42</td>\n",
       "    </tr>\n",
       "    <tr>\n",
       "      <th>4</th>\n",
       "      <td>JO-15145</td>\n",
       "      <td>174.625000</td>\n",
       "      <td>9</td>\n",
       "      <td>57</td>\n",
       "    </tr>\n",
       "  </tbody>\n",
       "</table>\n",
       "</div>"
      ],
      "text/plain": [
       "  Customer ID  Purchase Rate  Frequency  Recency\n",
       "0    DP-13000     190.142857          8      126\n",
       "1    PO-19195     342.500000          5       86\n",
       "2    MB-18085     235.166667          7       44\n",
       "3    ME-17320     156.888889         10       42\n",
       "4    JO-15145     174.625000          9       57"
      ]
     },
     "execution_count": 79,
     "metadata": {},
     "output_type": "execute_result"
    }
   ],
   "source": [
    "customer_df['Recency'] = customer_df.apply(lambda row: customer_recency[row['Customer ID']], axis=1)\n",
    "customer_df.head()"
   ]
  },
  {
   "cell_type": "markdown",
   "metadata": {},
   "source": [
    "We have Recency as well, let us go for Monetary Value"
   ]
  },
  {
   "cell_type": "code",
   "execution_count": 80,
   "metadata": {},
   "outputs": [],
   "source": [
    "customer_sales = dict()\n",
    "\n",
    "for index, row in temp_df.iterrows():\n",
    "    c_id = row['Customer ID']\n",
    "    sales = row['Sales']\n",
    "    if c_id not in customer_sales.keys():\n",
    "        customer_sales[c_id] = [sales]\n",
    "    else:\n",
    "        customer_sales[c_id].append(sales)"
   ]
  },
  {
   "cell_type": "code",
   "execution_count": 81,
   "metadata": {},
   "outputs": [],
   "source": [
    "customer_monetary = dict()\n",
    "\n",
    "for key in customer_sales.keys():\n",
    "    if len(customer_sales[key]) == 0:\n",
    "        customer_monetary[key] = 0\n",
    "    else: \n",
    "        customer_monetary[key] = round(sum(customer_sales[key])/len(customer_sales[key]),2)"
   ]
  },
  {
   "cell_type": "code",
   "execution_count": 82,
   "metadata": {},
   "outputs": [],
   "source": [
    "customer_df['Monetary'] = customer_df.apply(lambda row: customer_monetary[row['Customer ID']], axis=1)"
   ]
  },
  {
   "cell_type": "code",
   "execution_count": 83,
   "metadata": {},
   "outputs": [
    {
     "data": {
      "text/html": [
       "<div>\n",
       "<style scoped>\n",
       "    .dataframe tbody tr th:only-of-type {\n",
       "        vertical-align: middle;\n",
       "    }\n",
       "\n",
       "    .dataframe tbody tr th {\n",
       "        vertical-align: top;\n",
       "    }\n",
       "\n",
       "    .dataframe thead th {\n",
       "        text-align: right;\n",
       "    }\n",
       "</style>\n",
       "<table border=\"1\" class=\"dataframe\">\n",
       "  <thead>\n",
       "    <tr style=\"text-align: right;\">\n",
       "      <th></th>\n",
       "      <th>Customer ID</th>\n",
       "      <th>Purchase Rate</th>\n",
       "      <th>Frequency</th>\n",
       "      <th>Recency</th>\n",
       "      <th>Monetary</th>\n",
       "    </tr>\n",
       "  </thead>\n",
       "  <tbody>\n",
       "    <tr>\n",
       "      <th>0</th>\n",
       "      <td>DP-13000</td>\n",
       "      <td>190.142857</td>\n",
       "      <td>8</td>\n",
       "      <td>126</td>\n",
       "      <td>59.83</td>\n",
       "    </tr>\n",
       "    <tr>\n",
       "      <th>1</th>\n",
       "      <td>PO-19195</td>\n",
       "      <td>342.500000</td>\n",
       "      <td>5</td>\n",
       "      <td>86</td>\n",
       "      <td>105.69</td>\n",
       "    </tr>\n",
       "    <tr>\n",
       "      <th>2</th>\n",
       "      <td>MB-18085</td>\n",
       "      <td>235.166667</td>\n",
       "      <td>7</td>\n",
       "      <td>44</td>\n",
       "      <td>142.82</td>\n",
       "    </tr>\n",
       "    <tr>\n",
       "      <th>3</th>\n",
       "      <td>ME-17320</td>\n",
       "      <td>156.888889</td>\n",
       "      <td>10</td>\n",
       "      <td>42</td>\n",
       "      <td>484.71</td>\n",
       "    </tr>\n",
       "    <tr>\n",
       "      <th>4</th>\n",
       "      <td>JO-15145</td>\n",
       "      <td>174.625000</td>\n",
       "      <td>9</td>\n",
       "      <td>57</td>\n",
       "      <td>250.38</td>\n",
       "    </tr>\n",
       "  </tbody>\n",
       "</table>\n",
       "</div>"
      ],
      "text/plain": [
       "  Customer ID  Purchase Rate  Frequency  Recency  Monetary\n",
       "0    DP-13000     190.142857          8      126     59.83\n",
       "1    PO-19195     342.500000          5       86    105.69\n",
       "2    MB-18085     235.166667          7       44    142.82\n",
       "3    ME-17320     156.888889         10       42    484.71\n",
       "4    JO-15145     174.625000          9       57    250.38"
      ]
     },
     "execution_count": 83,
     "metadata": {},
     "output_type": "execute_result"
    }
   ],
   "source": [
    "customer_df.head()"
   ]
  },
  {
   "cell_type": "markdown",
   "metadata": {},
   "source": [
    "We are ready ! Lets export this data"
   ]
  },
  {
   "cell_type": "code",
   "execution_count": 84,
   "metadata": {},
   "outputs": [],
   "source": [
    "customer_df.to_csv('customer_RFM.csv', index=False)"
   ]
  },
  {
   "cell_type": "markdown",
   "metadata": {},
   "source": [
    "Since we already cleaned the data of any duplicacies and null values, I analyzed the data and created dashboards on base of it.<br><br>"
   ]
  },
  {
   "cell_type": "markdown",
   "metadata": {},
   "source": [
    "# Report"
   ]
  }
 ],
 "metadata": {
  "kernelspec": {
   "display_name": "Python 3",
   "language": "python",
   "name": "python3"
  },
  "language_info": {
   "codemirror_mode": {
    "name": "ipython",
    "version": 3
   },
   "file_extension": ".py",
   "mimetype": "text/x-python",
   "name": "python",
   "nbconvert_exporter": "python",
   "pygments_lexer": "ipython3",
   "version": "3.11.8"
  }
 },
 "nbformat": 4,
 "nbformat_minor": 2
}
