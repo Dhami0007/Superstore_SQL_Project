{
 "cells": [
  {
   "cell_type": "markdown",
   "metadata": {},
   "source": [
    "# ETL Project Using Python and SQL for Superstore Data\n",
    "\n",
    "In this project, I will extract the superstore data in CSV form, Transform the data to be Parsed into Database, and Load the data in SQL database. <br>\n",
    "This project will also include:\n",
    "1. Data Infrastructure development in SQL \n",
    "2. Data Modelling in SQL\n",
    "3. Data Population into SQL Database"
   ]
  },
  {
   "cell_type": "code",
   "execution_count": 184,
   "metadata": {},
   "outputs": [],
   "source": [
    "import pandas as pd"
   ]
  },
  {
   "cell_type": "code",
   "execution_count": 185,
   "metadata": {},
   "outputs": [],
   "source": [
    "data = pd.read_csv('Superstore_data.csv')\n",
    "df = pd.DataFrame(data)"
   ]
  },
  {
   "cell_type": "code",
   "execution_count": 186,
   "metadata": {},
   "outputs": [
    {
     "data": {
      "text/html": [
       "<div>\n",
       "<style scoped>\n",
       "    .dataframe tbody tr th:only-of-type {\n",
       "        vertical-align: middle;\n",
       "    }\n",
       "\n",
       "    .dataframe tbody tr th {\n",
       "        vertical-align: top;\n",
       "    }\n",
       "\n",
       "    .dataframe thead th {\n",
       "        text-align: right;\n",
       "    }\n",
       "</style>\n",
       "<table border=\"1\" class=\"dataframe\">\n",
       "  <thead>\n",
       "    <tr style=\"text-align: right;\">\n",
       "      <th></th>\n",
       "      <th>Row ID</th>\n",
       "      <th>Order ID</th>\n",
       "      <th>Order Date</th>\n",
       "      <th>Ship Date</th>\n",
       "      <th>Ship Mode</th>\n",
       "      <th>Customer ID</th>\n",
       "      <th>Customer Name</th>\n",
       "      <th>Segment</th>\n",
       "      <th>Country</th>\n",
       "      <th>City</th>\n",
       "      <th>State</th>\n",
       "      <th>Postal Code</th>\n",
       "      <th>Region</th>\n",
       "      <th>Product ID</th>\n",
       "      <th>Category</th>\n",
       "      <th>Sub-Category</th>\n",
       "      <th>Product Name</th>\n",
       "      <th>Sales</th>\n",
       "    </tr>\n",
       "  </thead>\n",
       "  <tbody>\n",
       "    <tr>\n",
       "      <th>0</th>\n",
       "      <td>1</td>\n",
       "      <td>CA-2017-152156</td>\n",
       "      <td>08/11/2017</td>\n",
       "      <td>11/11/2017</td>\n",
       "      <td>Second Class</td>\n",
       "      <td>CG-12520</td>\n",
       "      <td>Claire Gute</td>\n",
       "      <td>Consumer</td>\n",
       "      <td>United States</td>\n",
       "      <td>Henderson</td>\n",
       "      <td>Kentucky</td>\n",
       "      <td>42420.0</td>\n",
       "      <td>South</td>\n",
       "      <td>FUR-BO-10001798</td>\n",
       "      <td>Furniture</td>\n",
       "      <td>Bookcases</td>\n",
       "      <td>Bush Somerset Collection Bookcase</td>\n",
       "      <td>261.9600</td>\n",
       "    </tr>\n",
       "    <tr>\n",
       "      <th>1</th>\n",
       "      <td>2</td>\n",
       "      <td>CA-2017-152156</td>\n",
       "      <td>08/11/2017</td>\n",
       "      <td>11/11/2017</td>\n",
       "      <td>Second Class</td>\n",
       "      <td>CG-12520</td>\n",
       "      <td>Claire Gute</td>\n",
       "      <td>Consumer</td>\n",
       "      <td>United States</td>\n",
       "      <td>Henderson</td>\n",
       "      <td>Kentucky</td>\n",
       "      <td>42420.0</td>\n",
       "      <td>South</td>\n",
       "      <td>FUR-CH-10000454</td>\n",
       "      <td>Furniture</td>\n",
       "      <td>Chairs</td>\n",
       "      <td>Hon Deluxe Fabric Upholstered Stacking Chairs,...</td>\n",
       "      <td>731.9400</td>\n",
       "    </tr>\n",
       "    <tr>\n",
       "      <th>2</th>\n",
       "      <td>3</td>\n",
       "      <td>CA-2017-138688</td>\n",
       "      <td>12/06/2017</td>\n",
       "      <td>16/06/2017</td>\n",
       "      <td>Second Class</td>\n",
       "      <td>DV-13045</td>\n",
       "      <td>Darrin Van Huff</td>\n",
       "      <td>Corporate</td>\n",
       "      <td>United States</td>\n",
       "      <td>Los Angeles</td>\n",
       "      <td>California</td>\n",
       "      <td>90036.0</td>\n",
       "      <td>West</td>\n",
       "      <td>OFF-LA-10000240</td>\n",
       "      <td>Office Supplies</td>\n",
       "      <td>Labels</td>\n",
       "      <td>Self-Adhesive Address Labels for Typewriters b...</td>\n",
       "      <td>14.6200</td>\n",
       "    </tr>\n",
       "    <tr>\n",
       "      <th>3</th>\n",
       "      <td>4</td>\n",
       "      <td>US-2016-108966</td>\n",
       "      <td>11/10/2016</td>\n",
       "      <td>18/10/2016</td>\n",
       "      <td>Standard Class</td>\n",
       "      <td>SO-20335</td>\n",
       "      <td>Sean O'Donnell</td>\n",
       "      <td>Consumer</td>\n",
       "      <td>United States</td>\n",
       "      <td>Fort Lauderdale</td>\n",
       "      <td>Florida</td>\n",
       "      <td>33311.0</td>\n",
       "      <td>South</td>\n",
       "      <td>FUR-TA-10000577</td>\n",
       "      <td>Furniture</td>\n",
       "      <td>Tables</td>\n",
       "      <td>Bretford CR4500 Series Slim Rectangular Table</td>\n",
       "      <td>957.5775</td>\n",
       "    </tr>\n",
       "    <tr>\n",
       "      <th>4</th>\n",
       "      <td>5</td>\n",
       "      <td>US-2016-108966</td>\n",
       "      <td>11/10/2016</td>\n",
       "      <td>18/10/2016</td>\n",
       "      <td>Standard Class</td>\n",
       "      <td>SO-20335</td>\n",
       "      <td>Sean O'Donnell</td>\n",
       "      <td>Consumer</td>\n",
       "      <td>United States</td>\n",
       "      <td>Fort Lauderdale</td>\n",
       "      <td>Florida</td>\n",
       "      <td>33311.0</td>\n",
       "      <td>South</td>\n",
       "      <td>OFF-ST-10000760</td>\n",
       "      <td>Office Supplies</td>\n",
       "      <td>Storage</td>\n",
       "      <td>Eldon Fold 'N Roll Cart System</td>\n",
       "      <td>22.3680</td>\n",
       "    </tr>\n",
       "  </tbody>\n",
       "</table>\n",
       "</div>"
      ],
      "text/plain": [
       "   Row ID        Order ID  Order Date   Ship Date       Ship Mode Customer ID  \\\n",
       "0       1  CA-2017-152156  08/11/2017  11/11/2017    Second Class    CG-12520   \n",
       "1       2  CA-2017-152156  08/11/2017  11/11/2017    Second Class    CG-12520   \n",
       "2       3  CA-2017-138688  12/06/2017  16/06/2017    Second Class    DV-13045   \n",
       "3       4  US-2016-108966  11/10/2016  18/10/2016  Standard Class    SO-20335   \n",
       "4       5  US-2016-108966  11/10/2016  18/10/2016  Standard Class    SO-20335   \n",
       "\n",
       "     Customer Name    Segment        Country             City       State  \\\n",
       "0      Claire Gute   Consumer  United States        Henderson    Kentucky   \n",
       "1      Claire Gute   Consumer  United States        Henderson    Kentucky   \n",
       "2  Darrin Van Huff  Corporate  United States      Los Angeles  California   \n",
       "3   Sean O'Donnell   Consumer  United States  Fort Lauderdale     Florida   \n",
       "4   Sean O'Donnell   Consumer  United States  Fort Lauderdale     Florida   \n",
       "\n",
       "   Postal Code Region       Product ID         Category Sub-Category  \\\n",
       "0      42420.0  South  FUR-BO-10001798        Furniture    Bookcases   \n",
       "1      42420.0  South  FUR-CH-10000454        Furniture       Chairs   \n",
       "2      90036.0   West  OFF-LA-10000240  Office Supplies       Labels   \n",
       "3      33311.0  South  FUR-TA-10000577        Furniture       Tables   \n",
       "4      33311.0  South  OFF-ST-10000760  Office Supplies      Storage   \n",
       "\n",
       "                                        Product Name     Sales  \n",
       "0                  Bush Somerset Collection Bookcase  261.9600  \n",
       "1  Hon Deluxe Fabric Upholstered Stacking Chairs,...  731.9400  \n",
       "2  Self-Adhesive Address Labels for Typewriters b...   14.6200  \n",
       "3      Bretford CR4500 Series Slim Rectangular Table  957.5775  \n",
       "4                     Eldon Fold 'N Roll Cart System   22.3680  "
      ]
     },
     "execution_count": 186,
     "metadata": {},
     "output_type": "execute_result"
    }
   ],
   "source": [
    "df.head()"
   ]
  },
  {
   "cell_type": "code",
   "execution_count": 187,
   "metadata": {},
   "outputs": [
    {
     "data": {
      "text/plain": [
       "['Row ID',\n",
       " 'Order ID',\n",
       " 'Order Date',\n",
       " 'Ship Date',\n",
       " 'Ship Mode',\n",
       " 'Customer ID',\n",
       " 'Customer Name',\n",
       " 'Segment',\n",
       " 'Country',\n",
       " 'City',\n",
       " 'State',\n",
       " 'Postal Code',\n",
       " 'Region',\n",
       " 'Product ID',\n",
       " 'Category',\n",
       " 'Sub-Category',\n",
       " 'Product Name',\n",
       " 'Sales']"
      ]
     },
     "execution_count": 187,
     "metadata": {},
     "output_type": "execute_result"
    }
   ],
   "source": [
    "list(df.columns)"
   ]
  },
  {
   "cell_type": "markdown",
   "metadata": {},
   "source": [
    "From this list of columns, we can see that this sales data can be normalized. <br>\n",
    "This means:\n",
    "1. Customer ID, Customer Name, Segment, Country, City, State, Postal Code can become a separate table named \"Customers\"\n",
    "2. Product ID, Category, and Sub-Category can become a separate table named \"Products\"\n",
    "\n",
    "Also, we can also notice that we do not really need Row ID. The column Invoice ID is good enough column to become primary key for \"Sales\" table."
   ]
  },
  {
   "cell_type": "markdown",
   "metadata": {},
   "source": [
    "# Data Infrastructure\n",
    "\n",
    "As the name of the project suggests, I will be transferring the data to SQL. For that, I will have to use appropriate libraries in python to create a connection with SQL database. "
   ]
  },
  {
   "cell_type": "code",
   "execution_count": 188,
   "metadata": {},
   "outputs": [],
   "source": [
    "# importing connector\n",
    "import mysql.connector\n",
    "import os\n",
    "from dotenv import load_dotenv"
   ]
  },
  {
   "cell_type": "code",
   "execution_count": 189,
   "metadata": {},
   "outputs": [],
   "source": [
    "load_dotenv()\n",
    "db_user = os.getenv('DB_USER')\n",
    "db_password = os.getenv('DB_PASSWORD')\n",
    "\n",
    "# Establishing the connection\n",
    "try:\n",
    "    conn = mysql.connector.connect(\n",
    "        host= \"127.0.0.1\",\n",
    "        port= \"3306\",\n",
    "        user= db_user,\n",
    "        password= db_password,\n",
    "    )\n",
    "except mysql.connector.Error as e:\n",
    "    print(f\"Error: {e}\")"
   ]
  },
  {
   "cell_type": "code",
   "execution_count": 190,
   "metadata": {},
   "outputs": [],
   "source": [
    "# creating cursor\n",
    "cursor = conn.cursor()"
   ]
  },
  {
   "cell_type": "code",
   "execution_count": 191,
   "metadata": {},
   "outputs": [
    {
     "name": "stdout",
     "output_type": "stream",
     "text": [
      "('information_schema',)\n",
      "('mysql',)\n",
      "('parks_and_recreation',)\n",
      "('performance_schema',)\n",
      "('sakila',)\n",
      "('superstore_db',)\n",
      "('sys',)\n",
      "('world',)\n"
     ]
    }
   ],
   "source": [
    "# Testing the connection\n",
    "# Let us list all the Schemas/Databases in MySQL\n",
    "cursor.execute(\"SHOW DATABASES\")\n",
    "dbs = cursor.fetchall()\n",
    "for db in dbs:\n",
    "    print(db)"
   ]
  },
  {
   "cell_type": "markdown",
   "metadata": {},
   "source": [
    "Our connection is set up. Now, Let us create separate Database for our Superstore Data."
   ]
  },
  {
   "cell_type": "code",
   "execution_count": 192,
   "metadata": {},
   "outputs": [],
   "source": [
    "# creating Database\n",
    "cursor.execute(\"CREATE SCHEMA IF NOT EXISTS superstore_db\")"
   ]
  },
  {
   "cell_type": "markdown",
   "metadata": {},
   "source": [
    "Now our Data Infrastructure is set up. Let us move to Data modelling now."
   ]
  },
  {
   "cell_type": "markdown",
   "metadata": {},
   "source": [
    "# Data Modelling\n",
    "Now we will be creating the tables we discussed above:\n",
    "1. Products\n",
    "2. Customers\n",
    "3. Sales\n",
    "\n",
    "For making Data modelling easier, I will be using [Quick DBD](https://www.quickdatabasediagrams.com/) platform which is efficient for data modelling in SQL.<br>The schema generated is present in the \"quickDB_schema.txt\" file"
   ]
  },
  {
   "cell_type": "code",
   "execution_count": 193,
   "metadata": {},
   "outputs": [
    {
     "data": {
      "text/plain": [
       "Row ID           9800\n",
       "Order ID         4922\n",
       "Order Date       1230\n",
       "Ship Date        1326\n",
       "Ship Mode           4\n",
       "Customer ID       793\n",
       "Customer Name     793\n",
       "Segment             3\n",
       "Country             1\n",
       "City              529\n",
       "State              49\n",
       "Postal Code       626\n",
       "Region              4\n",
       "Product ID       1861\n",
       "Category            3\n",
       "Sub-Category       17\n",
       "Product Name     1849\n",
       "Sales            5757\n",
       "dtype: int64"
      ]
     },
     "execution_count": 193,
     "metadata": {},
     "output_type": "execute_result"
    }
   ],
   "source": [
    "# Number of unique values in each column\n",
    "df.nunique()"
   ]
  },
  {
   "cell_type": "markdown",
   "metadata": {},
   "source": [
    "We see that the \"Country\" column only has 1 unique value. This means that the company is only operating in one country for now. Therefore, we can remove this column assuming shared knowledge of the operational country.<br>\n",
    "Similarly, we do not require the Row ID as well, it is just an indentifier for rows."
   ]
  },
  {
   "cell_type": "code",
   "execution_count": 194,
   "metadata": {},
   "outputs": [],
   "source": [
    "df.drop(['Country','Row ID'], axis=1, inplace=True)"
   ]
  },
  {
   "cell_type": "code",
   "execution_count": 195,
   "metadata": {},
   "outputs": [
    {
     "data": {
      "text/plain": [
       "Index(['Order ID', 'Order Date', 'Ship Date', 'Ship Mode', 'Customer ID',\n",
       "       'Customer Name', 'Segment', 'City', 'State', 'Postal Code', 'Region',\n",
       "       'Product ID', 'Category', 'Sub-Category', 'Product Name', 'Sales'],\n",
       "      dtype='object')"
      ]
     },
     "execution_count": 195,
     "metadata": {},
     "output_type": "execute_result"
    }
   ],
   "source": [
    "df.columns"
   ]
  },
  {
   "cell_type": "code",
   "execution_count": 196,
   "metadata": {},
   "outputs": [],
   "source": [
    "# Selecting the database\n",
    "cursor.execute(\"USE superstore_db\")"
   ]
  },
  {
   "cell_type": "code",
   "execution_count": 197,
   "metadata": {},
   "outputs": [],
   "source": [
    "# Creating table \"Sales\"\n",
    "cursor.execute(\"DROP TABLE IF EXISTS Sales\")\n",
    "cursor.execute(\"\"\"\n",
    "                CREATE TABLE `Sales` (\n",
    "                `order_id` VARCHAR(255)  NOT NULL ,\n",
    "                `order_date` DATE  NOT NULL ,\n",
    "                `ship_date` DATE  NOT NULL ,\n",
    "                `ship_method` VARCHAR(255)  NOT NULL ,\n",
    "                `customer_id` VARCHAR(255)  NOT NULL ,\n",
    "                `product_id` VARCHAR(255)  NOT NULL ,\n",
    "                `sales` INT  NOT NULL ,\n",
    "                PRIMARY KEY (\n",
    "                    `order_id`,`product_id`\n",
    "                )\n",
    "            );\n",
    "            \"\"\")"
   ]
  },
  {
   "cell_type": "code",
   "execution_count": 198,
   "metadata": {},
   "outputs": [],
   "source": [
    "# Creating table \"Products\"\n",
    "cursor.execute(\"DROP TABLE IF EXISTS Products\")\n",
    "cursor.execute(\"\"\"\n",
    "               CREATE TABLE `Products` (\n",
    "                `product_id` VARCHAR(255)  NOT NULL ,\n",
    "                `category` VARCHAR(255)  NOT NULL ,\n",
    "                `sub_category` VARCHAR(255)  NOT NULL ,\n",
    "                `product_name` VARCHAR(255)  NOT NULL ,\n",
    "                PRIMARY KEY (\n",
    "                    `product_id`\n",
    "                )\n",
    "            );\n",
    "            \"\"\")"
   ]
  },
  {
   "cell_type": "code",
   "execution_count": 199,
   "metadata": {},
   "outputs": [],
   "source": [
    "# Creating table \"Customers\"\n",
    "cursor.execute(\"DROP TABLE IF EXISTS Customers\")\n",
    "cursor.execute(\"\"\"\n",
    "                CREATE TABLE `Customers` (\n",
    "                    `customer_id` VARCHAR(255)  NOT NULL ,\n",
    "                    `customer_name` VARCHAR(255)  NOT NULL ,\n",
    "                    `segment` VARCHAR(255)  NOT NULL ,\n",
    "                    `city` VARCHAR(255)  NOT NULL ,\n",
    "                    `state` VARCHAR(255)  NOT NULL ,\n",
    "                    `postal` INT  NOT NULL ,\n",
    "                    `region` VARCHAR(255)  NOT NULL ,\n",
    "                    PRIMARY KEY (\n",
    "                        `customer_id`\n",
    "                    )\n",
    "                );\n",
    "                \"\"\")"
   ]
  },
  {
   "cell_type": "code",
   "execution_count": 200,
   "metadata": {},
   "outputs": [],
   "source": [
    "# Altering tables to add foreign keys\n",
    "cursor.execute(\"\"\"\n",
    "                ALTER TABLE `Sales` ADD FOREIGN KEY (`customer_id`) REFERENCES `Customers`(`customer_id`);\n",
    "                \"\"\")\n",
    "\n",
    "cursor.execute(\"\"\"\n",
    "                ALTER TABLE `Sales` ADD FOREIGN KEY (`product_id`) REFERENCES `Products`(`product_id`);\n",
    "                \"\"\")\n",
    "\n",
    "# Adding constraints for unique ids in products and customers\n",
    "cursor.execute(\"\"\"\n",
    "                ALTER TABLE `Products` ADD UNIQUE (`product_id`);\n",
    "                \"\"\")\n",
    "cursor.execute(\"\"\"\n",
    "                ALTER TABLE `Customers` ADD UNIQUE (`customer_id`);\n",
    "                \"\"\")"
   ]
  },
  {
   "cell_type": "code",
   "execution_count": 201,
   "metadata": {},
   "outputs": [],
   "source": [
    "cursor.execute(\"SHOW TABLES\")"
   ]
  },
  {
   "cell_type": "code",
   "execution_count": 202,
   "metadata": {},
   "outputs": [
    {
     "name": "stdout",
     "output_type": "stream",
     "text": [
      "customers\n",
      "('customer_id', 'varchar(255)', 'NO', 'PRI', None, '')\n",
      "('customer_name', 'varchar(255)', 'NO', '', None, '')\n",
      "('segment', 'varchar(255)', 'NO', '', None, '')\n",
      "('city', 'varchar(255)', 'NO', '', None, '')\n",
      "('state', 'varchar(255)', 'NO', '', None, '')\n",
      "('postal', 'int', 'NO', '', None, '')\n",
      "('region', 'varchar(255)', 'NO', '', None, '')\n",
      "-----------------\n",
      "products\n",
      "('product_id', 'varchar(255)', 'NO', 'PRI', None, '')\n",
      "('category', 'varchar(255)', 'NO', '', None, '')\n",
      "('sub_category', 'varchar(255)', 'NO', '', None, '')\n",
      "('product_name', 'varchar(255)', 'NO', '', None, '')\n",
      "-----------------\n",
      "sales\n",
      "('order_id', 'varchar(255)', 'NO', 'PRI', None, '')\n",
      "('order_date', 'date', 'NO', '', None, '')\n",
      "('ship_date', 'date', 'NO', '', None, '')\n",
      "('ship_method', 'varchar(255)', 'NO', '', None, '')\n",
      "('customer_id', 'varchar(255)', 'NO', 'MUL', None, '')\n",
      "('product_id', 'varchar(255)', 'NO', 'PRI', None, '')\n",
      "('sales', 'int', 'NO', '', None, '')\n",
      "-----------------\n"
     ]
    }
   ],
   "source": [
    "# Displaying Tables\n",
    "tables = cursor.fetchall()\n",
    "for table in tables:\n",
    "    print(table[0])\n",
    "    cursor.execute(f\"DESCRIBE {table[0]}\")\n",
    "    for row in cursor.fetchall():\n",
    "        print(row)\n",
    "    print(\"-----------------\")\n"
   ]
  },
  {
   "cell_type": "markdown",
   "metadata": {},
   "source": [
    "The tables have been generated. Now, it is time to populate the tables as per the Data we have in our excel sheet. Let us clean the data before populatating the database. This is because it has become evident upon inspection that we may have some duplicate data rows and null values. "
   ]
  },
  {
   "cell_type": "markdown",
   "metadata": {},
   "source": [
    "# Data Cleaning\n",
    "What we are going to do right off the bat is that we are going to replace the double quotes with single quotes. Because this is going to be a problem while parsing values for data population."
   ]
  },
  {
   "cell_type": "code",
   "execution_count": 203,
   "metadata": {},
   "outputs": [],
   "source": [
    "df['Product Name'] = df.apply(lambda x: x['Product Name'].replace('\"', \"'\"), axis=1)"
   ]
  },
  {
   "cell_type": "markdown",
   "metadata": {},
   "source": [
    "Now lets remove the null values."
   ]
  },
  {
   "cell_type": "code",
   "execution_count": 204,
   "metadata": {},
   "outputs": [
    {
     "name": "stdout",
     "output_type": "stream",
     "text": [
      "9800\n"
     ]
    },
    {
     "data": {
      "text/plain": [
       "Order ID          0\n",
       "Order Date        0\n",
       "Ship Date         0\n",
       "Ship Mode         0\n",
       "Customer ID       0\n",
       "Customer Name     0\n",
       "Segment           0\n",
       "City              0\n",
       "State             0\n",
       "Postal Code      11\n",
       "Region            0\n",
       "Product ID        0\n",
       "Category          0\n",
       "Sub-Category      0\n",
       "Product Name      0\n",
       "Sales             0\n",
       "dtype: int64"
      ]
     },
     "execution_count": 204,
     "metadata": {},
     "output_type": "execute_result"
    }
   ],
   "source": [
    "print(len(df))\n",
    "df.isnull().sum()"
   ]
  },
  {
   "cell_type": "markdown",
   "metadata": {},
   "source": [
    "We have 9800 rows out of which only 11 rows have null values. We can remove these rows. It will not make much difference."
   ]
  },
  {
   "cell_type": "code",
   "execution_count": 205,
   "metadata": {},
   "outputs": [
    {
     "name": "stdout",
     "output_type": "stream",
     "text": [
      "9789\n"
     ]
    }
   ],
   "source": [
    "df.dropna(inplace=True)\n",
    "print(len(df))"
   ]
  },
  {
   "cell_type": "markdown",
   "metadata": {},
   "source": [
    "Now we have a lot of columns with important data. We want to make sure everything is clean before we parse and populate the tables with it."
   ]
  },
  {
   "cell_type": "code",
   "execution_count": 206,
   "metadata": {},
   "outputs": [
    {
     "data": {
      "text/plain": [
       "Order ID         4916\n",
       "Order Date       1229\n",
       "Ship Date        1326\n",
       "Ship Mode           4\n",
       "Customer ID       793\n",
       "Customer Name     793\n",
       "Segment             3\n",
       "City              529\n",
       "State              48\n",
       "Postal Code       626\n",
       "Region              4\n",
       "Product ID       1860\n",
       "Category            3\n",
       "Sub-Category       17\n",
       "Product Name     1848\n",
       "Sales            5750\n",
       "dtype: int64"
      ]
     },
     "execution_count": 206,
     "metadata": {},
     "output_type": "execute_result"
    }
   ],
   "source": [
    "df.nunique()"
   ]
  },
  {
   "cell_type": "markdown",
   "metadata": {},
   "source": [
    "We see that there are 1860 product ids. However, we only have 1848 product names. This means that some product names have been assigned more than one product id. This can be for a few reasons:\n",
    "1. Maybe the product is categorized under more than one category.\n",
    "2. Maybe the product is categorized under more than one sub-category.\n",
    "3. Maybe the product is outright categorized under more than one product id. \n",
    "\n",
    "Let us find out."
   ]
  },
  {
   "cell_type": "code",
   "execution_count": 207,
   "metadata": {},
   "outputs": [],
   "source": [
    "# list of unique product ids\n",
    "unique_pid = list()\n",
    "product = df[['Product ID','Category','Sub-Category','Product Name']]\n",
    "\n",
    "# Deleting all the rows from Products table\n",
    "cursor.execute(\"DELETE FROM Products\")\n",
    "\n",
    "# Inserting data into Products table\n",
    "for index, row in product.iterrows():\n",
    "    if row['Product ID'] not in unique_pid:\n",
    "        unique_pid.append(row['Product ID'])\n",
    "        cursor.execute(f\"\"\"\n",
    "                        INSERT INTO Products (product_id, category, sub_category, product_name)\n",
    "                        VALUES ('{row['Product ID']}', '{row['Category']}', '{row['Sub-Category']}', \"{row['Product Name']}\");\n",
    "                        \"\"\")"
   ]
  },
  {
   "cell_type": "markdown",
   "metadata": {},
   "source": [
    "Now since we have more product ids than product names, there must be duplicate product names or some ids. Let's find those out."
   ]
  },
  {
   "cell_type": "code",
   "execution_count": 208,
   "metadata": {},
   "outputs": [],
   "source": [
    "# Finding out rows with duplicate names\n",
    "cursor.execute(\"\"\"\n",
    "               SELECT t1.product_id, t1.category, t1.sub_category, t1.product_name \n",
    "               FROM Products t1 \n",
    "               JOIN (SELECT product_name as name, COUNT(product_name) as occurences\n",
    "                FROM Products\n",
    "                GROUP BY product_name\n",
    "               HAVING occurences > 1) t2\n",
    "               ON t1.product_name = t2.name\n",
    "               \"\"\")\n",
    "data = cursor.fetchall()"
   ]
  },
  {
   "cell_type": "code",
   "execution_count": 209,
   "metadata": {},
   "outputs": [
    {
     "name": "stdout",
     "output_type": "stream",
     "text": [
      "('FUR-FU-10003981', 'Furniture', 'Furnishings', 'Eldon Wave Desk Accessories')\n",
      "('FUR-FU-10000023', 'Furniture', 'Furnishings', 'Eldon Wave Desk Accessories')\n",
      "('FUR-FU-10004351', 'Furniture', 'Furnishings', 'Staple-based wall hangings')\n",
      "('FUR-FU-10001940', 'Furniture', 'Furnishings', 'Staple-based wall hangings')\n",
      "('FUR-TA-10004086', 'Furniture', 'Tables', 'KI Adjustable-Height Table')\n",
      "('FUR-TA-10001039', 'Furniture', 'Tables', 'KI Adjustable-Height Table')\n",
      "('OFF-AP-10004249', 'Office Supplies', 'Appliances', 'Staple holder')\n",
      "('OFF-AP-10002222', 'Office Supplies', 'Appliances', 'Staple holder')\n",
      "('OFF-AP-10001366', 'Office Supplies', 'Appliances', 'Staple holder')\n",
      "('OFF-AR-10004790', 'Office Supplies', 'Art', 'Staples in misc. colors')\n",
      "('OFF-AR-10004707', 'Office Supplies', 'Art', 'Staples in misc. colors')\n",
      "('OFF-AR-10004062', 'Office Supplies', 'Art', 'Staples in misc. colors')\n",
      "('OFF-AR-10003631', 'Office Supplies', 'Art', 'Staples in misc. colors')\n",
      "('OFF-AR-10003087', 'Office Supplies', 'Art', 'Staples in misc. colors')\n",
      "('OFF-AR-10002280', 'Office Supplies', 'Art', 'Staples in misc. colors')\n",
      "('OFF-AR-10001166', 'Office Supplies', 'Art', 'Staples in misc. colors')\n",
      "('OFF-AR-10003251', 'Office Supplies', 'Art', 'Prang Drawing Pencil Set')\n",
      "('OFF-AR-10002766', 'Office Supplies', 'Art', 'Prang Drawing Pencil Set')\n",
      "('OFF-BI-10004140', 'Office Supplies', 'Binders', 'Avery Non-Stick Binders')\n",
      "('OFF-BI-10000829', 'Office Supplies', 'Binders', 'Avery Non-Stick Binders')\n",
      "('OFF-BI-10004364', 'Office Supplies', 'Binders', 'Storex Dura Pro Binders')\n",
      "('OFF-BI-10001922', 'Office Supplies', 'Binders', 'Storex Dura Pro Binders')\n",
      "('OFF-EN-10000781', 'Office Supplies', 'Envelopes', \"#10- 4 1/8' x 9 1/2' Recycled Envelopes\")\n",
      "('OFF-EN-10000461', 'Office Supplies', 'Envelopes', \"#10- 4 1/8' x 9 1/2' Recycled Envelopes\")\n",
      "('OFF-EN-10004773', 'Office Supplies', 'Envelopes', 'Staple envelope')\n",
      "('OFF-EN-10003286', 'Office Supplies', 'Envelopes', 'Staple envelope')\n",
      "('OFF-EN-10003134', 'Office Supplies', 'Envelopes', 'Staple envelope')\n",
      "('OFF-EN-10002621', 'Office Supplies', 'Envelopes', 'Staple envelope')\n",
      "('OFF-EN-10001990', 'Office Supplies', 'Envelopes', 'Staple envelope')\n",
      "('OFF-EN-10001539', 'Office Supplies', 'Envelopes', 'Staple envelope')\n",
      "('OFF-EN-10001415', 'Office Supplies', 'Envelopes', 'Staple envelope')\n",
      "('OFF-EN-10001099', 'Office Supplies', 'Envelopes', 'Staple envelope')\n",
      "('OFF-EN-10001028', 'Office Supplies', 'Envelopes', 'Staple envelope')\n",
      "('OFF-EN-10003448', 'Office Supplies', 'Envelopes', 'Peel & Seel Recycled Catalog Envelopes, Brown')\n",
      "('OFF-EN-10002592', 'Office Supplies', 'Envelopes', 'Peel & Seel Recycled Catalog Envelopes, Brown')\n",
      "('OFF-FA-10003495', 'Office Supplies', 'Fasteners', 'Staples')\n",
      "('OFF-FA-10003485', 'Office Supplies', 'Fasteners', 'Staples')\n",
      "('OFF-FA-10003112', 'Office Supplies', 'Fasteners', 'Staples')\n",
      "('OFF-FA-10003021', 'Office Supplies', 'Fasteners', 'Staples')\n",
      "('OFF-FA-10002975', 'Office Supplies', 'Fasteners', 'Staples')\n",
      "('OFF-FA-10002815', 'Office Supplies', 'Fasteners', 'Staples')\n",
      "('OFF-FA-10002780', 'Office Supplies', 'Fasteners', 'Staples')\n",
      "('OFF-FA-10001843', 'Office Supplies', 'Fasteners', 'Staples')\n",
      "('OFF-FA-10001229', 'Office Supplies', 'Fasteners', 'Staples')\n",
      "('OFF-FA-10000735', 'Office Supplies', 'Fasteners', 'Staples')\n",
      "('OFF-PA-10004947', 'Office Supplies', 'Paper', 'Easy-staple paper')\n",
      "('OFF-PA-10003127', 'Office Supplies', 'Paper', 'Easy-staple paper')\n",
      "('OFF-PA-10002764', 'Office Supplies', 'Paper', 'Easy-staple paper')\n",
      "('OFF-PA-10001685', 'Office Supplies', 'Paper', 'Easy-staple paper')\n",
      "('OFF-PA-10000565', 'Office Supplies', 'Paper', 'Easy-staple paper')\n",
      "('OFF-PA-10000474', 'Office Supplies', 'Paper', 'Easy-staple paper')\n",
      "('OFF-PA-10000349', 'Office Supplies', 'Paper', 'Easy-staple paper')\n",
      "('OFF-PA-10000249', 'Office Supplies', 'Paper', 'Easy-staple paper')\n",
      "('OFF-ST-10003221', 'Office Supplies', 'Storage', 'Staple magnet')\n",
      "('OFF-ST-10002562', 'Office Supplies', 'Storage', 'Staple magnet')\n",
      "('OFF-SU-10001935', 'Office Supplies', 'Supplies', 'Staple remover')\n",
      "('OFF-SU-10001225', 'Office Supplies', 'Supplies', 'Staple remover')\n",
      "('OFF-SU-10000946', 'Office Supplies', 'Supplies', 'Staple remover')\n",
      "('TEC-MA-10003230', 'Technology', 'Machines', 'Okidata C610n Printer')\n",
      "('TEC-MA-10001856', 'Technology', 'Machines', 'Okidata C610n Printer')\n"
     ]
    }
   ],
   "source": [
    "for row in data:\n",
    "    print(row)"
   ]
  },
  {
   "cell_type": "markdown",
   "metadata": {},
   "source": [
    "There we go ! We see that there are duplicate products. The products have same categories, sub categories, and names but are assigned different product ids. \n",
    "We need to make their ids same. I do not have access to conversation with business owners, so I will be assigning them the product id based off on the first occurence of the product."
   ]
  },
  {
   "cell_type": "code",
   "execution_count": 210,
   "metadata": {},
   "outputs": [
    {
     "name": "stdout",
     "output_type": "stream",
     "text": [
      "Eldon Wave Desk Accessories\n",
      "Staple-based wall hangings\n",
      "KI Adjustable-Height Table\n",
      "Staple holder\n",
      "Staples in misc. colors\n",
      "Prang Drawing Pencil Set\n",
      "Avery Non-Stick Binders\n",
      "Storex Dura Pro Binders\n",
      "#10- 4 1/8' x 9 1/2' Recycled Envelopes\n",
      "Staple envelope\n",
      "Peel & Seel Recycled Catalog Envelopes, Brown\n",
      "Staples\n",
      "Easy-staple paper\n",
      "Staple magnet\n",
      "Staple remover\n",
      "Okidata C610n Printer\n"
     ]
    }
   ],
   "source": [
    "# making a lilst of all names I have to change the ids for\n",
    "name_id = dict()\n",
    "for row in data:\n",
    "    if row[3] not in name_id:\n",
    "        name_id[row[3]] = row[0]\n",
    "\n",
    "for keys in name_id.keys():\n",
    "    print(keys)"
   ]
  },
  {
   "cell_type": "code",
   "execution_count": 211,
   "metadata": {},
   "outputs": [],
   "source": [
    "df[\"Product ID\"] = df.apply(lambda row: name_id[row['Product Name']] if row['Product Name'] in name_id.keys() else row['Product ID'], axis=1)"
   ]
  },
  {
   "cell_type": "code",
   "execution_count": 212,
   "metadata": {},
   "outputs": [
    {
     "data": {
      "text/plain": [
       "Order ID         4916\n",
       "Order Date       1229\n",
       "Ship Date        1326\n",
       "Ship Mode           4\n",
       "Customer ID       793\n",
       "Customer Name     793\n",
       "Segment             3\n",
       "City              529\n",
       "State              48\n",
       "Postal Code       626\n",
       "Region              4\n",
       "Product ID       1816\n",
       "Category            3\n",
       "Sub-Category       17\n",
       "Product Name     1848\n",
       "Sales            5750\n",
       "dtype: int64"
      ]
     },
     "execution_count": 212,
     "metadata": {},
     "output_type": "execute_result"
    }
   ],
   "source": [
    "df.nunique()"
   ]
  },
  {
   "cell_type": "markdown",
   "metadata": {},
   "source": [
    "Now, we notice that we now have more number of unique product names than unique product ids. This means that some ids are also representing more than one name. We need to fix that too."
   ]
  },
  {
   "cell_type": "code",
   "execution_count": 213,
   "metadata": {},
   "outputs": [],
   "source": [
    "# list of unique product names\n",
    "unique_names = list()\n",
    "\n",
    "# We can not assess this using SQL because product id is our primary key and we can not have duplicate values\n",
    "# therefore we will be using pandas for this\n",
    "temp_df = pd.DataFrame(columns = product.columns)\n",
    "for index, row in product.iterrows():\n",
    "    if row['Product Name'] not in unique_names:\n",
    "        unique_names.append(row['Product Name'])\n",
    "        new_row = pd.DataFrame([row], columns = product.columns)\n",
    "        temp_df = pd.concat([temp_df, new_row], ignore_index=True)"
   ]
  },
  {
   "cell_type": "code",
   "execution_count": 214,
   "metadata": {},
   "outputs": [
    {
     "data": {
      "text/html": [
       "<div>\n",
       "<style scoped>\n",
       "    .dataframe tbody tr th:only-of-type {\n",
       "        vertical-align: middle;\n",
       "    }\n",
       "\n",
       "    .dataframe tbody tr th {\n",
       "        vertical-align: top;\n",
       "    }\n",
       "\n",
       "    .dataframe thead th {\n",
       "        text-align: right;\n",
       "    }\n",
       "</style>\n",
       "<table border=\"1\" class=\"dataframe\">\n",
       "  <thead>\n",
       "    <tr style=\"text-align: right;\">\n",
       "      <th></th>\n",
       "      <th>Product ID</th>\n",
       "      <th>Category</th>\n",
       "      <th>Sub-Category</th>\n",
       "      <th>Product Name</th>\n",
       "    </tr>\n",
       "  </thead>\n",
       "  <tbody>\n",
       "    <tr>\n",
       "      <th>0</th>\n",
       "      <td>FUR-BO-10001798</td>\n",
       "      <td>Furniture</td>\n",
       "      <td>Bookcases</td>\n",
       "      <td>Bush Somerset Collection Bookcase</td>\n",
       "    </tr>\n",
       "    <tr>\n",
       "      <th>1</th>\n",
       "      <td>FUR-CH-10000454</td>\n",
       "      <td>Furniture</td>\n",
       "      <td>Chairs</td>\n",
       "      <td>Hon Deluxe Fabric Upholstered Stacking Chairs,...</td>\n",
       "    </tr>\n",
       "    <tr>\n",
       "      <th>2</th>\n",
       "      <td>OFF-LA-10000240</td>\n",
       "      <td>Office Supplies</td>\n",
       "      <td>Labels</td>\n",
       "      <td>Self-Adhesive Address Labels for Typewriters b...</td>\n",
       "    </tr>\n",
       "    <tr>\n",
       "      <th>3</th>\n",
       "      <td>FUR-TA-10000577</td>\n",
       "      <td>Furniture</td>\n",
       "      <td>Tables</td>\n",
       "      <td>Bretford CR4500 Series Slim Rectangular Table</td>\n",
       "    </tr>\n",
       "    <tr>\n",
       "      <th>4</th>\n",
       "      <td>OFF-ST-10000760</td>\n",
       "      <td>Office Supplies</td>\n",
       "      <td>Storage</td>\n",
       "      <td>Eldon Fold 'N Roll Cart System</td>\n",
       "    </tr>\n",
       "  </tbody>\n",
       "</table>\n",
       "</div>"
      ],
      "text/plain": [
       "        Product ID         Category Sub-Category  \\\n",
       "0  FUR-BO-10001798        Furniture    Bookcases   \n",
       "1  FUR-CH-10000454        Furniture       Chairs   \n",
       "2  OFF-LA-10000240  Office Supplies       Labels   \n",
       "3  FUR-TA-10000577        Furniture       Tables   \n",
       "4  OFF-ST-10000760  Office Supplies      Storage   \n",
       "\n",
       "                                        Product Name  \n",
       "0                  Bush Somerset Collection Bookcase  \n",
       "1  Hon Deluxe Fabric Upholstered Stacking Chairs,...  \n",
       "2  Self-Adhesive Address Labels for Typewriters b...  \n",
       "3      Bretford CR4500 Series Slim Rectangular Table  \n",
       "4                     Eldon Fold 'N Roll Cart System  "
      ]
     },
     "execution_count": 214,
     "metadata": {},
     "output_type": "execute_result"
    }
   ],
   "source": [
    "temp_df.head()"
   ]
  },
  {
   "cell_type": "code",
   "execution_count": 215,
   "metadata": {},
   "outputs": [],
   "source": [
    "id_occ = dict()\n",
    "for index, row in temp_df.iterrows():\n",
    "    if row['Product ID'] not in id_occ:\n",
    "        id_occ[row['Product ID']] = 1\n",
    "    else:\n",
    "        id_occ[row['Product ID']] += 1\n",
    "\n",
    "target_ids = list()\n",
    "for key in id_occ.keys():\n",
    "    if id_occ[key] > 1:\n",
    "        target_ids.append(key)"
   ]
  },
  {
   "cell_type": "code",
   "execution_count": 216,
   "metadata": {},
   "outputs": [
    {
     "data": {
      "text/plain": [
       "32"
      ]
     },
     "execution_count": 216,
     "metadata": {},
     "output_type": "execute_result"
    }
   ],
   "source": [
    "len(target_ids)"
   ]
  },
  {
   "cell_type": "markdown",
   "metadata": {},
   "source": [
    "We have the list of ids which have more than 1 name assigned to them"
   ]
  },
  {
   "cell_type": "code",
   "execution_count": 217,
   "metadata": {},
   "outputs": [],
   "source": [
    "count = 0\n",
    "for index, row in product.iterrows():\n",
    "    if row['Product ID'] in target_ids:\n",
    "        count += 1"
   ]
  },
  {
   "cell_type": "code",
   "execution_count": 218,
   "metadata": {},
   "outputs": [
    {
     "data": {
      "text/plain": [
       "330"
      ]
     },
     "execution_count": 218,
     "metadata": {},
     "output_type": "execute_result"
    }
   ],
   "source": [
    "count"
   ]
  },
  {
   "cell_type": "markdown",
   "metadata": {},
   "source": [
    "We have 330 rows of data which have been assigned the ids which have more than one products associated with it. We can substitute these IDS with madeup IDS of our own. "
   ]
  },
  {
   "cell_type": "code",
   "execution_count": 219,
   "metadata": {},
   "outputs": [],
   "source": [
    "pairs = temp_df[['Product ID','Product Name']]\n",
    "pairs = pairs[pairs['Product ID'].isin(target_ids)]"
   ]
  },
  {
   "cell_type": "code",
   "execution_count": 220,
   "metadata": {},
   "outputs": [
    {
     "data": {
      "text/html": [
       "<div>\n",
       "<style scoped>\n",
       "    .dataframe tbody tr th:only-of-type {\n",
       "        vertical-align: middle;\n",
       "    }\n",
       "\n",
       "    .dataframe tbody tr th {\n",
       "        vertical-align: top;\n",
       "    }\n",
       "\n",
       "    .dataframe thead th {\n",
       "        text-align: right;\n",
       "    }\n",
       "</style>\n",
       "<table border=\"1\" class=\"dataframe\">\n",
       "  <thead>\n",
       "    <tr style=\"text-align: right;\">\n",
       "      <th></th>\n",
       "      <th>Product ID</th>\n",
       "      <th>Product Name</th>\n",
       "    </tr>\n",
       "  </thead>\n",
       "  <tbody>\n",
       "    <tr>\n",
       "      <th>28</th>\n",
       "      <td>FUR-FU-10004848</td>\n",
       "      <td>Howard Miller 13-3/4' Diameter Brushed Chrome ...</td>\n",
       "    </tr>\n",
       "    <tr>\n",
       "      <th>64</th>\n",
       "      <td>FUR-CH-10001146</td>\n",
       "      <td>Global Value Mid-Back Manager's Chair, Gray</td>\n",
       "    </tr>\n",
       "    <tr>\n",
       "      <th>68</th>\n",
       "      <td>OFF-BI-10004654</td>\n",
       "      <td>Avery Binding System Hidden Tab Executive Styl...</td>\n",
       "    </tr>\n",
       "    <tr>\n",
       "      <th>124</th>\n",
       "      <td>FUR-CH-10001146</td>\n",
       "      <td>Global Task Chair, Black</td>\n",
       "    </tr>\n",
       "    <tr>\n",
       "      <th>127</th>\n",
       "      <td>OFF-PA-10002377</td>\n",
       "      <td>Xerox 1916</td>\n",
       "    </tr>\n",
       "    <tr>\n",
       "      <th>...</th>\n",
       "      <td>...</td>\n",
       "      <td>...</td>\n",
       "    </tr>\n",
       "    <tr>\n",
       "      <th>1689</th>\n",
       "      <td>OFF-PA-10001166</td>\n",
       "      <td>Xerox 1932</td>\n",
       "    </tr>\n",
       "    <tr>\n",
       "      <th>1719</th>\n",
       "      <td>FUR-FU-10004864</td>\n",
       "      <td>Eldon 500 Class Desk Accessories</td>\n",
       "    </tr>\n",
       "    <tr>\n",
       "      <th>1723</th>\n",
       "      <td>OFF-PA-10003022</td>\n",
       "      <td>Standard Line “While You Were Out” Hardbound T...</td>\n",
       "    </tr>\n",
       "    <tr>\n",
       "      <th>1735</th>\n",
       "      <td>TEC-PH-10001795</td>\n",
       "      <td>RCA H5401RE1 DECT 6.0 4-Line Cordless Handset ...</td>\n",
       "    </tr>\n",
       "    <tr>\n",
       "      <th>1758</th>\n",
       "      <td>OFF-BI-10002026</td>\n",
       "      <td>Ibico Recycled Linen-Style Covers</td>\n",
       "    </tr>\n",
       "  </tbody>\n",
       "</table>\n",
       "<p>64 rows × 2 columns</p>\n",
       "</div>"
      ],
      "text/plain": [
       "           Product ID                                       Product Name\n",
       "28    FUR-FU-10004848  Howard Miller 13-3/4' Diameter Brushed Chrome ...\n",
       "64    FUR-CH-10001146        Global Value Mid-Back Manager's Chair, Gray\n",
       "68    OFF-BI-10004654  Avery Binding System Hidden Tab Executive Styl...\n",
       "124   FUR-CH-10001146                           Global Task Chair, Black\n",
       "127   OFF-PA-10002377                                         Xerox 1916\n",
       "...               ...                                                ...\n",
       "1689  OFF-PA-10001166                                         Xerox 1932\n",
       "1719  FUR-FU-10004864                   Eldon 500 Class Desk Accessories\n",
       "1723  OFF-PA-10003022  Standard Line “While You Were Out” Hardbound T...\n",
       "1735  TEC-PH-10001795  RCA H5401RE1 DECT 6.0 4-Line Cordless Handset ...\n",
       "1758  OFF-BI-10002026                  Ibico Recycled Linen-Style Covers\n",
       "\n",
       "[64 rows x 2 columns]"
      ]
     },
     "execution_count": 220,
     "metadata": {},
     "output_type": "execute_result"
    }
   ],
   "source": [
    "pairs"
   ]
  },
  {
   "cell_type": "code",
   "execution_count": 221,
   "metadata": {},
   "outputs": [
    {
     "data": {
      "text/plain": [
       "64"
      ]
     },
     "execution_count": 221,
     "metadata": {},
     "output_type": "execute_result"
    }
   ],
   "source": [
    "id_name_map = dict()\n",
    "\n",
    "count = 1\n",
    "for index, row in pairs.iterrows():\n",
    "    if row['Product Name'] not in id_name_map.keys():\n",
    "        id_name_map[row['Product Name']] = str(count)+row['Product ID']\n",
    "        count += 1\n",
    "\n",
    "len(id_name_map.keys())"
   ]
  },
  {
   "cell_type": "markdown",
   "metadata": {},
   "source": [
    "Now we have the map, let us change the dataframe"
   ]
  },
  {
   "cell_type": "code",
   "execution_count": 222,
   "metadata": {},
   "outputs": [],
   "source": [
    "df[\"Product ID\"] = df.apply(lambda row: id_name_map[row['Product Name']] if row['Product Name'] in id_name_map.keys() else row['Product ID'], axis=1)"
   ]
  },
  {
   "cell_type": "code",
   "execution_count": 223,
   "metadata": {},
   "outputs": [
    {
     "data": {
      "text/plain": [
       "Order ID         4916\n",
       "Order Date       1229\n",
       "Ship Date        1326\n",
       "Ship Mode           4\n",
       "Customer ID       793\n",
       "Customer Name     793\n",
       "Segment             3\n",
       "City              529\n",
       "State              48\n",
       "Postal Code       626\n",
       "Region              4\n",
       "Product ID       1848\n",
       "Category            3\n",
       "Sub-Category       17\n",
       "Product Name     1848\n",
       "Sales            5750\n",
       "dtype: int64"
      ]
     },
     "execution_count": 223,
     "metadata": {},
     "output_type": "execute_result"
    }
   ],
   "source": [
    "df.nunique()"
   ]
  },
  {
   "cell_type": "markdown",
   "metadata": {},
   "source": [
    "There we go! We have same number of Product IDs and Product Names! Everything else seems fine. This means, we can populate our Database now"
   ]
  },
  {
   "cell_type": "code",
   "execution_count": 224,
   "metadata": {},
   "outputs": [],
   "source": [
    "# We can delete our temporary variables and dataframes now\n",
    "del temp_df\n",
    "del pairs\n",
    "del unique_names\n",
    "del unique_pid\n",
    "del product\n",
    "del id_name_map\n",
    "del target_ids\n",
    "del id_occ\n",
    "del name_id\n",
    "del data\n",
    "del count"
   ]
  },
  {
   "cell_type": "markdown",
   "metadata": {},
   "source": [
    "Is our Sales data consistent though?"
   ]
  },
  {
   "cell_type": "code",
   "execution_count": 225,
   "metadata": {},
   "outputs": [
    {
     "data": {
      "text/html": [
       "<div>\n",
       "<style scoped>\n",
       "    .dataframe tbody tr th:only-of-type {\n",
       "        vertical-align: middle;\n",
       "    }\n",
       "\n",
       "    .dataframe tbody tr th {\n",
       "        vertical-align: top;\n",
       "    }\n",
       "\n",
       "    .dataframe thead th {\n",
       "        text-align: right;\n",
       "    }\n",
       "</style>\n",
       "<table border=\"1\" class=\"dataframe\">\n",
       "  <thead>\n",
       "    <tr style=\"text-align: right;\">\n",
       "      <th></th>\n",
       "      <th>Order ID</th>\n",
       "      <th>Order Date</th>\n",
       "      <th>Ship Date</th>\n",
       "      <th>Ship Mode</th>\n",
       "      <th>Customer ID</th>\n",
       "      <th>Customer Name</th>\n",
       "      <th>Segment</th>\n",
       "      <th>City</th>\n",
       "      <th>State</th>\n",
       "      <th>Postal Code</th>\n",
       "      <th>Region</th>\n",
       "      <th>Product ID</th>\n",
       "      <th>Category</th>\n",
       "      <th>Sub-Category</th>\n",
       "      <th>Product Name</th>\n",
       "      <th>Sales</th>\n",
       "    </tr>\n",
       "  </thead>\n",
       "  <tbody>\n",
       "    <tr>\n",
       "      <th>0</th>\n",
       "      <td>CA-2017-152156</td>\n",
       "      <td>08/11/2017</td>\n",
       "      <td>11/11/2017</td>\n",
       "      <td>Second Class</td>\n",
       "      <td>CG-12520</td>\n",
       "      <td>Claire Gute</td>\n",
       "      <td>Consumer</td>\n",
       "      <td>Henderson</td>\n",
       "      <td>Kentucky</td>\n",
       "      <td>42420.0</td>\n",
       "      <td>South</td>\n",
       "      <td>FUR-BO-10001798</td>\n",
       "      <td>Furniture</td>\n",
       "      <td>Bookcases</td>\n",
       "      <td>Bush Somerset Collection Bookcase</td>\n",
       "      <td>261.9600</td>\n",
       "    </tr>\n",
       "    <tr>\n",
       "      <th>1</th>\n",
       "      <td>CA-2017-152156</td>\n",
       "      <td>08/11/2017</td>\n",
       "      <td>11/11/2017</td>\n",
       "      <td>Second Class</td>\n",
       "      <td>CG-12520</td>\n",
       "      <td>Claire Gute</td>\n",
       "      <td>Consumer</td>\n",
       "      <td>Henderson</td>\n",
       "      <td>Kentucky</td>\n",
       "      <td>42420.0</td>\n",
       "      <td>South</td>\n",
       "      <td>FUR-CH-10000454</td>\n",
       "      <td>Furniture</td>\n",
       "      <td>Chairs</td>\n",
       "      <td>Hon Deluxe Fabric Upholstered Stacking Chairs,...</td>\n",
       "      <td>731.9400</td>\n",
       "    </tr>\n",
       "    <tr>\n",
       "      <th>2</th>\n",
       "      <td>CA-2017-138688</td>\n",
       "      <td>12/06/2017</td>\n",
       "      <td>16/06/2017</td>\n",
       "      <td>Second Class</td>\n",
       "      <td>DV-13045</td>\n",
       "      <td>Darrin Van Huff</td>\n",
       "      <td>Corporate</td>\n",
       "      <td>Los Angeles</td>\n",
       "      <td>California</td>\n",
       "      <td>90036.0</td>\n",
       "      <td>West</td>\n",
       "      <td>OFF-LA-10000240</td>\n",
       "      <td>Office Supplies</td>\n",
       "      <td>Labels</td>\n",
       "      <td>Self-Adhesive Address Labels for Typewriters b...</td>\n",
       "      <td>14.6200</td>\n",
       "    </tr>\n",
       "    <tr>\n",
       "      <th>3</th>\n",
       "      <td>US-2016-108966</td>\n",
       "      <td>11/10/2016</td>\n",
       "      <td>18/10/2016</td>\n",
       "      <td>Standard Class</td>\n",
       "      <td>SO-20335</td>\n",
       "      <td>Sean O'Donnell</td>\n",
       "      <td>Consumer</td>\n",
       "      <td>Fort Lauderdale</td>\n",
       "      <td>Florida</td>\n",
       "      <td>33311.0</td>\n",
       "      <td>South</td>\n",
       "      <td>FUR-TA-10000577</td>\n",
       "      <td>Furniture</td>\n",
       "      <td>Tables</td>\n",
       "      <td>Bretford CR4500 Series Slim Rectangular Table</td>\n",
       "      <td>957.5775</td>\n",
       "    </tr>\n",
       "    <tr>\n",
       "      <th>4</th>\n",
       "      <td>US-2016-108966</td>\n",
       "      <td>11/10/2016</td>\n",
       "      <td>18/10/2016</td>\n",
       "      <td>Standard Class</td>\n",
       "      <td>SO-20335</td>\n",
       "      <td>Sean O'Donnell</td>\n",
       "      <td>Consumer</td>\n",
       "      <td>Fort Lauderdale</td>\n",
       "      <td>Florida</td>\n",
       "      <td>33311.0</td>\n",
       "      <td>South</td>\n",
       "      <td>OFF-ST-10000760</td>\n",
       "      <td>Office Supplies</td>\n",
       "      <td>Storage</td>\n",
       "      <td>Eldon Fold 'N Roll Cart System</td>\n",
       "      <td>22.3680</td>\n",
       "    </tr>\n",
       "  </tbody>\n",
       "</table>\n",
       "</div>"
      ],
      "text/plain": [
       "         Order ID  Order Date   Ship Date       Ship Mode Customer ID  \\\n",
       "0  CA-2017-152156  08/11/2017  11/11/2017    Second Class    CG-12520   \n",
       "1  CA-2017-152156  08/11/2017  11/11/2017    Second Class    CG-12520   \n",
       "2  CA-2017-138688  12/06/2017  16/06/2017    Second Class    DV-13045   \n",
       "3  US-2016-108966  11/10/2016  18/10/2016  Standard Class    SO-20335   \n",
       "4  US-2016-108966  11/10/2016  18/10/2016  Standard Class    SO-20335   \n",
       "\n",
       "     Customer Name    Segment             City       State  Postal Code  \\\n",
       "0      Claire Gute   Consumer        Henderson    Kentucky      42420.0   \n",
       "1      Claire Gute   Consumer        Henderson    Kentucky      42420.0   \n",
       "2  Darrin Van Huff  Corporate      Los Angeles  California      90036.0   \n",
       "3   Sean O'Donnell   Consumer  Fort Lauderdale     Florida      33311.0   \n",
       "4   Sean O'Donnell   Consumer  Fort Lauderdale     Florida      33311.0   \n",
       "\n",
       "  Region       Product ID         Category Sub-Category  \\\n",
       "0  South  FUR-BO-10001798        Furniture    Bookcases   \n",
       "1  South  FUR-CH-10000454        Furniture       Chairs   \n",
       "2   West  OFF-LA-10000240  Office Supplies       Labels   \n",
       "3  South  FUR-TA-10000577        Furniture       Tables   \n",
       "4  South  OFF-ST-10000760  Office Supplies      Storage   \n",
       "\n",
       "                                        Product Name     Sales  \n",
       "0                  Bush Somerset Collection Bookcase  261.9600  \n",
       "1  Hon Deluxe Fabric Upholstered Stacking Chairs,...  731.9400  \n",
       "2  Self-Adhesive Address Labels for Typewriters b...   14.6200  \n",
       "3      Bretford CR4500 Series Slim Rectangular Table  957.5775  \n",
       "4                     Eldon Fold 'N Roll Cart System   22.3680  "
      ]
     },
     "execution_count": 225,
     "metadata": {},
     "output_type": "execute_result"
    }
   ],
   "source": [
    "df.head()"
   ]
  },
  {
   "cell_type": "markdown",
   "metadata": {},
   "source": [
    "Since our Customer data and Product data is consistent, we can remove it temporarily from the base table and assess it."
   ]
  },
  {
   "cell_type": "code",
   "execution_count": 226,
   "metadata": {},
   "outputs": [
    {
     "data": {
      "text/html": [
       "<div>\n",
       "<style scoped>\n",
       "    .dataframe tbody tr th:only-of-type {\n",
       "        vertical-align: middle;\n",
       "    }\n",
       "\n",
       "    .dataframe tbody tr th {\n",
       "        vertical-align: top;\n",
       "    }\n",
       "\n",
       "    .dataframe thead th {\n",
       "        text-align: right;\n",
       "    }\n",
       "</style>\n",
       "<table border=\"1\" class=\"dataframe\">\n",
       "  <thead>\n",
       "    <tr style=\"text-align: right;\">\n",
       "      <th></th>\n",
       "      <th>Order ID</th>\n",
       "      <th>Order Date</th>\n",
       "      <th>Ship Date</th>\n",
       "      <th>Ship Mode</th>\n",
       "      <th>Customer ID</th>\n",
       "      <th>Product ID</th>\n",
       "      <th>Sales</th>\n",
       "    </tr>\n",
       "  </thead>\n",
       "  <tbody>\n",
       "    <tr>\n",
       "      <th>0</th>\n",
       "      <td>CA-2017-152156</td>\n",
       "      <td>08/11/2017</td>\n",
       "      <td>11/11/2017</td>\n",
       "      <td>Second Class</td>\n",
       "      <td>CG-12520</td>\n",
       "      <td>FUR-BO-10001798</td>\n",
       "      <td>261.9600</td>\n",
       "    </tr>\n",
       "    <tr>\n",
       "      <th>1</th>\n",
       "      <td>CA-2017-152156</td>\n",
       "      <td>08/11/2017</td>\n",
       "      <td>11/11/2017</td>\n",
       "      <td>Second Class</td>\n",
       "      <td>CG-12520</td>\n",
       "      <td>FUR-CH-10000454</td>\n",
       "      <td>731.9400</td>\n",
       "    </tr>\n",
       "    <tr>\n",
       "      <th>2</th>\n",
       "      <td>CA-2017-138688</td>\n",
       "      <td>12/06/2017</td>\n",
       "      <td>16/06/2017</td>\n",
       "      <td>Second Class</td>\n",
       "      <td>DV-13045</td>\n",
       "      <td>OFF-LA-10000240</td>\n",
       "      <td>14.6200</td>\n",
       "    </tr>\n",
       "    <tr>\n",
       "      <th>3</th>\n",
       "      <td>US-2016-108966</td>\n",
       "      <td>11/10/2016</td>\n",
       "      <td>18/10/2016</td>\n",
       "      <td>Standard Class</td>\n",
       "      <td>SO-20335</td>\n",
       "      <td>FUR-TA-10000577</td>\n",
       "      <td>957.5775</td>\n",
       "    </tr>\n",
       "    <tr>\n",
       "      <th>4</th>\n",
       "      <td>US-2016-108966</td>\n",
       "      <td>11/10/2016</td>\n",
       "      <td>18/10/2016</td>\n",
       "      <td>Standard Class</td>\n",
       "      <td>SO-20335</td>\n",
       "      <td>OFF-ST-10000760</td>\n",
       "      <td>22.3680</td>\n",
       "    </tr>\n",
       "  </tbody>\n",
       "</table>\n",
       "</div>"
      ],
      "text/plain": [
       "         Order ID  Order Date   Ship Date       Ship Mode Customer ID  \\\n",
       "0  CA-2017-152156  08/11/2017  11/11/2017    Second Class    CG-12520   \n",
       "1  CA-2017-152156  08/11/2017  11/11/2017    Second Class    CG-12520   \n",
       "2  CA-2017-138688  12/06/2017  16/06/2017    Second Class    DV-13045   \n",
       "3  US-2016-108966  11/10/2016  18/10/2016  Standard Class    SO-20335   \n",
       "4  US-2016-108966  11/10/2016  18/10/2016  Standard Class    SO-20335   \n",
       "\n",
       "        Product ID     Sales  \n",
       "0  FUR-BO-10001798  261.9600  \n",
       "1  FUR-CH-10000454  731.9400  \n",
       "2  OFF-LA-10000240   14.6200  \n",
       "3  FUR-TA-10000577  957.5775  \n",
       "4  OFF-ST-10000760   22.3680  "
      ]
     },
     "execution_count": 226,
     "metadata": {},
     "output_type": "execute_result"
    }
   ],
   "source": [
    "# creating a temporary dataframe for Sales\n",
    "\n",
    "temp_sales = df[['Order ID', 'Order Date', 'Ship Date', 'Ship Mode', 'Customer ID', 'Product ID', 'Sales']]\n",
    "temp_sales.head()"
   ]
  },
  {
   "cell_type": "code",
   "execution_count": 227,
   "metadata": {},
   "outputs": [
    {
     "data": {
      "text/html": [
       "<div>\n",
       "<style scoped>\n",
       "    .dataframe tbody tr th:only-of-type {\n",
       "        vertical-align: middle;\n",
       "    }\n",
       "\n",
       "    .dataframe tbody tr th {\n",
       "        vertical-align: top;\n",
       "    }\n",
       "\n",
       "    .dataframe thead th {\n",
       "        text-align: right;\n",
       "    }\n",
       "</style>\n",
       "<table border=\"1\" class=\"dataframe\">\n",
       "  <thead>\n",
       "    <tr style=\"text-align: right;\">\n",
       "      <th></th>\n",
       "      <th>Order ID</th>\n",
       "      <th>Order Date</th>\n",
       "      <th>Ship Date</th>\n",
       "      <th>Ship Mode</th>\n",
       "      <th>Customer ID</th>\n",
       "      <th>Product ID</th>\n",
       "      <th>Sales</th>\n",
       "    </tr>\n",
       "  </thead>\n",
       "  <tbody>\n",
       "    <tr>\n",
       "      <th>3406</th>\n",
       "      <td>US-2015-150119</td>\n",
       "      <td>23/04/2015</td>\n",
       "      <td>27/04/2015</td>\n",
       "      <td>Standard Class</td>\n",
       "      <td>LB-16795</td>\n",
       "      <td>FUR-CH-10002965</td>\n",
       "      <td>281.372</td>\n",
       "    </tr>\n",
       "  </tbody>\n",
       "</table>\n",
       "</div>"
      ],
      "text/plain": [
       "            Order ID  Order Date   Ship Date       Ship Mode Customer ID  \\\n",
       "3406  US-2015-150119  23/04/2015  27/04/2015  Standard Class    LB-16795   \n",
       "\n",
       "           Product ID    Sales  \n",
       "3406  FUR-CH-10002965  281.372  "
      ]
     },
     "execution_count": 227,
     "metadata": {},
     "output_type": "execute_result"
    }
   ],
   "source": [
    "temp_sales[temp_sales.duplicated()]"
   ]
  },
  {
   "cell_type": "markdown",
   "metadata": {},
   "source": [
    "There is a duplicated Sale data. It is most likely that it was recorded twice by accident. We can remove it."
   ]
  },
  {
   "cell_type": "code",
   "execution_count": 228,
   "metadata": {},
   "outputs": [
    {
     "data": {
      "text/html": [
       "<div>\n",
       "<style scoped>\n",
       "    .dataframe tbody tr th:only-of-type {\n",
       "        vertical-align: middle;\n",
       "    }\n",
       "\n",
       "    .dataframe tbody tr th {\n",
       "        vertical-align: top;\n",
       "    }\n",
       "\n",
       "    .dataframe thead th {\n",
       "        text-align: right;\n",
       "    }\n",
       "</style>\n",
       "<table border=\"1\" class=\"dataframe\">\n",
       "  <thead>\n",
       "    <tr style=\"text-align: right;\">\n",
       "      <th></th>\n",
       "      <th>Order ID</th>\n",
       "      <th>Order Date</th>\n",
       "      <th>Ship Date</th>\n",
       "      <th>Ship Mode</th>\n",
       "      <th>Customer ID</th>\n",
       "      <th>Product ID</th>\n",
       "      <th>Sales</th>\n",
       "    </tr>\n",
       "  </thead>\n",
       "  <tbody>\n",
       "    <tr>\n",
       "      <th>0</th>\n",
       "      <td>CA-2017-152156</td>\n",
       "      <td>08/11/2017</td>\n",
       "      <td>11/11/2017</td>\n",
       "      <td>Second Class</td>\n",
       "      <td>CG-12520</td>\n",
       "      <td>FUR-BO-10001798</td>\n",
       "      <td>261.9600</td>\n",
       "    </tr>\n",
       "    <tr>\n",
       "      <th>1</th>\n",
       "      <td>CA-2017-152156</td>\n",
       "      <td>08/11/2017</td>\n",
       "      <td>11/11/2017</td>\n",
       "      <td>Second Class</td>\n",
       "      <td>CG-12520</td>\n",
       "      <td>FUR-CH-10000454</td>\n",
       "      <td>731.9400</td>\n",
       "    </tr>\n",
       "    <tr>\n",
       "      <th>2</th>\n",
       "      <td>CA-2017-138688</td>\n",
       "      <td>12/06/2017</td>\n",
       "      <td>16/06/2017</td>\n",
       "      <td>Second Class</td>\n",
       "      <td>DV-13045</td>\n",
       "      <td>OFF-LA-10000240</td>\n",
       "      <td>14.6200</td>\n",
       "    </tr>\n",
       "    <tr>\n",
       "      <th>3</th>\n",
       "      <td>US-2016-108966</td>\n",
       "      <td>11/10/2016</td>\n",
       "      <td>18/10/2016</td>\n",
       "      <td>Standard Class</td>\n",
       "      <td>SO-20335</td>\n",
       "      <td>FUR-TA-10000577</td>\n",
       "      <td>957.5775</td>\n",
       "    </tr>\n",
       "    <tr>\n",
       "      <th>4</th>\n",
       "      <td>US-2016-108966</td>\n",
       "      <td>11/10/2016</td>\n",
       "      <td>18/10/2016</td>\n",
       "      <td>Standard Class</td>\n",
       "      <td>SO-20335</td>\n",
       "      <td>OFF-ST-10000760</td>\n",
       "      <td>22.3680</td>\n",
       "    </tr>\n",
       "    <tr>\n",
       "      <th>...</th>\n",
       "      <td>...</td>\n",
       "      <td>...</td>\n",
       "      <td>...</td>\n",
       "      <td>...</td>\n",
       "      <td>...</td>\n",
       "      <td>...</td>\n",
       "      <td>...</td>\n",
       "    </tr>\n",
       "    <tr>\n",
       "      <th>9795</th>\n",
       "      <td>CA-2017-125920</td>\n",
       "      <td>21/05/2017</td>\n",
       "      <td>28/05/2017</td>\n",
       "      <td>Standard Class</td>\n",
       "      <td>SH-19975</td>\n",
       "      <td>OFF-BI-10003429</td>\n",
       "      <td>3.7980</td>\n",
       "    </tr>\n",
       "    <tr>\n",
       "      <th>9796</th>\n",
       "      <td>CA-2016-128608</td>\n",
       "      <td>12/01/2016</td>\n",
       "      <td>17/01/2016</td>\n",
       "      <td>Standard Class</td>\n",
       "      <td>CS-12490</td>\n",
       "      <td>OFF-AR-10001374</td>\n",
       "      <td>10.3680</td>\n",
       "    </tr>\n",
       "    <tr>\n",
       "      <th>9797</th>\n",
       "      <td>CA-2016-128608</td>\n",
       "      <td>12/01/2016</td>\n",
       "      <td>17/01/2016</td>\n",
       "      <td>Standard Class</td>\n",
       "      <td>CS-12490</td>\n",
       "      <td>TEC-PH-10004977</td>\n",
       "      <td>235.1880</td>\n",
       "    </tr>\n",
       "    <tr>\n",
       "      <th>9798</th>\n",
       "      <td>CA-2016-128608</td>\n",
       "      <td>12/01/2016</td>\n",
       "      <td>17/01/2016</td>\n",
       "      <td>Standard Class</td>\n",
       "      <td>CS-12490</td>\n",
       "      <td>TEC-PH-10000912</td>\n",
       "      <td>26.3760</td>\n",
       "    </tr>\n",
       "    <tr>\n",
       "      <th>9799</th>\n",
       "      <td>CA-2016-128608</td>\n",
       "      <td>12/01/2016</td>\n",
       "      <td>17/01/2016</td>\n",
       "      <td>Standard Class</td>\n",
       "      <td>CS-12490</td>\n",
       "      <td>TEC-AC-10000487</td>\n",
       "      <td>10.3840</td>\n",
       "    </tr>\n",
       "  </tbody>\n",
       "</table>\n",
       "<p>9788 rows × 7 columns</p>\n",
       "</div>"
      ],
      "text/plain": [
       "            Order ID  Order Date   Ship Date       Ship Mode Customer ID  \\\n",
       "0     CA-2017-152156  08/11/2017  11/11/2017    Second Class    CG-12520   \n",
       "1     CA-2017-152156  08/11/2017  11/11/2017    Second Class    CG-12520   \n",
       "2     CA-2017-138688  12/06/2017  16/06/2017    Second Class    DV-13045   \n",
       "3     US-2016-108966  11/10/2016  18/10/2016  Standard Class    SO-20335   \n",
       "4     US-2016-108966  11/10/2016  18/10/2016  Standard Class    SO-20335   \n",
       "...              ...         ...         ...             ...         ...   \n",
       "9795  CA-2017-125920  21/05/2017  28/05/2017  Standard Class    SH-19975   \n",
       "9796  CA-2016-128608  12/01/2016  17/01/2016  Standard Class    CS-12490   \n",
       "9797  CA-2016-128608  12/01/2016  17/01/2016  Standard Class    CS-12490   \n",
       "9798  CA-2016-128608  12/01/2016  17/01/2016  Standard Class    CS-12490   \n",
       "9799  CA-2016-128608  12/01/2016  17/01/2016  Standard Class    CS-12490   \n",
       "\n",
       "           Product ID     Sales  \n",
       "0     FUR-BO-10001798  261.9600  \n",
       "1     FUR-CH-10000454  731.9400  \n",
       "2     OFF-LA-10000240   14.6200  \n",
       "3     FUR-TA-10000577  957.5775  \n",
       "4     OFF-ST-10000760   22.3680  \n",
       "...               ...       ...  \n",
       "9795  OFF-BI-10003429    3.7980  \n",
       "9796  OFF-AR-10001374   10.3680  \n",
       "9797  TEC-PH-10004977  235.1880  \n",
       "9798  TEC-PH-10000912   26.3760  \n",
       "9799  TEC-AC-10000487   10.3840  \n",
       "\n",
       "[9788 rows x 7 columns]"
      ]
     },
     "execution_count": 228,
     "metadata": {},
     "output_type": "execute_result"
    }
   ],
   "source": [
    "temp_sales.drop_duplicates()"
   ]
  },
  {
   "cell_type": "code",
   "execution_count": 229,
   "metadata": {},
   "outputs": [
    {
     "data": {
      "text/plain": [
       "1"
      ]
     },
     "execution_count": 229,
     "metadata": {},
     "output_type": "execute_result"
    }
   ],
   "source": [
    "# Duplicate removed\n",
    "temp_sales.duplicated().sum()"
   ]
  },
  {
   "cell_type": "code",
   "execution_count": 230,
   "metadata": {},
   "outputs": [
    {
     "data": {
      "text/plain": [
       "Order ID       4916\n",
       "Order Date     1229\n",
       "Ship Date      1326\n",
       "Ship Mode         4\n",
       "Customer ID     793\n",
       "Product ID     1848\n",
       "Sales          5750\n",
       "dtype: int64"
      ]
     },
     "execution_count": 230,
     "metadata": {},
     "output_type": "execute_result"
    }
   ],
   "source": [
    "temp_sales.nunique()"
   ]
  },
  {
   "cell_type": "code",
   "execution_count": 231,
   "metadata": {},
   "outputs": [
    {
     "data": {
      "text/plain": [
       "9789"
      ]
     },
     "execution_count": 231,
     "metadata": {},
     "output_type": "execute_result"
    }
   ],
   "source": [
    "len(temp_sales)"
   ]
  },
  {
   "cell_type": "markdown",
   "metadata": {},
   "source": [
    "We have 9788 Sales data, but only 4916 order IDs. This means that multiple products have been purchased under single Order ID as well. But we should still check it out."
   ]
  },
  {
   "cell_type": "code",
   "execution_count": 232,
   "metadata": {},
   "outputs": [],
   "source": [
    "sales_pk_map = dict()\n",
    "for index, row in temp_sales.iterrows():\n",
    "    pk = (row['Order ID'], row['Product ID'])\n",
    "    if pk not in sales_pk_map.keys():\n",
    "        sales_pk_map[pk] = 1\n",
    "    else:\n",
    "        sales_pk_map[pk] += 1"
   ]
  },
  {
   "cell_type": "code",
   "execution_count": 233,
   "metadata": {},
   "outputs": [
    {
     "name": "stdout",
     "output_type": "stream",
     "text": [
      "('CA-2017-129714', '13OFF-PA-10001970') 2\n",
      "('US-2017-123750', 'TEC-AC-10004659') 2\n",
      "('CA-2017-137043', 'FUR-FU-10003664') 2\n",
      "('CA-2018-152912', 'OFF-ST-10003208') 2\n",
      "('US-2015-150119', 'FUR-CH-10002965') 2\n",
      "('CA-2016-103135', 'OFF-BI-10000069') 2\n",
      "('CA-2018-118017', 'TEC-AC-10002006') 2\n",
      "('CA-2017-140571', 'OFF-PA-10001954') 2\n"
     ]
    }
   ],
   "source": [
    "for key, value in sales_pk_map.items():\n",
    "    if value > 1:\n",
    "        print(key, value)"
   ]
  },
  {
   "cell_type": "markdown",
   "metadata": {},
   "source": [
    "This means that Order ID and Product IDs are not unique together for 7 instances. Now, is customer ID also involved? Sales? Order date? Lets find out."
   ]
  },
  {
   "cell_type": "code",
   "execution_count": 234,
   "metadata": {},
   "outputs": [
    {
     "name": "stdout",
     "output_type": "stream",
     "text": [
      "For Customer ID with Order ID and Product ID\n",
      "('CA-2017-129714', 'AB-10060', '13OFF-PA-10001970') 2\n",
      "('US-2017-123750', 'RB-19795', 'TEC-AC-10004659') 2\n",
      "('CA-2017-137043', 'LC-17140', 'FUR-FU-10003664') 2\n",
      "('CA-2018-152912', 'BM-11650', 'OFF-ST-10003208') 2\n",
      "('US-2015-150119', 'LB-16795', 'FUR-CH-10002965') 2\n",
      "('CA-2016-103135', 'SS-20515', 'OFF-BI-10000069') 2\n",
      "('CA-2018-118017', 'LC-16870', 'TEC-AC-10002006') 2\n",
      "('CA-2017-140571', 'SJ-20125', 'OFF-PA-10001954') 2\n",
      "--------------------------------------------------\n",
      "For Sales with Order ID and Product ID\n",
      "('US-2015-150119', 281.372, 'FUR-CH-10002965') 2\n",
      "--------------------------------------------------\n",
      "For Order Date with Order ID and Product ID\n",
      "('CA-2017-129714', '01/09/2017', '13OFF-PA-10001970') 2\n",
      "('US-2017-123750', '15/04/2017', 'TEC-AC-10004659') 2\n",
      "('CA-2017-137043', '23/12/2017', 'FUR-FU-10003664') 2\n",
      "('CA-2018-152912', '09/11/2018', 'OFF-ST-10003208') 2\n",
      "('US-2015-150119', '23/04/2015', 'FUR-CH-10002965') 2\n",
      "('CA-2016-103135', '24/07/2016', 'OFF-BI-10000069') 2\n",
      "('CA-2018-118017', '03/12/2018', 'TEC-AC-10002006') 2\n",
      "('CA-2017-140571', '15/03/2017', 'OFF-PA-10001954') 2\n",
      "--------------------------------------------------\n",
      "For Ship Date with Order ID and Product ID\n",
      "('CA-2017-129714', '03/09/2017', '13OFF-PA-10001970') 2\n",
      "('US-2017-123750', '21/04/2017', 'TEC-AC-10004659') 2\n",
      "('CA-2017-137043', '25/12/2017', 'FUR-FU-10003664') 2\n",
      "('CA-2018-152912', '12/11/2018', 'OFF-ST-10003208') 2\n",
      "('US-2015-150119', '27/04/2015', 'FUR-CH-10002965') 2\n",
      "('CA-2016-103135', '28/07/2016', 'OFF-BI-10000069') 2\n",
      "('CA-2018-118017', '06/12/2018', 'TEC-AC-10002006') 2\n",
      "('CA-2017-140571', '19/03/2017', 'OFF-PA-10001954') 2\n",
      "--------------------------------------------------\n",
      "For Ship Mode with Order ID and Product ID\n",
      "('CA-2017-129714', 'First Class', '13OFF-PA-10001970') 2\n",
      "('US-2017-123750', 'Standard Class', 'TEC-AC-10004659') 2\n",
      "('CA-2017-137043', 'Second Class', 'FUR-FU-10003664') 2\n",
      "('CA-2018-152912', 'Second Class', 'OFF-ST-10003208') 2\n",
      "('US-2015-150119', 'Standard Class', 'FUR-CH-10002965') 2\n",
      "('CA-2016-103135', 'Standard Class', 'OFF-BI-10000069') 2\n",
      "('CA-2018-118017', 'Second Class', 'TEC-AC-10002006') 2\n",
      "('CA-2017-140571', 'Standard Class', 'OFF-PA-10001954') 2\n",
      "--------------------------------------------------\n"
     ]
    }
   ],
   "source": [
    "\n",
    "pk_combs = ['Customer ID', 'Sales', 'Order Date', 'Ship Date', 'Ship Mode']\n",
    "for ele in pk_combs:\n",
    "    print(f\"For {ele} with Order ID and Product ID\")\n",
    "    sales_pk_map = dict()\n",
    "    for index, row in temp_sales.iterrows():\n",
    "        pk = (row['Order ID'], row[ele], row['Product ID'])\n",
    "        if pk not in sales_pk_map.keys():\n",
    "            sales_pk_map[pk] = 1\n",
    "        else:\n",
    "            sales_pk_map[pk] += 1\n",
    "\n",
    "    for key, value in sales_pk_map.items():\n",
    "        if value > 1:\n",
    "            print(key, value)\n",
    "    print(\"--------------------------------------------------\")\n",
    "    "
   ]
  },
  {
   "cell_type": "markdown",
   "metadata": {},
   "source": [
    "Aha ! Order ID and Product ID paired up with Sales gives us unique entries for every data except 1. We can change the Order ID for the second occurence to accommodate for it."
   ]
  },
  {
   "cell_type": "code",
   "execution_count": 235,
   "metadata": {},
   "outputs": [],
   "source": [
    "# updating primary key\n",
    "cursor.execute(\"ALTER TABLE Sales DROP PRIMARY KEY\")\n",
    "cursor.execute(\"ALTER TABLE Sales ADD PRIMARY KEY (order_id, product_id, sales)\")"
   ]
  },
  {
   "cell_type": "code",
   "execution_count": 236,
   "metadata": {},
   "outputs": [],
   "source": [
    "def change_name(count, name):\n",
    "    if count[0] == 0:\n",
    "        count[0] += 1\n",
    "        return name\n",
    "    else:\n",
    "        return \"second-\" + name"
   ]
  },
  {
   "cell_type": "code",
   "execution_count": 237,
   "metadata": {},
   "outputs": [],
   "source": [
    "# changing the duplicate row's Order ID to a unique value\n",
    "o_id = \"US-2015-150119\"\n",
    "p_id = \"FUR-CH-10002965\"\n",
    "count = [0]\n",
    "\n",
    "df[\"Order ID\"] = df.apply(lambda row: change_name(count, row['Order ID']) if row['Order ID'] == o_id and row['Product ID'] == p_id else row['Order ID'], axis=1)"
   ]
  },
  {
   "cell_type": "markdown",
   "metadata": {},
   "source": [
    "It should be good now. We are ready to go ahead and populate the table."
   ]
  },
  {
   "cell_type": "code",
   "execution_count": 238,
   "metadata": {},
   "outputs": [],
   "source": [
    "# delete the temporary vars\n",
    "del temp_sales\n",
    "del o_id\n",
    "del p_id\n",
    "del count"
   ]
  },
  {
   "cell_type": "markdown",
   "metadata": {},
   "source": [
    "# Database Population\n",
    "Let us one by one populate our data tables"
   ]
  },
  {
   "cell_type": "code",
   "execution_count": 239,
   "metadata": {},
   "outputs": [
    {
     "data": {
      "text/plain": [
       "Index(['Order ID', 'Order Date', 'Ship Date', 'Ship Mode', 'Customer ID',\n",
       "       'Customer Name', 'Segment', 'City', 'State', 'Postal Code', 'Region',\n",
       "       'Product ID', 'Category', 'Sub-Category', 'Product Name', 'Sales'],\n",
       "      dtype='object')"
      ]
     },
     "execution_count": 239,
     "metadata": {},
     "output_type": "execute_result"
    }
   ],
   "source": [
    "df.columns"
   ]
  },
  {
   "cell_type": "code",
   "execution_count": 240,
   "metadata": {},
   "outputs": [],
   "source": [
    "# we will create a function to parse the date to YYYY-MM-DD format for better consistency, compatibility, and assessibility in SQL\n",
    "\n",
    "def parse_date(date):\n",
    "    date = date.split(\"/\")\n",
    "    if len(date[0]) == 1:\n",
    "        date[0] = \"0\"+date[0]\n",
    "    if len(date[1]) == 1:\n",
    "        date[1] = \"0\"+date[1]\n",
    "    \n",
    "    return f\"{date[2]}-{date[1]}-{date[0]}\""
   ]
  },
  {
   "cell_type": "code",
   "execution_count": 241,
   "metadata": {},
   "outputs": [],
   "source": [
    "# Since our Base data is now consistent, we can start inserting data into all the tables\n",
    "customer_unique_id = set()\n",
    "product_unique_id = set()\n",
    "\n",
    "# Deleting all the rows from tables\n",
    "cursor.execute(\"DELETE FROM Sales\")\n",
    "cursor.execute(\"DELETE FROM Customers\")\n",
    "cursor.execute(\"DELETE FROM Products\")\n",
    "\n",
    "for index,row in df.iterrows():\n",
    "    # Inserting data into Customers table\n",
    "    if row['Customer ID'] not in customer_unique_id:\n",
    "        customer_unique_id.add(row['Customer ID'])\n",
    "        cursor.execute(f\"\"\"\n",
    "                        INSERT INTO Customers (customer_id, customer_name, segment, city, state, postal, region)\n",
    "                        VALUES ('{row['Customer ID']}', \"{row['Customer Name']}\", '{row['Segment']}', '{row['City']}', '{row['State']}', {row['Postal Code']}, '{row['Region']}');\n",
    "                    \"\"\")\n",
    "    \n",
    "    # Inserting data into Products table\n",
    "    if row['Product ID'] not in product_unique_id:\n",
    "        product_unique_id.add(row['Product ID'])\n",
    "        cursor.execute(f\"\"\"\n",
    "                        INSERT INTO Products (product_id, category, sub_category, product_name)\n",
    "                        VALUES ('{row['Product ID']}', '{row['Category']}', '{row['Sub-Category']}', \"{row['Product Name']}\");\n",
    "                    \"\"\")\n",
    "        \n",
    "    # Inserting data into Sales table\n",
    "    o_date = parse_date(row['Order Date'])\n",
    "    s_date = parse_date(row['Ship Date'])\n",
    "    cursor.execute(f\"\"\"\n",
    "                    INSERT INTO Sales (order_id, order_date, ship_date, ship_method, customer_id, product_id, sales)\n",
    "                    VALUES ('{row['Order ID']}', '{o_date}', '{s_date}', '{row['Ship Mode']}', '{row['Customer ID']}', '{row['Product ID']}', {row['Sales']});\n",
    "                    \"\"\")"
   ]
  },
  {
   "cell_type": "code",
   "execution_count": 242,
   "metadata": {},
   "outputs": [],
   "source": [
    "# printing SQL tables\n",
    "def print_table(data):\n",
    "    for i in range(5):\n",
    "        print(data[i])"
   ]
  },
  {
   "cell_type": "code",
   "execution_count": 243,
   "metadata": {},
   "outputs": [
    {
     "name": "stdout",
     "output_type": "stream",
     "text": [
      "('CA-2015-100006', datetime.date(2015, 9, 7), datetime.date(2015, 9, 13), 'Standard Class', 'DK-13375', 'TEC-PH-10002075', 378)\n",
      "('CA-2015-100090', datetime.date(2015, 7, 8), datetime.date(2015, 7, 12), 'Standard Class', 'EB-13705', 'FUR-TA-10003715', 502)\n",
      "('CA-2015-100090', datetime.date(2015, 7, 8), datetime.date(2015, 7, 12), 'Standard Class', 'EB-13705', 'OFF-BI-10001597', 197)\n",
      "('CA-2015-100293', datetime.date(2015, 3, 14), datetime.date(2015, 3, 18), 'Standard Class', 'NF-18475', 'OFF-PA-10000176', 91)\n",
      "('CA-2015-100328', datetime.date(2015, 1, 28), datetime.date(2015, 2, 3), 'Standard Class', 'JC-15340', 'OFF-BI-10000343', 4)\n",
      "--------------------------------------------------\n",
      "('AA-10315', 'Alex Avila', 'Consumer', 'Minneapolis', 'Minnesota', 55407, 'Central')\n",
      "('AA-10375', 'Allen Armold', 'Consumer', 'Mesa', 'Arizona', 85204, 'West')\n",
      "('AA-10480', 'Andrew Allen', 'Consumer', 'Concord', 'North Carolina', 28027, 'South')\n",
      "('AA-10645', 'Anna Andreadi', 'Consumer', 'Chester', 'Pennsylvania', 19013, 'East')\n",
      "('AB-10015', 'Aaron Bergman', 'Consumer', 'Seattle', 'Washington', 98103, 'West')\n",
      "--------------------------------------------------\n",
      "('10TEC-AC-10003832', 'Technology', 'Accessories', 'Logitech\\xa0P710e Mobile Speakerphone')\n",
      "('11OFF-ST-10001228', 'Office Supplies', 'Storage', 'Fellowes Personal Hanging Folder Files, Navy')\n",
      "('12FUR-FU-10004091', 'Furniture', 'Furnishings', \"Howard Miller 13' Diameter Goldtone Round Wall Clock\")\n",
      "('13OFF-PA-10001970', 'Office Supplies', 'Paper', 'Xerox 1881')\n",
      "('14OFF-PA-10001970', 'Office Supplies', 'Paper', 'Xerox 1908')\n"
     ]
    }
   ],
   "source": [
    "cursor.execute(\"SELECT * FROM Sales\")\n",
    "data = cursor.fetchall()\n",
    "print_table(data)\n",
    "print(\"--------------------------------------------------\")\n",
    "\n",
    "cursor.execute(\"SELECT * FROM Customers\")\n",
    "data = cursor.fetchall()\n",
    "print_table(data)\n",
    "print(\"--------------------------------------------------\")\n",
    "\n",
    "cursor.execute(\"SELECT * FROM Products\")\n",
    "data = cursor.fetchall()\n",
    "print_table(data)\n"
   ]
  },
  {
   "cell_type": "code",
   "execution_count": 244,
   "metadata": {},
   "outputs": [],
   "source": [
    "# closing the connection\n",
    "cursor.close()\n",
    "conn.close()"
   ]
  },
  {
   "cell_type": "markdown",
   "metadata": {},
   "source": [
    "We are Done ! Our ETL Process is complete. \n",
    "1. Extraction: Done \n",
    "2. Transformation: Done \n",
    "3. Load: Done. "
   ]
  }
 ],
 "metadata": {
  "kernelspec": {
   "display_name": "Python 3",
   "language": "python",
   "name": "python3"
  },
  "language_info": {
   "codemirror_mode": {
    "name": "ipython",
    "version": 3
   },
   "file_extension": ".py",
   "mimetype": "text/x-python",
   "name": "python",
   "nbconvert_exporter": "python",
   "pygments_lexer": "ipython3",
   "version": "3.11.8"
  }
 },
 "nbformat": 4,
 "nbformat_minor": 2
}
