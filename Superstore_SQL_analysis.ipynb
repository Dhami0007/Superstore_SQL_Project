{
 "cells": [
  {
   "cell_type": "markdown",
   "metadata": {},
   "source": [
    "# Superstore Sales Data Modelling and Analysis in SQL"
   ]
  },
  {
   "cell_type": "code",
   "execution_count": 149,
   "metadata": {},
   "outputs": [],
   "source": [
    "import pandas as pd"
   ]
  },
  {
   "cell_type": "code",
   "execution_count": 150,
   "metadata": {},
   "outputs": [],
   "source": [
    "data = pd.read_csv('Superstore_data.csv')\n",
    "df = pd.DataFrame(data)"
   ]
  },
  {
   "cell_type": "code",
   "execution_count": 151,
   "metadata": {},
   "outputs": [
    {
     "data": {
      "text/html": [
       "<div>\n",
       "<style scoped>\n",
       "    .dataframe tbody tr th:only-of-type {\n",
       "        vertical-align: middle;\n",
       "    }\n",
       "\n",
       "    .dataframe tbody tr th {\n",
       "        vertical-align: top;\n",
       "    }\n",
       "\n",
       "    .dataframe thead th {\n",
       "        text-align: right;\n",
       "    }\n",
       "</style>\n",
       "<table border=\"1\" class=\"dataframe\">\n",
       "  <thead>\n",
       "    <tr style=\"text-align: right;\">\n",
       "      <th></th>\n",
       "      <th>Row ID</th>\n",
       "      <th>Order ID</th>\n",
       "      <th>Order Date</th>\n",
       "      <th>Ship Date</th>\n",
       "      <th>Ship Mode</th>\n",
       "      <th>Customer ID</th>\n",
       "      <th>Customer Name</th>\n",
       "      <th>Segment</th>\n",
       "      <th>Country</th>\n",
       "      <th>City</th>\n",
       "      <th>State</th>\n",
       "      <th>Postal Code</th>\n",
       "      <th>Region</th>\n",
       "      <th>Product ID</th>\n",
       "      <th>Category</th>\n",
       "      <th>Sub-Category</th>\n",
       "      <th>Product Name</th>\n",
       "      <th>Sales</th>\n",
       "    </tr>\n",
       "  </thead>\n",
       "  <tbody>\n",
       "    <tr>\n",
       "      <th>0</th>\n",
       "      <td>1</td>\n",
       "      <td>CA-2017-152156</td>\n",
       "      <td>08/11/2017</td>\n",
       "      <td>11/11/2017</td>\n",
       "      <td>Second Class</td>\n",
       "      <td>CG-12520</td>\n",
       "      <td>Claire Gute</td>\n",
       "      <td>Consumer</td>\n",
       "      <td>United States</td>\n",
       "      <td>Henderson</td>\n",
       "      <td>Kentucky</td>\n",
       "      <td>42420.0</td>\n",
       "      <td>South</td>\n",
       "      <td>FUR-BO-10001798</td>\n",
       "      <td>Furniture</td>\n",
       "      <td>Bookcases</td>\n",
       "      <td>Bush Somerset Collection Bookcase</td>\n",
       "      <td>261.9600</td>\n",
       "    </tr>\n",
       "    <tr>\n",
       "      <th>1</th>\n",
       "      <td>2</td>\n",
       "      <td>CA-2017-152156</td>\n",
       "      <td>08/11/2017</td>\n",
       "      <td>11/11/2017</td>\n",
       "      <td>Second Class</td>\n",
       "      <td>CG-12520</td>\n",
       "      <td>Claire Gute</td>\n",
       "      <td>Consumer</td>\n",
       "      <td>United States</td>\n",
       "      <td>Henderson</td>\n",
       "      <td>Kentucky</td>\n",
       "      <td>42420.0</td>\n",
       "      <td>South</td>\n",
       "      <td>FUR-CH-10000454</td>\n",
       "      <td>Furniture</td>\n",
       "      <td>Chairs</td>\n",
       "      <td>Hon Deluxe Fabric Upholstered Stacking Chairs,...</td>\n",
       "      <td>731.9400</td>\n",
       "    </tr>\n",
       "    <tr>\n",
       "      <th>2</th>\n",
       "      <td>3</td>\n",
       "      <td>CA-2017-138688</td>\n",
       "      <td>12/06/2017</td>\n",
       "      <td>16/06/2017</td>\n",
       "      <td>Second Class</td>\n",
       "      <td>DV-13045</td>\n",
       "      <td>Darrin Van Huff</td>\n",
       "      <td>Corporate</td>\n",
       "      <td>United States</td>\n",
       "      <td>Los Angeles</td>\n",
       "      <td>California</td>\n",
       "      <td>90036.0</td>\n",
       "      <td>West</td>\n",
       "      <td>OFF-LA-10000240</td>\n",
       "      <td>Office Supplies</td>\n",
       "      <td>Labels</td>\n",
       "      <td>Self-Adhesive Address Labels for Typewriters b...</td>\n",
       "      <td>14.6200</td>\n",
       "    </tr>\n",
       "    <tr>\n",
       "      <th>3</th>\n",
       "      <td>4</td>\n",
       "      <td>US-2016-108966</td>\n",
       "      <td>11/10/2016</td>\n",
       "      <td>18/10/2016</td>\n",
       "      <td>Standard Class</td>\n",
       "      <td>SO-20335</td>\n",
       "      <td>Sean O'Donnell</td>\n",
       "      <td>Consumer</td>\n",
       "      <td>United States</td>\n",
       "      <td>Fort Lauderdale</td>\n",
       "      <td>Florida</td>\n",
       "      <td>33311.0</td>\n",
       "      <td>South</td>\n",
       "      <td>FUR-TA-10000577</td>\n",
       "      <td>Furniture</td>\n",
       "      <td>Tables</td>\n",
       "      <td>Bretford CR4500 Series Slim Rectangular Table</td>\n",
       "      <td>957.5775</td>\n",
       "    </tr>\n",
       "    <tr>\n",
       "      <th>4</th>\n",
       "      <td>5</td>\n",
       "      <td>US-2016-108966</td>\n",
       "      <td>11/10/2016</td>\n",
       "      <td>18/10/2016</td>\n",
       "      <td>Standard Class</td>\n",
       "      <td>SO-20335</td>\n",
       "      <td>Sean O'Donnell</td>\n",
       "      <td>Consumer</td>\n",
       "      <td>United States</td>\n",
       "      <td>Fort Lauderdale</td>\n",
       "      <td>Florida</td>\n",
       "      <td>33311.0</td>\n",
       "      <td>South</td>\n",
       "      <td>OFF-ST-10000760</td>\n",
       "      <td>Office Supplies</td>\n",
       "      <td>Storage</td>\n",
       "      <td>Eldon Fold 'N Roll Cart System</td>\n",
       "      <td>22.3680</td>\n",
       "    </tr>\n",
       "  </tbody>\n",
       "</table>\n",
       "</div>"
      ],
      "text/plain": [
       "   Row ID        Order ID  Order Date   Ship Date       Ship Mode Customer ID  \\\n",
       "0       1  CA-2017-152156  08/11/2017  11/11/2017    Second Class    CG-12520   \n",
       "1       2  CA-2017-152156  08/11/2017  11/11/2017    Second Class    CG-12520   \n",
       "2       3  CA-2017-138688  12/06/2017  16/06/2017    Second Class    DV-13045   \n",
       "3       4  US-2016-108966  11/10/2016  18/10/2016  Standard Class    SO-20335   \n",
       "4       5  US-2016-108966  11/10/2016  18/10/2016  Standard Class    SO-20335   \n",
       "\n",
       "     Customer Name    Segment        Country             City       State  \\\n",
       "0      Claire Gute   Consumer  United States        Henderson    Kentucky   \n",
       "1      Claire Gute   Consumer  United States        Henderson    Kentucky   \n",
       "2  Darrin Van Huff  Corporate  United States      Los Angeles  California   \n",
       "3   Sean O'Donnell   Consumer  United States  Fort Lauderdale     Florida   \n",
       "4   Sean O'Donnell   Consumer  United States  Fort Lauderdale     Florida   \n",
       "\n",
       "   Postal Code Region       Product ID         Category Sub-Category  \\\n",
       "0      42420.0  South  FUR-BO-10001798        Furniture    Bookcases   \n",
       "1      42420.0  South  FUR-CH-10000454        Furniture       Chairs   \n",
       "2      90036.0   West  OFF-LA-10000240  Office Supplies       Labels   \n",
       "3      33311.0  South  FUR-TA-10000577        Furniture       Tables   \n",
       "4      33311.0  South  OFF-ST-10000760  Office Supplies      Storage   \n",
       "\n",
       "                                        Product Name     Sales  \n",
       "0                  Bush Somerset Collection Bookcase  261.9600  \n",
       "1  Hon Deluxe Fabric Upholstered Stacking Chairs,...  731.9400  \n",
       "2  Self-Adhesive Address Labels for Typewriters b...   14.6200  \n",
       "3      Bretford CR4500 Series Slim Rectangular Table  957.5775  \n",
       "4                     Eldon Fold 'N Roll Cart System   22.3680  "
      ]
     },
     "execution_count": 151,
     "metadata": {},
     "output_type": "execute_result"
    }
   ],
   "source": [
    "df.head()"
   ]
  },
  {
   "cell_type": "code",
   "execution_count": 152,
   "metadata": {},
   "outputs": [
    {
     "data": {
      "text/plain": [
       "['Row ID',\n",
       " 'Order ID',\n",
       " 'Order Date',\n",
       " 'Ship Date',\n",
       " 'Ship Mode',\n",
       " 'Customer ID',\n",
       " 'Customer Name',\n",
       " 'Segment',\n",
       " 'Country',\n",
       " 'City',\n",
       " 'State',\n",
       " 'Postal Code',\n",
       " 'Region',\n",
       " 'Product ID',\n",
       " 'Category',\n",
       " 'Sub-Category',\n",
       " 'Product Name',\n",
       " 'Sales']"
      ]
     },
     "execution_count": 152,
     "metadata": {},
     "output_type": "execute_result"
    }
   ],
   "source": [
    "list(df.columns)"
   ]
  },
  {
   "cell_type": "markdown",
   "metadata": {},
   "source": [
    "From this list of columns, we can see that this sales data can be normalized. <br>\n",
    "This means:\n",
    "1. Customer ID, Customer Name, Segment, Country, City, State, Postal Code can become a separate table named \"Customers\"\n",
    "2. Product ID, Category, and Sub-Category can become a separate table named \"Products\"\n",
    "\n",
    "Also, we can also notice that we do not really need Row ID. The column Invoice ID is good enough column to become primary key for \"Sales\" table."
   ]
  },
  {
   "cell_type": "markdown",
   "metadata": {},
   "source": [
    "# Data Infrastructure\n",
    "\n",
    "As the name of the project suggests, I will be transferring the data to SQL. For that, I will have to use appropriate libraries in python to create a connection with SQL database. "
   ]
  },
  {
   "cell_type": "code",
   "execution_count": 153,
   "metadata": {},
   "outputs": [],
   "source": [
    "# importing connector\n",
    "import mysql.connector\n",
    "import os\n",
    "from dotenv import load_dotenv"
   ]
  },
  {
   "cell_type": "code",
   "execution_count": 154,
   "metadata": {},
   "outputs": [],
   "source": [
    "load_dotenv()\n",
    "db_user = os.getenv('DB_USER')\n",
    "db_password = os.getenv('DB_PASSWORD')\n",
    "\n",
    "# Establishing the connection\n",
    "try:\n",
    "    conn = mysql.connector.connect(\n",
    "        host=\"localhost\",\n",
    "        user= db_user,\n",
    "        password= db_password,\n",
    "    )\n",
    "except mysql.connector.Error as e:\n",
    "    print(f\"Error: {e}\")"
   ]
  },
  {
   "cell_type": "code",
   "execution_count": 155,
   "metadata": {},
   "outputs": [],
   "source": [
    "# creating cursor\n",
    "cursor = conn.cursor()"
   ]
  },
  {
   "cell_type": "code",
   "execution_count": 156,
   "metadata": {},
   "outputs": [
    {
     "name": "stdout",
     "output_type": "stream",
     "text": [
      "('information_schema',)\n",
      "('mysql',)\n",
      "('parks_and_recreation',)\n",
      "('performance_schema',)\n",
      "('sakila',)\n",
      "('superstore_db',)\n",
      "('sys',)\n",
      "('world',)\n"
     ]
    }
   ],
   "source": [
    "# Testing the connection\n",
    "# Let us list all the Schemas/Databases in MySQL\n",
    "cursor.execute(\"SHOW DATABASES\")\n",
    "dbs = cursor.fetchall()\n",
    "for db in dbs:\n",
    "    print(db)"
   ]
  },
  {
   "cell_type": "markdown",
   "metadata": {},
   "source": [
    "Our connection is set up. Now, Let us create separate Database for our Superstore Data."
   ]
  },
  {
   "cell_type": "code",
   "execution_count": 157,
   "metadata": {},
   "outputs": [],
   "source": [
    "# creating Database\n",
    "cursor.execute(\"CREATE SCHEMA IF NOT EXISTS superstore_db\")"
   ]
  },
  {
   "cell_type": "markdown",
   "metadata": {},
   "source": [
    "Now our Data Infrastructure is set up. Let us move to Data modelling now."
   ]
  },
  {
   "cell_type": "markdown",
   "metadata": {},
   "source": [
    "# Data Modelling\n",
    "Now we will be creating the tables we discussed above:\n",
    "1. Products\n",
    "2. Customers\n",
    "3. Sales\n",
    "\n",
    "For making Data modelling easier, I will be using [Quick DBD](https://www.quickdatabasediagrams.com/) platform which is efficient for data modelling in SQL.<br>The schema generated is present in the \"quickDB_schema.txt\" file"
   ]
  },
  {
   "cell_type": "code",
   "execution_count": 158,
   "metadata": {},
   "outputs": [],
   "source": [
    "# Selecting the database\n",
    "cursor.execute(\"USE superstore_db\")"
   ]
  },
  {
   "cell_type": "code",
   "execution_count": 159,
   "metadata": {},
   "outputs": [],
   "source": [
    "# Creating table \"Products\"\n",
    "cursor.execute(\"DROP TABLE IF EXISTS Products\")\n",
    "cursor.execute(\"\"\"\n",
    "               CREATE TABLE `Products` (\n",
    "                `product_id` VARCHAR(255)  NOT NULL ,\n",
    "                `category` VARCHAR(255)  NOT NULL ,\n",
    "                `sub_category` VARCHAR(255)  NOT NULL ,\n",
    "                `product_name` VARCHAR(255)  NOT NULL ,\n",
    "                PRIMARY KEY (\n",
    "                    `product_id`\n",
    "                )\n",
    "            );\n",
    "            \"\"\")"
   ]
  },
  {
   "cell_type": "code",
   "execution_count": 160,
   "metadata": {},
   "outputs": [],
   "source": [
    "# Creating table \"Customers\"\n",
    "cursor.execute(\"DROP TABLE IF EXISTS Customers\")\n",
    "cursor.execute(\"\"\"\n",
    "                CREATE TABLE `Customers` (\n",
    "                    `customer_id` VARCHAR(255)  NOT NULL ,\n",
    "                    `customer_name` VARCHAR(255)  NOT NULL ,\n",
    "                    `segment` VARCHAR(255)  NOT NULL ,\n",
    "                    `city` VARCHAR(255)  NOT NULL ,\n",
    "                    `state` VARCHAR(255)  NOT NULL ,\n",
    "                    `country` VARCHAR(255)  NOT NULL ,\n",
    "                    `postal` INT  NOT NULL ,\n",
    "                    `region` VARCHAR(255)  NOT NULL ,\n",
    "                    PRIMARY KEY (\n",
    "                        `customer_id`\n",
    "                    )\n",
    "                );\n",
    "                \"\"\")"
   ]
  },
  {
   "cell_type": "code",
   "execution_count": 197,
   "metadata": {},
   "outputs": [],
   "source": [
    "# Creating table \"Sales\"\n",
    "cursor.execute(\"DROP TABLE IF EXISTS Sales\")\n",
    "cursor.execute(\"\"\"\n",
    "                CREATE TABLE `Sales` (\n",
    "                `order_id` VARCHAR(255)  NOT NULL ,\n",
    "                `order_date` DATE  NOT NULL ,\n",
    "                `ship_date` DATE  NOT NULL ,\n",
    "                `ship_method` VARCHAR(255)  NOT NULL ,\n",
    "                `customer_id` VARCHAR(255)  NOT NULL ,\n",
    "                `product_id` VARCHAR(255)  NOT NULL ,\n",
    "                `sales` INT  NOT NULL ,\n",
    "                PRIMARY KEY (\n",
    "                    `order_id`,`product_id`,`sales`\n",
    "                )\n",
    "            );\n",
    "            \"\"\")"
   ]
  },
  {
   "cell_type": "code",
   "execution_count": 162,
   "metadata": {},
   "outputs": [],
   "source": [
    "# Altering tables to add foreign keys\n",
    "cursor.execute(\"\"\"\n",
    "                ALTER TABLE `Sales` ADD FOREIGN KEY (`customer_id`) REFERENCES `Customers`(`customer_id`);\n",
    "                \"\"\")\n",
    "\n",
    "cursor.execute(\"\"\"\n",
    "                ALTER TABLE `Sales` ADD FOREIGN KEY (`product_id`) REFERENCES `Products`(`product_id`);\n",
    "                \"\"\")\n",
    "\n",
    "# Adding constraints for unique ids in products and customers\n",
    "cursor.execute(\"\"\"\n",
    "                ALTER TABLE `Products` ADD UNIQUE (`product_id`);\n",
    "                \"\"\")\n",
    "cursor.execute(\"\"\"\n",
    "                ALTER TABLE `Customers` ADD UNIQUE (`customer_id`);\n",
    "                \"\"\")"
   ]
  },
  {
   "cell_type": "code",
   "execution_count": 163,
   "metadata": {},
   "outputs": [],
   "source": [
    "cursor.execute(\"SHOW TABLES\")"
   ]
  },
  {
   "cell_type": "code",
   "execution_count": 164,
   "metadata": {},
   "outputs": [
    {
     "name": "stdout",
     "output_type": "stream",
     "text": [
      "customers\n",
      "('customer_id', 'varchar(255)', 'NO', 'PRI', None, '')\n",
      "('customer_name', 'varchar(255)', 'NO', '', None, '')\n",
      "('segment', 'varchar(255)', 'NO', '', None, '')\n",
      "('city', 'varchar(255)', 'NO', '', None, '')\n",
      "('state', 'varchar(255)', 'NO', '', None, '')\n",
      "('country', 'varchar(255)', 'NO', '', None, '')\n",
      "('postal', 'int', 'NO', '', None, '')\n",
      "('region', 'varchar(255)', 'NO', '', None, '')\n",
      "-----------------\n",
      "products\n",
      "('product_id', 'varchar(255)', 'NO', 'PRI', None, '')\n",
      "('category', 'varchar(255)', 'NO', '', None, '')\n",
      "('sub_category', 'varchar(255)', 'NO', '', None, '')\n",
      "('product_name', 'varchar(255)', 'NO', '', None, '')\n",
      "-----------------\n",
      "sales\n",
      "('order_id', 'varchar(255)', 'NO', 'PRI', None, '')\n",
      "('order_date', 'date', 'NO', '', None, '')\n",
      "('ship_date', 'date', 'NO', '', None, '')\n",
      "('ship_method', 'varchar(255)', 'NO', '', None, '')\n",
      "('customer_id', 'varchar(255)', 'NO', 'MUL', None, '')\n",
      "('product_id', 'varchar(255)', 'NO', 'PRI', None, '')\n",
      "('sales', 'int', 'NO', '', None, '')\n",
      "-----------------\n"
     ]
    }
   ],
   "source": [
    "# Displaying Tables\n",
    "tables = cursor.fetchall()\n",
    "for table in tables:\n",
    "    print(table[0])\n",
    "    cursor.execute(f\"DESCRIBE {table[0]}\")\n",
    "    for row in cursor.fetchall():\n",
    "        print(row)\n",
    "    print(\"-----------------\")\n"
   ]
  },
  {
   "cell_type": "markdown",
   "metadata": {},
   "source": [
    "The tables have been generated. Now, it is time to populate the tables as per the Data we have in our excel sheet. Let us remove the Null values using python because this is going to become a problem while data transfer."
   ]
  },
  {
   "cell_type": "markdown",
   "metadata": {},
   "source": [
    "# Data Cleaning with Python\n",
    "We are going to remove only the null values using python. We will perform rest of the cleaning with SQL. "
   ]
  },
  {
   "cell_type": "code",
   "execution_count": 192,
   "metadata": {},
   "outputs": [
    {
     "name": "stdout",
     "output_type": "stream",
     "text": [
      "9800\n"
     ]
    },
    {
     "data": {
      "text/plain": [
       "Row ID            0\n",
       "Order ID          0\n",
       "Order Date        0\n",
       "Ship Date         0\n",
       "Ship Mode         0\n",
       "Customer ID       0\n",
       "Customer Name     0\n",
       "Segment           0\n",
       "Country           0\n",
       "City              0\n",
       "State             0\n",
       "Postal Code      11\n",
       "Region            0\n",
       "Product ID        0\n",
       "Category          0\n",
       "Sub-Category      0\n",
       "Product Name      0\n",
       "Sales             0\n",
       "dtype: int64"
      ]
     },
     "execution_count": 192,
     "metadata": {},
     "output_type": "execute_result"
    }
   ],
   "source": [
    "print(len(df))\n",
    "df.isnull().sum()"
   ]
  },
  {
   "cell_type": "markdown",
   "metadata": {},
   "source": [
    "We have 9800 rows out of which only 11 rows have null values. We can remove these rows. It will not make much difference."
   ]
  },
  {
   "cell_type": "code",
   "execution_count": 194,
   "metadata": {},
   "outputs": [
    {
     "name": "stdout",
     "output_type": "stream",
     "text": [
      "9789\n"
     ]
    }
   ],
   "source": [
    "df.dropna(inplace=True)\n",
    "print(len(df))"
   ]
  },
  {
   "cell_type": "markdown",
   "metadata": {},
   "source": [
    "Done"
   ]
  },
  {
   "cell_type": "markdown",
   "metadata": {},
   "source": [
    "# Database Population\n",
    "We will be parsing each row in the excel file and keep on populating our SQL database."
   ]
  },
  {
   "cell_type": "code",
   "execution_count": 165,
   "metadata": {},
   "outputs": [
    {
     "name": "stdout",
     "output_type": "stream",
     "text": [
      "Row ID\n",
      "Order ID\n",
      "Order Date\n",
      "Ship Date\n",
      "Ship Mode\n",
      "Customer ID\n",
      "Customer Name\n",
      "Segment\n",
      "Country\n",
      "City\n",
      "State\n",
      "Postal Code\n",
      "Region\n",
      "Product ID\n",
      "Category\n",
      "Sub-Category\n",
      "Product Name\n",
      "Sales\n"
     ]
    }
   ],
   "source": [
    "# Checking the columns in dataframe\n",
    "for col in df.columns:\n",
    "    print(col)"
   ]
  },
  {
   "cell_type": "code",
   "execution_count": 166,
   "metadata": {},
   "outputs": [],
   "source": [
    "product_cols = ['Product ID', 'Category', 'Sub-Category', 'Product Name']\n",
    "customer_cols = ['Customer ID', 'Customer Name', 'Segment', 'City', 'State', 'Country', 'Postal Code', 'Region']\n",
    "sale_cols = ['Order ID', 'Order Date', 'Ship Date', 'Ship Mode', 'Customer ID', 'Product ID', 'Sales']"
   ]
  },
  {
   "cell_type": "code",
   "execution_count": 167,
   "metadata": {},
   "outputs": [
    {
     "name": "stdout",
     "output_type": "stream",
     "text": [
      "Row ID int64\n",
      "Order ID object\n",
      "Order Date object\n",
      "Ship Date object\n",
      "Ship Mode object\n",
      "Customer ID object\n",
      "Customer Name object\n",
      "Segment object\n",
      "Country object\n",
      "City object\n",
      "State object\n",
      "Postal Code float64\n",
      "Region object\n",
      "Product ID object\n",
      "Category object\n",
      "Sub-Category object\n",
      "Product Name object\n",
      "Sales float64\n"
     ]
    }
   ],
   "source": [
    "# Checking Types of columns\n",
    "for col in df.columns:\n",
    "    print(col, df[col].dtype)"
   ]
  },
  {
   "cell_type": "code",
   "execution_count": 169,
   "metadata": {},
   "outputs": [],
   "source": [
    "# Fixing Date columns\n",
    "df['Order Date'] = pd.to_datetime(df['Order Date'], format='%d/%m/%Y')\n",
    "df['Ship Date'] = pd.to_datetime(df['Ship Date'], format='%d/%m/%Y')"
   ]
  },
  {
   "cell_type": "markdown",
   "metadata": {},
   "source": [
    "Let us populate the data"
   ]
  },
  {
   "cell_type": "code",
   "execution_count": 203,
   "metadata": {},
   "outputs": [],
   "source": [
    "cursor.execute(\"DELETE FROM Products\")\n",
    "cursor.execute(\"DELETE FROM Customers\")\n",
    "cursor.execute(\"DELETE FROM Sales\")\n",
    "\n",
    "\n",
    "for index,row in df.iterrows():\n",
    "    product_id, category, sub_category, product_name = row[product_cols]\n",
    "    customer_id, customer_name, segment, city, state, country, postal, region = row[customer_cols]\n",
    "    order_id, order_date, ship_date, ship_method, customer_id, product_id, sales = row[sale_cols]\n",
    "    # replacing double quotes with single quotes to make parsing easi\n",
    "    product_name = product_name.replace('\"', \"'\")\n",
    "\n",
    "    cursor.execute(f\"\"\"\n",
    "                    INSERT INTO Products (product_id, category, sub_category, product_name)\n",
    "                    VALUES ('{product_id}', '{category}', '{sub_category}', \"{product_name}\")\n",
    "                    ON DUPLICATE KEY UPDATE category = '{category}', sub_category = '{sub_category}', product_name = \"{product_name}\";\n",
    "                   \"\"\")\n",
    "\n",
    "    cursor.execute(f\"\"\"\n",
    "                    INSERT INTO Customers (customer_id, customer_name, segment, city, state, country, postal, region)\n",
    "                    VALUES ('{customer_id}', \"{customer_name}\", '{segment}', '{city}', '{state}', '{country}', '{postal}', '{region}')\n",
    "                    ON DUPLICATE KEY UPDATE customer_name = \"{customer_name}\", segment = '{segment}', city = '{city}', state = '{state}', country = '{country}', postal = '{postal}', region = '{region}';\n",
    "                   \"\"\")\n",
    "        \n",
    "    cursor.execute(f\"\"\"\n",
    "                    INSERT INTO Sales (order_id, order_date, ship_date, ship_method, customer_id, product_id, sales)\n",
    "                    VALUES ('{order_id}', '{order_date}', '{ship_date}', '{ship_method}', '{customer_id}', '{product_id}', '{sales}')\n",
    "                    ON DUPLICATE KEY UPDATE order_date = '{order_date}', ship_date = '{ship_date}', ship_method = '{ship_method}', customer_id = '{customer_id}', product_id = '{product_id}', sales = '{sales}';\n",
    "                   \"\"\")"
   ]
  }
 ],
 "metadata": {
  "kernelspec": {
   "display_name": "Python 3",
   "language": "python",
   "name": "python3"
  },
  "language_info": {
   "codemirror_mode": {
    "name": "ipython",
    "version": 3
   },
   "file_extension": ".py",
   "mimetype": "text/x-python",
   "name": "python",
   "nbconvert_exporter": "python",
   "pygments_lexer": "ipython3",
   "version": "3.11.8"
  }
 },
 "nbformat": 4,
 "nbformat_minor": 2
}
